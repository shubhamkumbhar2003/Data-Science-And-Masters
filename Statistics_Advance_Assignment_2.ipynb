{
 "cells": [
  {
   "cell_type": "markdown",
   "id": "e88caed3-e17a-41e5-9226-5dfaa12e45c8",
   "metadata": {},
   "source": [
    "Q1: What are the Probability Mass Function (PMF) and Probability Density Function (PDF)? Explain with \n",
    "an example."
   ]
  },
  {
   "cell_type": "raw",
   "id": "9af5c1dc-5cfa-484d-8b72-7d8f1bf5e35b",
   "metadata": {},
   "source": [
    "The Difference between Probability Mass Function and Probability Density Function is that in Probability Mass Function Continuous random variables are considered where as in Probability Density Function Only Discrete Random Variables are considered.\n",
    "Examples of Probability Mass Function are \n",
    "1)Bernouli Distribution\n",
    "2)Uniform Distribution\n",
    "3)Poission Distribution \n",
    "Examples of Probability Density Function are \n",
    "1)Normal Distribution\n",
    "2)Log Normal Distribution\n",
    "\n",
    "In pdf there is a particular range given of the data to be analized and from that range a particular output has to be removed where as in pmf a discrete value is given and thus from the value a output has to be removed"
   ]
  },
  {
   "cell_type": "markdown",
   "id": "d46c617b-f68d-42d6-ab80-3721551c2b62",
   "metadata": {},
   "source": [
    "Q2: What is Cumulative Density Function (CDF)? Explain with an example. Why CDF is used?"
   ]
  },
  {
   "cell_type": "raw",
   "id": "47d99e8a-7f60-4c37-b278-326d057325fc",
   "metadata": {},
   "source": [
    "A Cumulative Density Function (CDF) is a concept used in statistics and probability theory to describe the cumulative probability distribution of a random variable. In simple terms, it provides information about the probability that a random variable takes on a value less than or equal to a given value.\n",
    "Probability Calculations: It allows you to easily calculate the probability of a random variable falling within a certain range or being less than or equal to a specific value.\n",
    "\n",
    "Understanding Distribution: It provides insights into the distribution of the random variable and helps visualize how likely certain outcomes are.\n",
    "\n",
    "Comparing Distributions: CDFs can be used to compare different probability distributions and make comparisons between different variables.\n",
    "\n",
    "Statistical Inference: CDFs play a role in hypothesis testing, confidence intervals, and other statistical inference techniques.\n",
    "\n",
    "Modeling and Simulation: CDFs are important in modeling and simulating various real-world processes and systems."
   ]
  },
  {
   "cell_type": "markdown",
   "id": "3579c1a6-deef-40ca-8d39-ba801cb270a5",
   "metadata": {},
   "source": [
    "Q3: What are some examples of situations where the normal distribution might be used as a model? \n",
    "Explain how the parameters of the normal distribution relate to the shape of the distribution."
   ]
  },
  {
   "cell_type": "raw",
   "id": "12a266c8-7a21-40b9-844b-c3bc04386816",
   "metadata": {},
   "source": [
    "1)Biological Traits:-Many biological traits, such as height, weight, and blood pressure, tend to follow a normal distribution. When studying these traits in a population, researchers often assume a normal distribution as a starting point.\n",
    "2)Measurement Errors:-Measurement errors in scientific experiments often approximate a normal distribution. This makes the normal distribution a suitable model for analyzing and correcting measurement inaccuracies.\n",
    "3)Financial Data: Stock prices and returns, as well as other financial indicators, often exhibit a normal distribution\n",
    "4)IQ Scores: Intelligence quotient (IQ) scores of a large population tend to follow a normal distribution.\n",
    "5)Test Scores: In educational testing, the scores on standardized tests often follow a normal distribution.\n",
    "6)Errors in Natural Phenomena: Many natural phenomena, such as the errors in astronomical observations, follow a normal distribution. This is essential for estimating uncertainties and making predictions.\n",
    "Parameters:-Mean (μ): The mean determines the center of the distribution.\n",
    "Standard Deviation (σ): The standard deviation controls the spread or dispersion of the distribution. A larger standard deviation results in a wider distribution, while a smaller standard deviation results in a narrower distribution. It quantifies the amount of variability or uncertainty in the data.\n"
   ]
  },
  {
   "cell_type": "markdown",
   "id": "3d2b371a-ffbf-4878-b046-73fc1d8f6fff",
   "metadata": {},
   "source": [
    "Q4: Explain the importance of Normal Distribution. Give a few real-life examples of Normal \n",
    "Distribution. "
   ]
  },
  {
   "cell_type": "raw",
   "id": "575b2263-bd3f-4f31-a3f5-cb868bc9d2d4",
   "metadata": {},
   "source": [
    "Following points are there for the importance of Normal Distribution in:-\n",
    "1)Central Limit Theorem\n",
    "2)Statistical Inference\n",
    "3)Predictive Modeling:\n",
    "4)Risk Assessment\n",
    "5)Quality Control\n",
    "6)Biostatistics and Medicine\n",
    "7)Social Sciences\n",
    "8)Environmental Studies\n",
    "\n",
    "Examples:-\n",
    "1)Biological Traits:-Many biological traits, such as height, weight, and blood pressure, tend to follow a normal distribution. When studying these traits in a population, researchers often assume a normal distribution as a starting point.\n",
    "2)Measurement Errors:-Measurement errors in scientific experiments often approximate a normal distribution. This makes the normal distribution a suitable model for analyzing and correcting measurement inaccuracies.\n",
    "3)Financial Data: Stock prices and returns, as well as other financial indicators, often exhibit a normal distribution\n",
    "4)IQ Scores: Intelligence quotient (IQ) scores of a large population tend to follow a normal distribution.\n",
    "5)Test Scores: In educational testing, the scores on standardized tests often follow a normal distribution.\n",
    "6)Errors in Natural Phenomena: Many natural phenomena, such as the errors in astronomical observations, follow a normal distribution. This is essential for estimating uncertainties and making predictions.\n"
   ]
  },
  {
   "cell_type": "markdown",
   "id": "0d9e1a52-662b-4725-8a94-2e7dcfa5ecc6",
   "metadata": {},
   "source": [
    "Q5: What is Bernaulli Distribution? Give an Example. What is the difference between Bernoulli \n",
    "Distribution and Binomial Distribution?"
   ]
  },
  {
   "cell_type": "markdown",
   "id": "755564c2-6860-4c38-8658-3b59945a370d",
   "metadata": {},
   "source": [
    "Bernoulli Distribution: Often used for modeling simple yes/no or success/failure scenarios.\n",
    "Binomial Distribution: Used when you have a fixed number of trials with the same probability of success and you want to know the probability of a specific number of successes.\n",
    "A classic example of the Bernoulli distribution is modeling the outcome of a coin flip. If we define \"heads\" as success (1) and \"tails\" as failure (0), then the probability of getting heads (\\(p\\)) is the parameter that characterizes the distribution."
   ]
  },
  {
   "cell_type": "markdown",
   "id": "6b2bc48a-3e9e-4a3b-860b-470583dc45f8",
   "metadata": {},
   "source": [
    "Q6. Consider a dataset with a mean of 50 and a standard deviation of 10. If we assume that the dataset is normally distributed, what is the probability that a randomly selected observation will be greater \n",
    "than 60? Use the appropriate formula and show your calculations."
   ]
  },
  {
   "cell_type": "raw",
   "id": "66258b78-49b7-4d17-a9f1-fc8d9308ea45",
   "metadata": {},
   "source": [
    "The z-score formula is:\n",
    "z = (x - μ) / σ\n",
    "z = (60 - 50) / 10\n",
    "z = 1\n",
    "The Z score in the z-table is 0.8414\n",
    "P(Z > 1) = 1 - 0.8413\n",
    "P(Z > 1) ≈ 0.1587\n",
    "So, the probability that a randomly selected observation from this normally distributed dataset will be greater than 60 is approximately 0.1587, or about 15.87%."
   ]
  },
  {
   "cell_type": "markdown",
   "id": "a1f8224f-61fd-4341-8d5e-b7ddd3efde1b",
   "metadata": {},
   "source": [
    "Q7: Explain uniform Distribution with an example"
   ]
  },
  {
   "cell_type": "raw",
   "id": "0292f447-20c0-4c74-b55a-88b0082f4cb7",
   "metadata": {},
   "source": [
    "In statistics, uniform distribution refers to a type of probability distribution in which all outcomes are equally likely.\n",
    "1] Discrete Uniform Distribution\n",
    "In statistics and probability theory, a discrete uniform distribution is a statistical distribution where the probability of outcomes is equally likely and with finite values. A good example of a discrete uniform distribution would be the possible outcomes of rolling a 6-sided die.The possible values would be 1, 2, 3, 4, 5, or 6. In this case, each of the six numbers has an equal chance of appearing. Therefore, each time the 6-sided die is thrown, each side has a chance of 1/6.\n",
    "2] Continuous Uniform Distribution\n",
    "A continuous uniform distribution (also referred to as rectangular distribution) is a statistical distribution with an infinite number of equally likely measurable values. Unlike discrete random variables, a continuous random variable can take any real value within a specified range.\n"
   ]
  },
  {
   "cell_type": "markdown",
   "id": "e408b767-ed71-45ac-84b3-6f495cbee7a7",
   "metadata": {},
   "source": [
    "Q8: What is the z score? State the importance of the z score."
   ]
  },
  {
   "cell_type": "raw",
   "id": "3edf416f-5cdb-468f-8b36-596dab5b43cf",
   "metadata": {},
   "source": [
    "A z-score measures the distance between a data point and the mean using standard deviations. Z-scores can be positive or negative.The sign tells you whether the observation is above or below the mean. For example, a z-score of +2 indicates that the data point falls two standard deviations above the mean, while a -2 signifies it is two standard deviations below the mean. A z-score of zero equals the mean.\n",
    "Importance of Z-score\n",
    "A z-score is important because it tells where your data lies in the data distribution. For example, if a z-score is 1.5, it is 1.5 standard deviations away from the mean.\n"
   ]
  },
  {
   "cell_type": "markdown",
   "id": "4ae45efc-957f-4310-aa82-d8414cb687e5",
   "metadata": {},
   "source": [
    "Q9: What is Central Limit Theorem? State the significance of the Central Limit Theorem."
   ]
  },
  {
   "cell_type": "raw",
   "id": "a2b96e22-41a9-47bc-96a5-fc5a779dd6a4",
   "metadata": {},
   "source": [
    "The CLT is a statistical theory that states that - if you take a sufficiently large sample size from a population with a finite level of variance, the mean of all samples from that population will be roughly equal to the population mean.\n",
    "Significance:-\n",
    "Political/election polling is a great example of how you can use CLT. These polls are used to estimate the number of people who support a specific candidate. You may have seen these results with confidence intervals on news channels. The CLT aids in this calculation.\n",
    "You use the CLT in various census fields to calculate various population details, electricity consumption, individual salaries, and so on."
   ]
  },
  {
   "cell_type": "markdown",
   "id": "7ed4043c-3319-45d7-ad48-5415b155b4f9",
   "metadata": {},
   "source": [
    "Q10: State the assumptions of the Central Limit Theorem"
   ]
  },
  {
   "cell_type": "raw",
   "id": "59d38eeb-cbcb-47bb-bab6-5189a1e6398e",
   "metadata": {},
   "source": [
    "1)The value of one observation should not be influenced by the values of others.\n",
    "2)Observation should have they should have the same mean and the same variance.\n",
    "3)The underlying population should have a finite variance \n",
    "4)The larger the sample size, the better the approximation to a normal distribution. While there is no strict rule for what constitutes a \"large\" sample size, a common guideline is that a sample size of at least 30 is often sufficient for the CLT to start applying."
   ]
  },
  {
   "cell_type": "code",
   "execution_count": null,
   "id": "f970979a-178b-4a33-beeb-ef2ea704c0cc",
   "metadata": {},
   "outputs": [],
   "source": []
  }
 ],
 "metadata": {
  "kernelspec": {
   "display_name": "Python 3 (ipykernel)",
   "language": "python",
   "name": "python3"
  },
  "language_info": {
   "codemirror_mode": {
    "name": "ipython",
    "version": 3
   },
   "file_extension": ".py",
   "mimetype": "text/x-python",
   "name": "python",
   "nbconvert_exporter": "python",
   "pygments_lexer": "ipython3",
   "version": "3.10.8"
  }
 },
 "nbformat": 4,
 "nbformat_minor": 5
}

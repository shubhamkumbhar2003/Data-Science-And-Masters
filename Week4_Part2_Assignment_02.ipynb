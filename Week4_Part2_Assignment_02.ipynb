{
 "cells": [
  {
   "cell_type": "markdown",
   "id": "5fb01893-257d-47eb-8a76-dead9f8fa35d",
   "metadata": {},
   "source": [
    "Q1. What is Abstraction in OOps? Explain with an example."
   ]
  },
  {
   "cell_type": "markdown",
   "id": "a2aceffd-1151-4aad-a365-1c45fac12640",
   "metadata": {},
   "source": [
    "Abstraction is overall skeleton of the class. We define a class using a decorator and thus that becomes a abstract class. firstly we have to import abc that is abstract class. And Through the abstraction all the relevant data is hidden."
   ]
  },
  {
   "cell_type": "code",
   "execution_count": 1,
   "id": "61ebfa9e-4c61-4840-89b5-45cc99f40e5f",
   "metadata": {},
   "outputs": [],
   "source": [
    "import abc\n",
    "class class1:\n",
    "    @abc.abstractclassmethod #this is done as we have declared the class that is abstract class\n",
    "    def test1(self):\n",
    "        pass\n",
    "    @abc.abstractclassmethod\n",
    "    def test2(self):\n",
    "        pass\n",
    "    @abc.abstractclassmethod\n",
    "    def test3(self):\n",
    "        pass\n"
   ]
  },
  {
   "cell_type": "code",
   "execution_count": 2,
   "id": "22f3717b-1279-4255-8488-09daedab10b8",
   "metadata": {},
   "outputs": [],
   "source": [
    "class maths(class1):\n",
    "    def test1(self):\n",
    "        return \"This is Maths test1\""
   ]
  },
  {
   "cell_type": "code",
   "execution_count": 3,
   "id": "0f8c327b-fcea-4063-95e9-b1a8eb01505d",
   "metadata": {},
   "outputs": [],
   "source": [
    "class english(class1):\n",
    "    def test2(self):\n",
    "        return \"This is for english test2\""
   ]
  },
  {
   "cell_type": "code",
   "execution_count": 4,
   "id": "0ef0692c-2cd2-4057-964e-aeaaa48fde42",
   "metadata": {},
   "outputs": [],
   "source": [
    "maths_obj =maths()"
   ]
  },
  {
   "cell_type": "code",
   "execution_count": 5,
   "id": "7d63cf69-bc53-427e-b025-1b2d4795743d",
   "metadata": {},
   "outputs": [
    {
     "data": {
      "text/plain": [
       "'This is Maths test1'"
      ]
     },
     "execution_count": 5,
     "metadata": {},
     "output_type": "execute_result"
    }
   ],
   "source": [
    "maths_obj.test1()"
   ]
  },
  {
   "cell_type": "code",
   "execution_count": 6,
   "id": "845a168b-6760-4426-968b-340e717aec53",
   "metadata": {},
   "outputs": [],
   "source": [
    "english_obj = english()"
   ]
  },
  {
   "cell_type": "code",
   "execution_count": 7,
   "id": "8f826e7a-7691-4b51-a5eb-08340b2ca096",
   "metadata": {},
   "outputs": [
    {
     "data": {
      "text/plain": [
       "'This is for english test2'"
      ]
     },
     "execution_count": 7,
     "metadata": {},
     "output_type": "execute_result"
    }
   ],
   "source": [
    "english_obj.test2()"
   ]
  },
  {
   "cell_type": "markdown",
   "id": "3a8863d0-d957-4dea-937e-c86a91f3b1a9",
   "metadata": {},
   "source": [
    " Q2) Differentiate between Abstraction and Encapsulation. Explain with an example"
   ]
  },
  {
   "cell_type": "markdown",
   "id": "c8f8fa93-b725-4d5e-afe3-54c9acf9c551",
   "metadata": {},
   "source": [
    "Encapsulation can be sceen as a protective shield that prevents the data from being accessed by the code outside this shield. where as in abstraction the functions remains the same in the orgin class but without changing the features we can have the access to that functions. i.e only essential details can be displayed and non-essential details can be hidden."
   ]
  },
  {
   "cell_type": "code",
   "execution_count": 8,
   "id": "2267dbe4-a1da-429c-bcb7-8675c5c6f307",
   "metadata": {},
   "outputs": [],
   "source": [
    "#Example of an Abstraction\n",
    "import abc\n",
    "class subject:\n",
    "    def english(self):\n",
    "        pass\n",
    "    def maths(self):\n",
    "        pass"
   ]
  },
  {
   "cell_type": "code",
   "execution_count": 9,
   "id": "9064d6d4-249e-403d-ac53-c7390083599c",
   "metadata": {},
   "outputs": [],
   "source": [
    "class student1(subject):\n",
    "    def english(self):\n",
    "        return \"Has secured 30\"\n",
    "    def maths(self):\n",
    "        return \"Has Secured 45\""
   ]
  },
  {
   "cell_type": "code",
   "execution_count": 12,
   "id": "2c6dc87f-9924-4db4-93da-e85c0582e6ed",
   "metadata": {},
   "outputs": [],
   "source": [
    "class student2(subject):\n",
    "    def english(self):\n",
    "        return \"Has secured 60\"\n",
    "    def maths(self):\n",
    "        return \"Has Secured 55\"\n",
    "    "
   ]
  },
  {
   "cell_type": "code",
   "execution_count": 13,
   "id": "4a6d943d-2e6e-4833-8bf6-73b782a0f808",
   "metadata": {},
   "outputs": [],
   "source": [
    "student1_obj = student1()"
   ]
  },
  {
   "cell_type": "code",
   "execution_count": 14,
   "id": "8d7a91d7-d629-49f5-a655-5cb73adab234",
   "metadata": {},
   "outputs": [
    {
     "data": {
      "text/plain": [
       "'Has secured 30'"
      ]
     },
     "execution_count": 14,
     "metadata": {},
     "output_type": "execute_result"
    }
   ],
   "source": [
    "student1_obj.english()"
   ]
  },
  {
   "cell_type": "code",
   "execution_count": 15,
   "id": "6eb68b30-ebca-4c6e-b1b1-d142472d227e",
   "metadata": {},
   "outputs": [],
   "source": [
    "#Encapsulation Example\n",
    "class abc:\n",
    "    def __init__(self, name , mail_id , phone_no):\n",
    "        self.name= name\n",
    "        self.__mail_id = mail_id\n",
    "        self.__phone_no = phone_no\n",
    "        "
   ]
  },
  {
   "cell_type": "code",
   "execution_count": 17,
   "id": "e999445c-7a62-4c7d-b3db-a2a17c92d4d0",
   "metadata": {},
   "outputs": [],
   "source": [
    "abc_obj = abc(\"shubham\" , \"shubham@gmail.com\" , 9937203724)"
   ]
  },
  {
   "cell_type": "code",
   "execution_count": 18,
   "id": "8e7c7a1a-dc15-4dc9-a26b-7f78d0a5610d",
   "metadata": {},
   "outputs": [
    {
     "data": {
      "text/plain": [
       "'shubham'"
      ]
     },
     "execution_count": 18,
     "metadata": {},
     "output_type": "execute_result"
    }
   ],
   "source": [
    "abc_obj.name"
   ]
  },
  {
   "cell_type": "code",
   "execution_count": 19,
   "id": "d65dcf83-d25e-42ef-9bd5-835b8a343026",
   "metadata": {},
   "outputs": [
    {
     "data": {
      "text/plain": [
       "9937203724"
      ]
     },
     "execution_count": 19,
     "metadata": {},
     "output_type": "execute_result"
    }
   ],
   "source": [
    "abc_obj._abc__phone_no"
   ]
  },
  {
   "cell_type": "markdown",
   "id": "7b20f0db-e328-460a-9f5a-b2422d1cf5ba",
   "metadata": {},
   "source": [
    "Q3. What is abc module in python? Why is it used?"
   ]
  },
  {
   "cell_type": "markdown",
   "id": "66ede351-479f-4d50-a06c-03e5ed990d44",
   "metadata": {},
   "source": [
    "The abc module is used to define the abstraction class method. In simple Words we can tell the programminng language that import abc module for using the abstraction classmethod.Abstract class cannot be instantiated in python.Why use ABC module in Python?\n",
    "Python has a module called abc (abstract base class) that offers the necessary tools for crafting an abstract base class"
   ]
  },
  {
   "cell_type": "markdown",
   "id": "16c5d606-7357-46ff-8296-1718dcf308c5",
   "metadata": {},
   "source": [
    "Q4. How can we achieve data abstraction?"
   ]
  },
  {
   "cell_type": "code",
   "execution_count": 63,
   "id": "07ccb667-588e-4496-94c3-60b245e10ca7",
   "metadata": {},
   "outputs": [],
   "source": [
    "import abc\n",
    "class bank:\n",
    "    @abc.abstractclassmethod\n",
    "    def initial_amount(self , amount):\n",
    "        self.__amount = amount\n",
    "        \n",
    "    @abc.abstractclassmethod\n",
    "    def deposit(self , add):\n",
    "        self.__amount = add + self.__amount\n",
    "        print(self.__amount)\n",
    "    @abc.abstractclassmethod\n",
    "    def withdrawl(self , with_amt):\n",
    "        if self.__amount>=with_amt:\n",
    "            self.__amount =self.__amount - with_amt\n",
    "    @abc.abstractclassmethod\n",
    "    def get_amount(self):\n",
    "        return self.__amount\n",
    "            \n",
    "            "
   ]
  },
  {
   "cell_type": "code",
   "execution_count": 64,
   "id": "786808f2-e61e-4108-ac49-1457b10d150d",
   "metadata": {},
   "outputs": [],
   "source": [
    "bank_obj = bank()"
   ]
  },
  {
   "cell_type": "code",
   "execution_count": 65,
   "id": "9737dc80-f122-4804-9228-bb6bfe7eef40",
   "metadata": {},
   "outputs": [],
   "source": [
    "bank_obj.initial_amount(100)"
   ]
  },
  {
   "cell_type": "code",
   "execution_count": 66,
   "id": "34aca9f6-3477-424b-a065-18213f90ae06",
   "metadata": {},
   "outputs": [
    {
     "name": "stdout",
     "output_type": "stream",
     "text": [
      "600\n"
     ]
    }
   ],
   "source": [
    "bank_obj.deposit(500)"
   ]
  },
  {
   "cell_type": "code",
   "execution_count": 67,
   "id": "5bda5343-b5be-4a6d-b3aa-b85c89afc451",
   "metadata": {},
   "outputs": [],
   "source": [
    "bank_obj.withdrawl(400)"
   ]
  },
  {
   "cell_type": "code",
   "execution_count": 68,
   "id": "af5e9a08-44c7-4e95-8d7d-82f288e807e1",
   "metadata": {},
   "outputs": [
    {
     "data": {
      "text/plain": [
       "200"
      ]
     },
     "execution_count": 68,
     "metadata": {},
     "output_type": "execute_result"
    }
   ],
   "source": [
    "bank_obj.get_amount()"
   ]
  },
  {
   "cell_type": "markdown",
   "id": "0b29d913-d98f-495e-8dd9-7606b21c1ba5",
   "metadata": {},
   "source": [
    "Q5. Can we create an instance of an abstract class? Explain your answer."
   ]
  },
  {
   "cell_type": "code",
   "execution_count": 69,
   "id": "5b2f5f90-80a3-4964-8f1b-a8ecc4c92672",
   "metadata": {},
   "outputs": [],
   "source": [
    "#from this function is declared as abstract\n",
    "import abc\n",
    "class my_abstract_class:\n",
    "    @abc.abstractclassmethod\n",
    "    def my_abs_method(self):\n",
    "        pass\n",
    "    \n",
    "    \n",
    "    \n",
    "class my_concrete_class:\n",
    "    def my_abs_method(self):\n",
    "        print(\"Implementation of my_abstract_method\")"
   ]
  },
  {
   "cell_type": "code",
   "execution_count": 74,
   "id": "ed66e562-ab7e-4b9e-abdc-dd418dbdf7bb",
   "metadata": {},
   "outputs": [],
   "source": [
    "my_abstract_obj = my_abstract_class()"
   ]
  },
  {
   "cell_type": "code",
   "execution_count": 71,
   "id": "2c725998-4d22-4300-91a6-44a1e13ed500",
   "metadata": {},
   "outputs": [],
   "source": [
    "my_concrete_obj = my_concrete_class()"
   ]
  },
  {
   "cell_type": "code",
   "execution_count": 72,
   "id": "36bd8ad7-3d71-44ad-93dd-19a105605973",
   "metadata": {},
   "outputs": [
    {
     "name": "stdout",
     "output_type": "stream",
     "text": [
      "Implementation of my_abstract_method\n"
     ]
    }
   ],
   "source": [
    "my_concrete_obj.my_abs_method()"
   ]
  },
  {
   "cell_type": "code",
   "execution_count": 73,
   "id": "8360f81e-538e-4ef0-9246-a743fb7d224f",
   "metadata": {},
   "outputs": [],
   "source": [
    "my_abstract_obj.my_abs_method()"
   ]
  },
  {
   "cell_type": "code",
   "execution_count": 75,
   "id": "03eadebf-7a82-461b-ad66-2afe688c8d0c",
   "metadata": {},
   "outputs": [
    {
     "ename": "TypeError",
     "evalue": "Can't instantiate abstract class MyAbstractClass with abstract method my_abstract_method",
     "output_type": "error",
     "traceback": [
      "\u001b[0;31m---------------------------------------------------------------------------\u001b[0m",
      "\u001b[0;31mTypeError\u001b[0m                                 Traceback (most recent call last)",
      "Cell \u001b[0;32mIn[75], line 13\u001b[0m\n\u001b[1;32m     10\u001b[0m         \u001b[38;5;28mprint\u001b[39m(\u001b[38;5;124m\"\u001b[39m\u001b[38;5;124mImplementation of my_abstract_method\u001b[39m\u001b[38;5;124m\"\u001b[39m)\n\u001b[1;32m     12\u001b[0m \u001b[38;5;66;03m# Trying to instantiate an abstract class will raise an error\u001b[39;00m\n\u001b[0;32m---> 13\u001b[0m my_abstract_obj \u001b[38;5;241m=\u001b[39m \u001b[43mMyAbstractClass\u001b[49m\u001b[43m(\u001b[49m\u001b[43m)\u001b[49m  \u001b[38;5;66;03m# Raises TypeError\u001b[39;00m\n\u001b[1;32m     15\u001b[0m \u001b[38;5;66;03m# Instantiate a concrete class derived from the abstract class\u001b[39;00m\n\u001b[1;32m     16\u001b[0m my_concrete_obj \u001b[38;5;241m=\u001b[39m MyConcreteClass()\n",
      "\u001b[0;31mTypeError\u001b[0m: Can't instantiate abstract class MyAbstractClass with abstract method my_abstract_method"
     ]
    }
   ],
   "source": [
    "#from this code class is mentioned as an abstract cass\n",
    "from abc import ABC, abstractmethod\n",
    "\n",
    "class MyAbstractClass(ABC):\n",
    "    @abstractmethod\n",
    "    def my_abstract_method(self):\n",
    "        pass\n",
    "\n",
    "class MyConcreteClass(MyAbstractClass):\n",
    "    def my_abstract_method(self):\n",
    "        print(\"Implementation of my_abstract_method\")\n",
    "\n",
    "# Trying to instantiate an abstract class will raise an error\n",
    "my_abstract_obj = MyAbstractClass()  # Raises TypeError\n",
    "\n",
    "# Instantiate a concrete class derived from the abstract class\n",
    "my_concrete_obj = MyConcreteClass()\n",
    "my_concrete_obj.my_abstract_method()  # Output: Implementation of my_abstract_method\n"
   ]
  }
 ],
 "metadata": {
  "kernelspec": {
   "display_name": "Python 3 (ipykernel)",
   "language": "python",
   "name": "python3"
  },
  "language_info": {
   "codemirror_mode": {
    "name": "ipython",
    "version": 3
   },
   "file_extension": ".py",
   "mimetype": "text/x-python",
   "name": "python",
   "nbconvert_exporter": "python",
   "pygments_lexer": "ipython3",
   "version": "3.10.8"
  }
 },
 "nbformat": 4,
 "nbformat_minor": 5
}

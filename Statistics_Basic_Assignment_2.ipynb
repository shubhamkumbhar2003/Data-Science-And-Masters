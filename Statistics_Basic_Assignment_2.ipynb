{
 "cells": [
  {
   "cell_type": "markdown",
   "id": "4dc536b3-d619-4d24-970b-33e2a6e5e105",
   "metadata": {},
   "source": [
    "Q1. What are the three measures of central tendency?\n"
   ]
  },
  {
   "cell_type": "markdown",
   "id": "8c0f1453-41ef-4d12-b564-87ea31207c4b",
   "metadata": {},
   "source": [
    "Mean: The mean is the most commonly used measure of central tendency. It is calculated by summing up all the values in a data set and then dividing that sum by the total number of values. The mean is sensitive to extreme values, also known as outliers, and can be affected by their presence.\n",
    "\n",
    "Median: The median is the middle value of a data set when the values are arranged in ascending or descending order. If the data set has an odd number of values, the median is the middle value. If the data set has an even number of values, the median is the average of the two middle values. The median is not affected by extreme values, making it a more robust measure in the presence of outliers.\n",
    "\n",
    "Mode: The mode is the value that appears most frequently in a data set."
   ]
  },
  {
   "cell_type": "markdown",
   "id": "75980a23-0b61-4bdf-bb79-b34c2f3d96e4",
   "metadata": {},
   "source": [
    "Q2. What is the difference between the mean, median, and mode? How are they used to measure the \n",
    "central tendency of a dataset?"
   ]
  },
  {
   "cell_type": "raw",
   "id": "b9887fa2-7223-472a-bd81-7bb488542b5b",
   "metadata": {},
   "source": [
    "Use Case:\n",
    "Mean:-the mean is sensitive to extreme values or outliers. If there are extreme values in the dataset, they can significantly impact the mean and may not accurately represent the central tendency in skewed distributions.\n",
    "median:-The median is robust to outliers, meaning extreme values have minimal influence on its value. It is particularly useful in datasets with skewed distributions or when outliers are present.\n",
    "mode:-The mode is not influenced by outliers because it is based on frequency counts and not the actual values.\n",
    "Calculation:\n",
    "Mean:-The mean is the sum of all the values in a dataset divided by the total number of values in the dataset.\n",
    "Median:- The median is the middle value of a dataset when the values are arranged in ascending or descending order.\n",
    "Mode:-  The mode is the value that appears most frequently in a dataset.\n",
    "\n"
   ]
  },
  {
   "cell_type": "raw",
   "id": "d917890f-8729-4184-8bc6-d5f72cfbf965",
   "metadata": {},
   "source": [
    "Q3. Measure the three measures of central tendency for the given height data:\n",
    "\n",
    " [178,177,176,177,178.2,178,175,179,180,175,178.9,176.2,177,172.5,178,176.5]"
   ]
  },
  {
   "cell_type": "code",
   "execution_count": 5,
   "id": "50853a61-b369-4687-bdd2-6a36d3332e5d",
   "metadata": {},
   "outputs": [],
   "source": [
    "l1 = [178,177,176,177,178.2,178,175,179,180,175,178.9,176.2,177,172.5,178,176.5]\n",
    "import numpy as np\n",
    "from scipy import stats"
   ]
  },
  {
   "cell_type": "code",
   "execution_count": 6,
   "id": "5160e6f7-ea5b-499d-8a15-dd02e263d4d2",
   "metadata": {},
   "outputs": [
    {
     "data": {
      "text/plain": [
       "177.01875"
      ]
     },
     "execution_count": 6,
     "metadata": {},
     "output_type": "execute_result"
    }
   ],
   "source": [
    "#mean\n",
    "np.mean(l1)"
   ]
  },
  {
   "cell_type": "code",
   "execution_count": 7,
   "id": "207af94d-4a44-436e-83c7-237fa21f653a",
   "metadata": {},
   "outputs": [
    {
     "data": {
      "text/plain": [
       "177.0"
      ]
     },
     "execution_count": 7,
     "metadata": {},
     "output_type": "execute_result"
    }
   ],
   "source": [
    "#median\n",
    "np.median(l1)"
   ]
  },
  {
   "cell_type": "code",
   "execution_count": 8,
   "id": "53696920-d989-4e85-97dc-4001b1863906",
   "metadata": {},
   "outputs": [
    {
     "name": "stderr",
     "output_type": "stream",
     "text": [
      "/tmp/ipykernel_77/1137270990.py:2: FutureWarning: Unlike other reduction functions (e.g. `skew`, `kurtosis`), the default behavior of `mode` typically preserves the axis it acts along. In SciPy 1.11.0, this behavior will change: the default value of `keepdims` will become False, the `axis` over which the statistic is taken will be eliminated, and the value None will no longer be accepted. Set `keepdims` to True or False to avoid this warning.\n",
      "  stats.mode(l1)\n"
     ]
    },
    {
     "data": {
      "text/plain": [
       "ModeResult(mode=array([177.]), count=array([3]))"
      ]
     },
     "execution_count": 8,
     "metadata": {},
     "output_type": "execute_result"
    }
   ],
   "source": [
    "#mode\n",
    "stats.mode(l1)"
   ]
  },
  {
   "cell_type": "markdown",
   "id": "0ff08e12-b23e-45d2-90c4-fa84ad8502e5",
   "metadata": {},
   "source": [
    "Q4. Find the standard deviation for the given data:\n",
    "\n",
    "[178,177,176,177,178.2,178,175,179,180,175,178.9,176.2,177,172.5,178,176.5]"
   ]
  },
  {
   "cell_type": "code",
   "execution_count": 9,
   "id": "7b5a4ad5-8b70-464b-95e0-d18af960025b",
   "metadata": {},
   "outputs": [],
   "source": [
    "l1 = [178,177,176,177,178.2,178,175,179,180,175,178.9,176.2,177,172.5,178,176.5]\n",
    "import numpy as np"
   ]
  },
  {
   "cell_type": "code",
   "execution_count": 11,
   "id": "85d9847a-f904-4086-83da-e6e18e2a37d2",
   "metadata": {},
   "outputs": [
    {
     "data": {
      "text/plain": [
       "1.7885814036548633"
      ]
     },
     "execution_count": 11,
     "metadata": {},
     "output_type": "execute_result"
    }
   ],
   "source": [
    "np.std(l1)"
   ]
  },
  {
   "cell_type": "markdown",
   "id": "8755220d-8822-4c41-8a49-9830e987c800",
   "metadata": {},
   "source": [
    "Q5. How are measures of dispersion such as range, variance, and standard deviation used to describe \n",
    "the spread of a dataset? Provide an example."
   ]
  },
  {
   "cell_type": "raw",
   "id": "6df6e175-a718-45eb-a38d-a7a63dbd1da8",
   "metadata": {},
   "source": [
    "Range: The range is the simplest measure of dispersion and is calculated by subtracting the minimum value from the maximum value in the dataset. It gives an idea of the total spread of the data.\n",
    "Variance: The variance measures the average squared deviation of each data point from the mean. It provides a more comprehensive understanding of how individual data points spread out around the mean.\n",
    "Standard Deviation: The standard deviation is the square root of the variance and is a widely used measure of dispersion. It provides a more interpretable measure of how spread out the data points are, as it is in the same units as the original data.\n"
   ]
  },
  {
   "cell_type": "code",
   "execution_count": 13,
   "id": "1bbb4359-c071-4559-b072-8fdbc19d0406",
   "metadata": {},
   "outputs": [
    {
     "data": {
      "text/plain": [
       "5.885575587824865"
      ]
     },
     "execution_count": 13,
     "metadata": {},
     "output_type": "execute_result"
    }
   ],
   "source": [
    "l1 = [85,88,92,78,95]\n",
    "import numpy as np\n",
    "np.std(l1)"
   ]
  },
  {
   "cell_type": "code",
   "execution_count": 17,
   "id": "a8e0b8df-13c3-4c8b-99a8-f79d6e9272dd",
   "metadata": {},
   "outputs": [],
   "source": [
    "# For we have the max and min value i.e max= 95 and min = 78 thus range = max-min = 95-78 =17"
   ]
  },
  {
   "cell_type": "code",
   "execution_count": 18,
   "id": "8b352f51-2dd9-4277-9eae-d210625b2116",
   "metadata": {},
   "outputs": [
    {
     "data": {
      "text/plain": [
       "34.64"
      ]
     },
     "execution_count": 18,
     "metadata": {},
     "output_type": "execute_result"
    }
   ],
   "source": [
    "np.var(l1)"
   ]
  },
  {
   "cell_type": "markdown",
   "id": "25928e81-c6e8-428e-b7d1-85ab4cf70eaf",
   "metadata": {},
   "source": [
    "Q6. What is a Venn diagram?"
   ]
  },
  {
   "cell_type": "markdown",
   "id": "9aa69854-ef30-4aaf-9970-aca16282a77f",
   "metadata": {},
   "source": [
    "A Venn diagram is a graphical representation of the relationships between different sets or groups. It uses overlapping circles (or sometimes other shapes) to show the common and distinct elements among the sets. Each circle in the diagram represents a set, and the overlapping regions represent the elements shared by the corresponding sets."
   ]
  },
  {
   "cell_type": "raw",
   "id": "49a8b0cf-dd58-4614-94f2-f88fe597c3f5",
   "metadata": {},
   "source": [
    "Q7. For the two given sets A = (2,3,4,5,6,7) & B = (0,2,6,8,10). Find:\n",
    "\n",
    "(i) \t \tA  intersection B\n",
    "\n",
    "(ii)\tA ⋃ B"
   ]
  },
  {
   "cell_type": "raw",
   "id": "0ef4aaa6-aed7-4aac-b353-121b8d4a20fb",
   "metadata": {},
   "source": [
    "i] A intersection B is (2,6)\n",
    "ii] A Union B is (0,2,3,4,5,6,7,8)"
   ]
  },
  {
   "cell_type": "markdown",
   "id": "2861c02b-3d75-48e7-8607-bcb2b691d0c8",
   "metadata": {},
   "source": [
    "Q8. What do you understand about skewness in data?"
   ]
  },
  {
   "cell_type": "markdown",
   "id": "f125ea61-6d16-4d04-bf0f-a625228d565e",
   "metadata": {},
   "source": [
    "Skewness is a statistical measure that describes the asymmetry of the probability distribution of a dataset. In other words, it indicates the extent to which a dataset is not symmetrical around its mean. When a dataset is symmetrical, its left and right halves mirror each other, and the skewness is close to zero. On the other hand, when the dataset is not symmetrical, one tail of the distribution is longer or stretched compared to the other, resulting in a positive or negative skewness value."
   ]
  },
  {
   "cell_type": "markdown",
   "id": "ad3a301e-5b06-48b0-97c8-48b707fc022f",
   "metadata": {},
   "source": [
    "Q9. If a data is right skewed then what will be the position of median with respect to mean?"
   ]
  },
  {
   "cell_type": "markdown",
   "id": "8c886732-d4dc-4ba4-b223-bda049849d74",
   "metadata": {},
   "source": [
    "The Right Skewed data is also known as positive skewed , in that median will be on the left side fo the mean that is the median will be less or equal to the mean. (mode<=median<=mean)"
   ]
  },
  {
   "cell_type": "markdown",
   "id": "5569339e-a3ee-4623-90c7-7f05cc75040d",
   "metadata": {},
   "source": [
    "Q10. Explain the difference between covariance and correlation. How are these measures used in \n",
    "statistical analysis?"
   ]
  },
  {
   "cell_type": "raw",
   "id": "1ce6b6d6-22d0-4cf7-af7a-aab95c06308a",
   "metadata": {},
   "source": [
    "Covariance:\n",
    "Covariance is a measure of how two variables vary together. It quantifies the degree to which changes in one variable are associated with changes in another variable. A positive covariance indicates that when one variable increases, the other tends to increase as well. Conversely, a negative covariance indicates that when one variable increases, the other tends to decrease.\n",
    "Correlation:\n",
    "Correlation is a standardized measure of the linear relationship between two variables. It scales the covariance to a range between -1 and 1, making it easier to interpret and compare. A correlation of +1 indicates a perfect positive linear relationship, a correlation of -1 indicates a perfect negative linear relationship, and a correlation of 0 indicates no linear relationship.\n",
    "\n",
    "Covariance is used to understand the direction of the relationship between two variables. A positive covariance suggests that the variables tend to increase or decrease together, while a negative covariance indicates an inverse relationship.\n",
    "\n",
    "Correlation is widely used to assess the strength and direction of the linear relationship between two variables. It is particularly helpful when comparing datasets with different scales, as it standardizes the measure.\n",
    "\n",
    "Both covariance and correlation are crucial in regression analysis, where we try to model the relationship between a dependent variable and one or more independent variables. Covariance helps in estimating the regression coefficients, while correlation assists in identifying multicollinearity (high intercorrelation) among the independent variables.\n",
    "\n",
    "In portfolio management and finance, covariance and correlation are used to understand the relationships between different assets and to diversify investment risk."
   ]
  },
  {
   "cell_type": "raw",
   "id": "b3eead84-5cc6-4771-863e-7ec43d8bf6a4",
   "metadata": {},
   "source": [
    "Q11. What is the formula for calculating the sample mean? Provide an example calculation for a \n",
    "dataset."
   ]
  },
  {
   "cell_type": "raw",
   "id": "1ea4dd9b-6cad-471c-a0fc-3088f9d970ba",
   "metadata": {},
   "source": [
    "x̄ = Σ(x_i) / n\n",
    "\n",
    "Where:\n",
    "\n",
    "x̄ is the sample mean.\n",
    "x_i represents each individual data point in the dataset.\n",
    "Σ denotes the summation, i.e., adding up all the data points.\n",
    "n is the total number of data points in the dataset.\n",
    "Example Calculation:\n",
    "Let's calculate the sample mean for the following dataset of exam scores: {85, 78, 92, 88, 95}.\n",
    "\n",
    "Step 1: Add up all the data points.\n",
    "Sum = 85 + 78 + 92 + 88 + 95 = 438\n",
    "\n",
    "Step 2: Determine the total number of data points.\n",
    "Number of data points (n) = 5\n",
    "\n",
    "Step 3: Calculate the sample mean using the formula:\n",
    "x̄ = Sum / n\n",
    "x̄ = 438 / 5\n",
    "x̄ ≈ 87.6"
   ]
  },
  {
   "cell_type": "markdown",
   "id": "e937fa60-add1-4732-9ce3-934c09398dd8",
   "metadata": {},
   "source": [
    "Q12. For a normal distribution data what is the relationship between its measure of central tendency?\n"
   ]
  },
  {
   "cell_type": "markdown",
   "id": "3d14c031-385a-4a0f-9476-7e0786f8b578",
   "metadata": {},
   "source": [
    "For a normal distribution, there is a straightforward relationship between its measures of central tendency, which are the mean, median, and mode. In a perfectly symmetrical normal distribution, all three measures of central tendency have the same value\n",
    "In summary, in a perfectly symmetrical normal distribution:\n",
    "\n",
    "Mean = Median = Mode"
   ]
  },
  {
   "cell_type": "markdown",
   "id": "20bfbc5a-256b-4cbb-8d2b-e923e7377fbe",
   "metadata": {},
   "source": [
    "Q13. How is covariance different from correlation?"
   ]
  },
  {
   "cell_type": "raw",
   "id": "30a2da45-8259-4310-9a01-5e248c5c8376",
   "metadata": {},
   "source": [
    "Covariance: Covariance is a measure of how two variables vary together. It indicates the degree to which changes in one variable are associated with changes in another variable. A positive covariance means that when one variable increases, the other tends to increase as well, and vice versa for decreases. A negative covariance indicates that when one variable increases, the other tends to decrease, and vice versa.\n",
    "Correlation: Correlation is a standardized measure of the linear relationship between two variables. It scales the covariance to a range between -1 and 1, making it easier to interpret and compare. A correlation of +1 indicates a perfect positive linear relationship, a correlation of -1 indicates a perfect negative linear relationship, and a correlation of 0 indicates no linear relationship.\n",
    "Scale:\n",
    "Covariance: Covariance values are not standardized and can take any value. The magnitude of the covariance is influenced by the scales of the variables involved. As a result, it may be challenging to compare covariance values across different datasets with different units or scales.\n",
    "Correlation: Correlation, being standardized, is scale-independent and ranges between -1 and 1, providing a consistent measure to compare the strength and direction of the relationship between variables, regardless of their scales.\n",
    "Practical Use:\n",
    "Covariance: Covariance is often used in certain statistical calculations, such as estimating regression coefficients in linear regression. However, it may not be the most intuitive measure for assessing the strength of the relationship between variables due to its scale dependence.\n",
    "Correlation: Correlation is widely used in various fields, including finance, social sciences, and data analysis, as it provides a more standardized and meaningful measure of the relationship between variables. It is particularly useful when comparing datasets with different scales or units.\n"
   ]
  },
  {
   "cell_type": "markdown",
   "id": "5c5b9ad7-82e8-4ca0-8ebd-d6efe139f58f",
   "metadata": {},
   "source": [
    "Q14. How do outliers affect measures of central tendency and dispersion? Provide an example."
   ]
  },
  {
   "cell_type": "raw",
   "id": "54be5aa8-af3f-4c2d-9e10-07e76db0cb34",
   "metadata": {},
   "source": [
    "Outliers can have a significant impact on measures of central tendency (mean, median, and mode) and measures of dispersion (range, variance, and standard deviation). Outliers are extreme values that deviate significantly from the majority of data points in a dataset.\n",
    "Mean: Outliers can heavily influence the mean, as it takes into account all values in the dataset. An outlier with an extremely high or low value can pull the mean in its direction, making it unrepresentative of the central location of the majority of the data.\n",
    "Median: The median is less affected by outliers compared to the mean. Since it is the middle value when the data is ordered, it is more robust to extreme values. However, if the dataset has a significant number of outliers, the median can still be shifted away from the central values.\n",
    "Mode: The mode is the value that appears most frequently in the dataset and is not significantly impacted by outliers unless they are repeated several times.\n",
    "For Dispersion\n",
    "Range: Outliers can substantially increase the range by stretching the spread of the data. The range is simply the difference between the maximum and minimum values, so extreme outliers can widen this difference.\n",
    "Variance and Standard Deviation: Both variance and standard deviation are sensitive to outliers since they involve the squared differences from the mean. Outliers can lead to large deviations from the mean, resulting in higher variance and standard deviation.\n",
    "\n",
    "Consider the following dataset representing the ages of a group of individuals: {18, 20, 22, 25, 27, 30, 32, 34, 80}. In this dataset, 80 is an outlier, as it deviates significantly from the other values.\n",
    "\n",
    "Impact on Measures of Central Tendency:\n",
    "\n",
    "Mean: Without the outlier, the mean is (18 + 20 + 22 + 25 + 27 + 30 + 32 + 34) / 8 = 27.625. With the outlier, the mean becomes (18 + 20 + 22 + 25 + 27 + 30 + 32 + 34 + 80) / 9 = 31.333. The outlier significantly shifts the mean upwards.\n",
    "Median: The median without the outlier is 27, and with the outlier, it remains the same at 27. The median is less affected by the outlier.\n",
    "Mode: The mode remains unchanged at 18 since it is the most frequent value in the dataset.\n",
    "Impact on Measures of Dispersion:\n",
    "\n",
    "Range: Without the outlier, the range is 34 - 18 = 16. With the outlier, the range becomes 80 - 18 = 62. The presence of the outlier significantly increases the range.\n",
    "Variance and Standard Deviation: Without the outlier, the variance and standard deviation are relatively small. With the outlier, they increase substantially due to the larger deviations from the mean caused by the outlier."
   ]
  }
 ],
 "metadata": {
  "kernelspec": {
   "display_name": "Python 3 (ipykernel)",
   "language": "python",
   "name": "python3"
  },
  "language_info": {
   "codemirror_mode": {
    "name": "ipython",
    "version": 3
   },
   "file_extension": ".py",
   "mimetype": "text/x-python",
   "name": "python",
   "nbconvert_exporter": "python",
   "pygments_lexer": "ipython3",
   "version": "3.10.8"
  }
 },
 "nbformat": 4,
 "nbformat_minor": 5
}

{
 "cells": [
  {
   "cell_type": "markdown",
   "id": "1f54f46a-6a6b-4d04-a963-2bd2b82bd844",
   "metadata": {},
   "source": [
    "Q1. Explain GET and POST methods"
   ]
  },
  {
   "cell_type": "markdown",
   "id": "bd0bd101-8f39-45af-a7cf-ac796619698c",
   "metadata": {},
   "source": [
    "In simple terms the GET method is used to present the data through URL. And in POST method the data is used to present through Body. In both the cases we are send the Data. For Example:-In GET method we write what we want to search in google and that gets displayed in the url tab while in POST example when we write in signing the account that woun't get displayed in the url tab. "
   ]
  },
  {
   "cell_type": "markdown",
   "id": "b150b323-05c0-4550-8097-864d6f8b7b9f",
   "metadata": {},
   "source": [
    "Q2. Why is request used in Flask?"
   ]
  },
  {
   "cell_type": "markdown",
   "id": "5121c06b-6593-4649-87cc-509e67dd1683",
   "metadata": {},
   "source": [
    "In the client-server architecture, the request object contains all the data that is sent from the client to the server.This data can be recovered using the GET/POST Methods. POST is used when your application expects user input to be received by command or an HTTP request, while GET gets all the information before it even has a chance for submission."
   ]
  },
  {
   "cell_type": "markdown",
   "id": "810b48d8-3c2c-4826-970a-591e0d42d86f",
   "metadata": {},
   "source": [
    "Q3. Why is redirect() used in Flask?"
   ]
  },
  {
   "cell_type": "markdown",
   "id": "d186968d-71f6-4f42-a8b9-2e3a2e8a0d6d",
   "metadata": {},
   "source": [
    "The redirect function allows you to redirect the user to another URL. redirect can be used in Server Components, Client Components, Route Handlers, and Server Actions. If you need to redirect to a 404, use the notFound function instead."
   ]
  },
  {
   "cell_type": "markdown",
   "id": "6f3252e3-27bc-4060-b1aa-8d1a651e6c57",
   "metadata": {},
   "source": [
    "Q4. What are templates in Flask? Why is the render_template() function used?"
   ]
  },
  {
   "cell_type": "markdown",
   "id": "4e0a3387-7289-4077-afae-b9595d67a310",
   "metadata": {},
   "source": [
    "Templates are files that contain static data as well as placeholders for dynamic data. A template is rendered with specific data to produce a final document. Flask uses the Jinja template library to render templates. In your application, you will use templates to render HTML which will display in the user's browser.render_template is a Flask function from the flask. templating package. render_template is used to generate output from a template file based on the Jinja2 engine that is found in the application's templates folder. Note that render_template is typically imported directly from the flask package instead of from flask."
   ]
  },
  {
   "cell_type": "markdown",
   "id": "0d9e9ecd-b95f-488b-8f5d-915e5d3054a0",
   "metadata": {},
   "source": [
    "Q5. Create a simple API. Use Postman to test it. Attach the screenshot of the output in the Jupyter Notebook"
   ]
  },
  {
   "cell_type": "code",
   "execution_count": 1,
   "id": "325149a2-126d-426f-8ceb-79d340dba469",
   "metadata": {},
   "outputs": [
    {
     "name": "stdout",
     "output_type": "stream",
     "text": [
      "Collecting Flask\n",
      "  Downloading Flask-2.3.2-py3-none-any.whl (96 kB)\n",
      "\u001b[2K     \u001b[90m━━━━━━━━━━━━━━━━━━━━━━━━━━━━━━━━━━━━━━━━\u001b[0m \u001b[32m96.9/96.9 kB\u001b[0m \u001b[31m12.1 MB/s\u001b[0m eta \u001b[36m0:00:00\u001b[0m\n",
      "\u001b[?25hRequirement already satisfied: click>=8.1.3 in /opt/conda/lib/python3.10/site-packages (from Flask) (8.1.3)\n",
      "Collecting itsdangerous>=2.1.2\n",
      "  Downloading itsdangerous-2.1.2-py3-none-any.whl (15 kB)\n",
      "Requirement already satisfied: Jinja2>=3.1.2 in /opt/conda/lib/python3.10/site-packages (from Flask) (3.1.2)\n",
      "Collecting blinker>=1.6.2\n",
      "  Downloading blinker-1.6.2-py3-none-any.whl (13 kB)\n",
      "Collecting Werkzeug>=2.3.3\n",
      "  Downloading Werkzeug-2.3.6-py3-none-any.whl (242 kB)\n",
      "\u001b[2K     \u001b[90m━━━━━━━━━━━━━━━━━━━━━━━━━━━━━━━━━━━━━━\u001b[0m \u001b[32m242.5/242.5 kB\u001b[0m \u001b[31m26.8 MB/s\u001b[0m eta \u001b[36m0:00:00\u001b[0m\n",
      "\u001b[?25hRequirement already satisfied: MarkupSafe>=2.0 in /opt/conda/lib/python3.10/site-packages (from Jinja2>=3.1.2->Flask) (2.1.1)\n",
      "Installing collected packages: Werkzeug, itsdangerous, blinker, Flask\n",
      "  Attempting uninstall: blinker\n",
      "    Found existing installation: blinker 1.5\n",
      "    Uninstalling blinker-1.5:\n",
      "      Successfully uninstalled blinker-1.5\n",
      "Successfully installed Flask-2.3.2 Werkzeug-2.3.6 blinker-1.6.2 itsdangerous-2.1.2\n",
      "Note: you may need to restart the kernel to use updated packages.\n"
     ]
    }
   ],
   "source": [
    "pip install Flask"
   ]
  },
  {
   "cell_type": "code",
   "execution_count": 2,
   "id": "1433fca7-e5c8-4307-9626-00a542f7ca52",
   "metadata": {},
   "outputs": [
    {
     "ename": "NameError",
     "evalue": "name 'app' is not defined",
     "output_type": "error",
     "traceback": [
      "\u001b[0;31m---------------------------------------------------------------------------\u001b[0m",
      "\u001b[0;31mNameError\u001b[0m                                 Traceback (most recent call last)",
      "Cell \u001b[0;32mIn[2], line 1\u001b[0m\n\u001b[0;32m----> 1\u001b[0m \u001b[38;5;129m@app\u001b[39m\u001b[38;5;241m.\u001b[39mroute(\u001b[38;5;124m'\u001b[39m\u001b[38;5;124m/postman_data\u001b[39m\u001b[38;5;124m'\u001b[39m,methods \u001b[38;5;241m=\u001b[39m [\u001b[38;5;124m'\u001b[39m\u001b[38;5;124mPOST\u001b[39m\u001b[38;5;124m'\u001b[39m])\n\u001b[1;32m      2\u001b[0m \u001b[38;5;28;01mdef\u001b[39;00m \u001b[38;5;21mmath_operation1\u001b[39m():\n\u001b[1;32m      3\u001b[0m     \u001b[38;5;28;01mif\u001b[39;00m(request\u001b[38;5;241m.\u001b[39mmethod \u001b[38;5;241m==\u001b[39m \u001b[38;5;124m'\u001b[39m\u001b[38;5;124mPOST\u001b[39m\u001b[38;5;124m'\u001b[39m):\n\u001b[1;32m      4\u001b[0m         ops \u001b[38;5;241m=\u001b[39m request\u001b[38;5;241m.\u001b[39mjson[\u001b[38;5;124m'\u001b[39m\u001b[38;5;124moperation\u001b[39m\u001b[38;5;124m'\u001b[39m]\n",
      "\u001b[0;31mNameError\u001b[0m: name 'app' is not defined"
     ]
    }
   ],
   "source": [
    "app = Flask(\n",
    "@app.route('/postman_data',methods = ['POST'])\n",
    "def math_operation1():\n",
    "    if(request.method == 'POST'):\n",
    "        ops = request.json['operation']\n",
    "        num1 = int(request.json['num1'])\n",
    "        num2 = int(request.json['num2'])\n",
    "        if (ops == 'add'):\n",
    "            r = num1 +num2\n",
    "            res = ' the sum of ' + str(num1) + ' and ' + str(num2) + ' is ' + str(r)\n",
    "        if (ops == 'subtract'):\n",
    "            r = num1 -num2\n",
    "            res = ' the subtraction of ' + str(num1) + ' and ' + str(num2) + ' is ' + str(r)\n",
    "        if (ops == 'multiply'):\n",
    "            r = num1 * num2\n",
    "            res = ' the multiplicationn of ' + str(num1) + ' and ' + str(num2) + ' is ' + str(r) \n",
    "        if (ops == 'divide'):\n",
    "            r = num1 /num2\n",
    "            res = ' the division of ' + str(num1) + ' and ' + str(num2) + ' is ' + str(r)\n",
    "        return jsonify(res)\n",
    "          \n",
    "            \n",
    "\n",
    "if __name__==\"__main__\":\n",
    "    app.run(host=\"0.0.0.0\")"
   ]
  },
  {
   "cell_type": "code",
   "execution_count": null,
   "id": "6d68e1f4-4a4d-4b75-b3a7-8e73cd4eb78a",
   "metadata": {},
   "outputs": [],
   "source": []
  }
 ],
 "metadata": {
  "kernelspec": {
   "display_name": "Python 3 (ipykernel)",
   "language": "python",
   "name": "python3"
  },
  "language_info": {
   "codemirror_mode": {
    "name": "ipython",
    "version": 3
   },
   "file_extension": ".py",
   "mimetype": "text/x-python",
   "name": "python",
   "nbconvert_exporter": "python",
   "pygments_lexer": "ipython3",
   "version": "3.10.8"
  }
 },
 "nbformat": 4,
 "nbformat_minor": 5
}

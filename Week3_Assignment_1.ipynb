{
 "cells": [
  {
   "cell_type": "markdown",
   "id": "bd1d338b-ee46-4af0-98fb-7cf85c6fb062",
   "metadata": {},
   "source": [
    "Q1. Which keyword is used to create a function? Create a function to return a list of odd numbers in the \n",
    "range of 1 to 25."
   ]
  },
  {
   "cell_type": "markdown",
   "id": "08128415-b59a-4405-b718-b318233150c4",
   "metadata": {},
   "source": [
    "Keyword def is used to create a name function.\n",
    "Example \" def test1 \" here the declaration is done by def which makes a function named test1"
   ]
  },
  {
   "cell_type": "code",
   "execution_count": 15,
   "id": "ba2d0a55-06b3-4d23-94c7-f28e2ebd8b92",
   "metadata": {},
   "outputs": [],
   "source": [
    "def odd_numbers():\n",
    "    l1 = []\n",
    "    for i in range(1,25):\n",
    "        if i % 2 !=0:\n",
    "            l1.append(i)\n",
    "    return l1\n",
    "            \n",
    "        "
   ]
  },
  {
   "cell_type": "code",
   "execution_count": 16,
   "id": "089aa1d0-f44c-4054-bbd4-6c02119cae52",
   "metadata": {},
   "outputs": [
    {
     "data": {
      "text/plain": [
       "[1, 3, 5, 7, 9, 11, 13, 15, 17, 19, 21, 23]"
      ]
     },
     "execution_count": 16,
     "metadata": {},
     "output_type": "execute_result"
    }
   ],
   "source": [
    "odd_numbers()"
   ]
  },
  {
   "cell_type": "markdown",
   "id": "80f34a5f-b522-4dbb-a3c4-c6564a1e7ee5",
   "metadata": {},
   "source": [
    "Q2. Why *args and **kwargs is used in some functions? Create a function each for *args and **kwargs \n",
    "to demonstrate their use."
   ]
  },
  {
   "cell_type": "markdown",
   "id": "809d2af5-684d-48d0-a045-8e1b191185e5",
   "metadata": {},
   "source": [
    "*args return the datatype know as tuple where as **kwargs returns dictionary type of values. Here the main work of these is that we can pass n number of arguments in the function."
   ]
  },
  {
   "cell_type": "code",
   "execution_count": 18,
   "id": "2256c431-e3c9-4a63-b080-63d680fabd76",
   "metadata": {},
   "outputs": [],
   "source": [
    "def example1(*google):\n",
    "    return google"
   ]
  },
  {
   "cell_type": "code",
   "execution_count": 19,
   "id": "2dba8397-37f0-4e07-a356-5cfd5ff02643",
   "metadata": {},
   "outputs": [
    {
     "data": {
      "text/plain": [
       "(4, 5, 2, 5, 6)"
      ]
     },
     "execution_count": 19,
     "metadata": {},
     "output_type": "execute_result"
    }
   ],
   "source": [
    "example1(4,5,2,5,6)"
   ]
  },
  {
   "cell_type": "code",
   "execution_count": 20,
   "id": "35b1601c-58c7-4089-8017-bec102edf4c7",
   "metadata": {},
   "outputs": [],
   "source": [
    "def example2(**google):\n",
    "    return google"
   ]
  },
  {
   "cell_type": "code",
   "execution_count": 21,
   "id": "31081fa0-673d-4167-a69c-062361743ddf",
   "metadata": {},
   "outputs": [
    {
     "data": {
      "text/plain": [
       "{'a': 'shubham', 'b': 45, 'c': 34.5}"
      ]
     },
     "execution_count": 21,
     "metadata": {},
     "output_type": "execute_result"
    }
   ],
   "source": [
    "example2(a = \"shubham\" , b =45 , c=34.5)"
   ]
  },
  {
   "cell_type": "markdown",
   "id": "d793831f-4b39-4f7a-a309-eb0ce7209cb6",
   "metadata": {},
   "source": [
    "Q3.  What is an iterator in python? Name the method used to initialise the iterator object and the method \n",
    "used for iteration. Use these methods to print the first five elements of the given list [2, 4, 6, 8, 10, 12, 14, \n",
    "16, 18, 20]."
   ]
  },
  {
   "cell_type": "markdown",
   "id": "8e6d156f-060f-4b9c-9ef6-29d575e0edf2",
   "metadata": {},
   "source": [
    "Iterator is a basic function which is used to iter the element one by one. Means the through iterator one by one elements can have access."
   ]
  },
  {
   "cell_type": "markdown",
   "id": "3caded3e-5309-40e3-b026-6e598402a314",
   "metadata": {},
   "source": [
    "As the list is not a iterator type thus we make use of the function known as iter()."
   ]
  },
  {
   "cell_type": "code",
   "execution_count": 33,
   "id": "804c2cf2-a870-43cc-832c-18c73bb2b5ea",
   "metadata": {},
   "outputs": [
    {
     "name": "stdout",
     "output_type": "stream",
     "text": [
      "<class 'list'>\n"
     ]
    }
   ],
   "source": [
    "l1 = [2,4,6,8,10,12,14,16,18,20]\n",
    "print(type(l1))"
   ]
  },
  {
   "cell_type": "code",
   "execution_count": 38,
   "id": "1c2aab46-2d80-439e-aadd-1a373632c381",
   "metadata": {},
   "outputs": [
    {
     "data": {
      "text/plain": [
       "list_iterator"
      ]
     },
     "execution_count": 38,
     "metadata": {},
     "output_type": "execute_result"
    }
   ],
   "source": [
    "l1 = [2,4,6,8,10,12,14,16,18,20]\n",
    "s = iter(l1)\n",
    "type(s)"
   ]
  },
  {
   "cell_type": "code",
   "execution_count": 39,
   "id": "3113d6fc-2fc8-4d15-9374-a2bbf166ca09",
   "metadata": {},
   "outputs": [
    {
     "data": {
      "text/plain": [
       "2"
      ]
     },
     "execution_count": 39,
     "metadata": {},
     "output_type": "execute_result"
    }
   ],
   "source": [
    "next(s)"
   ]
  },
  {
   "cell_type": "code",
   "execution_count": 40,
   "id": "cec0e224-4347-4cae-bf86-263769f7d0bb",
   "metadata": {},
   "outputs": [
    {
     "data": {
      "text/plain": [
       "4"
      ]
     },
     "execution_count": 40,
     "metadata": {},
     "output_type": "execute_result"
    }
   ],
   "source": [
    "next(s)"
   ]
  },
  {
   "cell_type": "code",
   "execution_count": 41,
   "id": "ebfd04d3-5a01-4c46-a780-a95deaa678ef",
   "metadata": {},
   "outputs": [
    {
     "data": {
      "text/plain": [
       "6"
      ]
     },
     "execution_count": 41,
     "metadata": {},
     "output_type": "execute_result"
    }
   ],
   "source": [
    "next(s)"
   ]
  },
  {
   "cell_type": "code",
   "execution_count": 42,
   "id": "837a5635-e807-494c-a099-163b4f2d1b39",
   "metadata": {},
   "outputs": [
    {
     "data": {
      "text/plain": [
       "8"
      ]
     },
     "execution_count": 42,
     "metadata": {},
     "output_type": "execute_result"
    }
   ],
   "source": [
    "next(s)"
   ]
  },
  {
   "cell_type": "code",
   "execution_count": 43,
   "id": "9ef065a8-93dc-4305-a7f8-1723ff4d1ed9",
   "metadata": {},
   "outputs": [
    {
     "data": {
      "text/plain": [
       "10"
      ]
     },
     "execution_count": 43,
     "metadata": {},
     "output_type": "execute_result"
    }
   ],
   "source": [
    "next(s)"
   ]
  },
  {
   "cell_type": "markdown",
   "id": "e47791d1-02d0-47d0-a613-2dfb98755f30",
   "metadata": {},
   "source": [
    " What is a generator function in python? Why yield keyword is used? Give an example of a generator \n",
    "function."
   ]
  },
  {
   "cell_type": "markdown",
   "id": "a5f4e1dc-5488-4a1d-b3c2-a08a27d437bc",
   "metadata": {},
   "source": [
    "Generator is a type of function in which we dont write here return at the end of function , instead we write a key known as yield which is used to throw the value as a output and also generator function throws one output at a time.In simple words generator function act as an interator which throws only one output"
   ]
  },
  {
   "cell_type": "code",
   "execution_count": 1,
   "id": "de04fee9-d517-462c-b880-30a02b85d0f8",
   "metadata": {},
   "outputs": [],
   "source": [
    "def gen_example(n):\n",
    "    total = 0\n",
    "    for i in range(1,n+1):\n",
    "        total = total + i\n",
    "        yield total\n",
    "    print(\"The sum on given number is:\" , total)\n",
    "    \n",
    "    \n"
   ]
  },
  {
   "cell_type": "code",
   "execution_count": 2,
   "id": "32bf0cce-3121-4f5a-879c-0c29fda8dd22",
   "metadata": {},
   "outputs": [
    {
     "name": "stdout",
     "output_type": "stream",
     "text": [
      "1\n",
      "3\n",
      "6\n",
      "10\n",
      "15\n",
      "21\n",
      "28\n",
      "36\n",
      "45\n",
      "55\n",
      "66\n",
      "78\n",
      "91\n",
      "105\n",
      "120\n",
      "The sum on given number is: 120\n"
     ]
    }
   ],
   "source": [
    "for i in gen_example(15):\n",
    "    print(i)"
   ]
  },
  {
   "cell_type": "markdown",
   "id": "64bbe757-1891-40d3-9a9c-a0e2cdd14d77",
   "metadata": {},
   "source": [
    "Q5. Create a generator function for prime numbers less than 1000. Use the next() method to print the \n",
    "first 20 prime numbers."
   ]
  },
  {
   "cell_type": "code",
   "execution_count": 3,
   "id": "f31e27d8-3bd1-4dd0-a766-2224e7004bed",
   "metadata": {},
   "outputs": [],
   "source": [
    "def pnumbers(n):\n",
    "    for i in range(1,n+1):\n",
    "        count = 0\n",
    "        for j in range(1 , i+1):\n",
    "            if i%j==0:\n",
    "                count = count + 1\n",
    "        if count == 2:\n",
    "            yield i\n",
    "            \n",
    "                "
   ]
  },
  {
   "cell_type": "code",
   "execution_count": null,
   "id": "cc82318f-31cc-463e-9f8c-b4af7907e775",
   "metadata": {},
   "outputs": [
    {
     "name": "stdout",
     "output_type": "stream",
     "text": [
      "2\n",
      "3\n",
      "5\n",
      "7\n",
      "11\n",
      "13\n",
      "17\n",
      "19\n",
      "23\n",
      "29\n",
      "31\n",
      "37\n",
      "41\n",
      "43\n",
      "47\n",
      "53\n",
      "59\n",
      "61\n",
      "67\n",
      "71\n",
      "73\n",
      "79\n",
      "83\n",
      "89\n",
      "97\n",
      "101\n",
      "103\n",
      "107\n",
      "109\n",
      "113\n",
      "127\n",
      "131\n",
      "137\n",
      "139\n",
      "149\n",
      "151\n",
      "157\n",
      "163\n",
      "167\n",
      "173\n",
      "179\n",
      "181\n",
      "191\n",
      "193\n",
      "197\n",
      "199\n",
      "211\n",
      "223\n",
      "227\n",
      "229\n",
      "233\n",
      "239\n",
      "241\n",
      "251\n",
      "257\n",
      "263\n",
      "269\n",
      "271\n",
      "277\n",
      "281\n",
      "283\n",
      "293\n",
      "307\n",
      "311\n",
      "313\n",
      "317\n",
      "331\n",
      "337\n",
      "347\n",
      "349\n",
      "353\n",
      "359\n",
      "367\n",
      "373\n",
      "379\n",
      "383\n",
      "389\n",
      "397\n",
      "401\n",
      "409\n",
      "419\n",
      "421\n",
      "431\n",
      "433\n",
      "439\n",
      "443\n",
      "449\n",
      "457\n",
      "461\n",
      "463\n",
      "467\n",
      "479\n",
      "487\n",
      "491\n",
      "499\n",
      "503\n",
      "509\n",
      "521\n",
      "523\n",
      "541\n",
      "547\n",
      "557\n",
      "563\n",
      "569\n",
      "571\n",
      "577\n",
      "587\n",
      "593\n",
      "599\n",
      "601\n",
      "607\n",
      "613\n",
      "617\n",
      "619\n",
      "631\n",
      "641\n",
      "643\n",
      "647\n",
      "653\n",
      "659\n",
      "661\n",
      "673\n",
      "677\n",
      "683\n",
      "691\n",
      "701\n",
      "709\n",
      "719\n",
      "727\n",
      "733\n",
      "739\n",
      "743\n",
      "751\n",
      "757\n",
      "761\n",
      "769\n",
      "773\n",
      "787\n",
      "797\n",
      "809\n",
      "811\n",
      "821\n",
      "823\n",
      "827\n",
      "829\n",
      "839\n",
      "853\n",
      "857\n",
      "859\n",
      "863\n",
      "877\n",
      "881\n",
      "883\n",
      "887\n",
      "907\n",
      "911\n",
      "919\n",
      "929\n",
      "937\n",
      "941\n",
      "947\n",
      "953\n",
      "967\n",
      "971\n",
      "977\n",
      "983\n",
      "991\n",
      "997\n"
     ]
    }
   ],
   "source": [
    "for i in pnumbers(1000):\n",
    "    print(i)"
   ]
  },
  {
   "cell_type": "code",
   "execution_count": 27,
   "id": "f806c5ac-a0ba-4e13-9736-483bcaec297a",
   "metadata": {},
   "outputs": [],
   "source": [
    "s = iter(pnumbers(1000))"
   ]
  },
  {
   "cell_type": "code",
   "execution_count": 28,
   "id": "7639aecf-c28f-4290-b037-1c83121e18ab",
   "metadata": {},
   "outputs": [
    {
     "name": "stdout",
     "output_type": "stream",
     "text": [
      "2\n",
      "3\n",
      "5\n",
      "7\n",
      "11\n",
      "13\n",
      "17\n",
      "19\n",
      "23\n",
      "29\n",
      "31\n",
      "37\n",
      "41\n",
      "43\n",
      "47\n",
      "53\n",
      "59\n",
      "61\n",
      "67\n",
      "71\n"
     ]
    }
   ],
   "source": [
    "for i in range(1,21):\n",
    "    print(next(s))"
   ]
  },
  {
   "cell_type": "markdown",
   "id": "3c13bc89-96f9-4f8b-bfb0-6db14578ceaa",
   "metadata": {},
   "source": [
    "Q6. Write a python program to print the first 10 Fibonacci numbers using a while loop."
   ]
  },
  {
   "cell_type": "code",
   "execution_count": 19,
   "id": "67a3f768-6958-428c-a57e-d9f314a872f9",
   "metadata": {},
   "outputs": [],
   "source": [
    "def fib_num(n):\n",
    "    a,b = 0,1\n",
    "    i=0\n",
    "    while i<n :\n",
    "        print(a)\n",
    "        a,b = b , a+b\n",
    "        i=i+1\n",
    "        \n",
    "        \n",
    "    "
   ]
  },
  {
   "cell_type": "code",
   "execution_count": 20,
   "id": "e889d3f7-e1c3-4655-9475-9313cb9ccfb5",
   "metadata": {},
   "outputs": [
    {
     "name": "stdout",
     "output_type": "stream",
     "text": [
      "0\n",
      "1\n",
      "1\n",
      "2\n",
      "3\n",
      "5\n",
      "8\n",
      "13\n",
      "21\n",
      "34\n"
     ]
    }
   ],
   "source": [
    "fib_num(10)"
   ]
  },
  {
   "cell_type": "markdown",
   "id": "eda0494a-8b55-451c-883f-2c508dec3623",
   "metadata": {},
   "source": [
    "Q7. Write a List Comprehension to iterate through the given string: ‘pwskills’.\n",
    "\n",
    "Expected output: ['p', 'w', 's', 'k', 'i', 'l', 'l', 's']"
   ]
  },
  {
   "cell_type": "code",
   "execution_count": 42,
   "id": "6f3f4f8e-e722-4e9b-87a8-e916d786a4c8",
   "metadata": {},
   "outputs": [],
   "source": [
    "s = \"pwskills\""
   ]
  },
  {
   "cell_type": "code",
   "execution_count": 43,
   "id": "80540519-21b6-453a-ac8f-200889966927",
   "metadata": {},
   "outputs": [],
   "source": [
    "s1 = iter(s)"
   ]
  },
  {
   "cell_type": "code",
   "execution_count": 44,
   "id": "f82d20c9-3947-4797-bd35-e6a6d2c9efa9",
   "metadata": {},
   "outputs": [
    {
     "name": "stdout",
     "output_type": "stream",
     "text": [
      "['p', 'w', 's', 'k', 'i', 'l', 'l', 's']\n"
     ]
    }
   ],
   "source": [
    "l1 = []\n",
    "for i in range(0,8):\n",
    "    l1.append(next(s1))\n",
    "print(l1)\n",
    "    "
   ]
  },
  {
   "cell_type": "markdown",
   "id": "b1db97ff-f18e-486f-933d-deaaa3916d96",
   "metadata": {},
   "source": [
    " Write a python program to check whether a given number is Palindrome or not using a while loop."
   ]
  },
  {
   "cell_type": "code",
   "execution_count": 50,
   "id": "0017e174-9f00-4f37-b572-dd7e6f9da19d",
   "metadata": {},
   "outputs": [
    {
     "name": "stdin",
     "output_type": "stream",
     "text": [
      "Enter the number:- 525\n"
     ]
    },
    {
     "name": "stdout",
     "output_type": "stream",
     "text": [
      "Yes its palindrome\n"
     ]
    }
   ],
   "source": [
    "i = int(input(\"Enter the number:-\"))\n",
    "rev = 0\n",
    "x = i\n",
    "while i>0:\n",
    "    rev = (rev*10)+i%10\n",
    "    i = i//10\n",
    "if(x==rev):\n",
    "    print(\"Yes its palindrome\")\n",
    "else:\n",
    "    print(\"No its not\")"
   ]
  },
  {
   "cell_type": "markdown",
   "id": "0bb011d5-4071-4146-ad04-bc4411bcb626",
   "metadata": {},
   "source": [
    "Q9. Write a code to print odd numbers from 1 to 100 using list comprehension.\n",
    "\n",
    "Note: Use a list comprehension to create a list from 1 to 100 and use another List comprehension to filter \n",
    "out odd numbers."
   ]
  },
  {
   "cell_type": "code",
   "execution_count": 68,
   "id": "f85ec9b5-8437-4ab1-9bab-55e2f8dc4dfb",
   "metadata": {},
   "outputs": [],
   "source": [
    "a = list(range(0,101))"
   ]
  },
  {
   "cell_type": "code",
   "execution_count": 69,
   "id": "537fec66-4fa5-4056-83da-28ca4f0b1af2",
   "metadata": {},
   "outputs": [
    {
     "data": {
      "text/plain": [
       "[0,\n",
       " 1,\n",
       " 2,\n",
       " 3,\n",
       " 4,\n",
       " 5,\n",
       " 6,\n",
       " 7,\n",
       " 8,\n",
       " 9,\n",
       " 10,\n",
       " 11,\n",
       " 12,\n",
       " 13,\n",
       " 14,\n",
       " 15,\n",
       " 16,\n",
       " 17,\n",
       " 18,\n",
       " 19,\n",
       " 20,\n",
       " 21,\n",
       " 22,\n",
       " 23,\n",
       " 24,\n",
       " 25,\n",
       " 26,\n",
       " 27,\n",
       " 28,\n",
       " 29,\n",
       " 30,\n",
       " 31,\n",
       " 32,\n",
       " 33,\n",
       " 34,\n",
       " 35,\n",
       " 36,\n",
       " 37,\n",
       " 38,\n",
       " 39,\n",
       " 40,\n",
       " 41,\n",
       " 42,\n",
       " 43,\n",
       " 44,\n",
       " 45,\n",
       " 46,\n",
       " 47,\n",
       " 48,\n",
       " 49,\n",
       " 50,\n",
       " 51,\n",
       " 52,\n",
       " 53,\n",
       " 54,\n",
       " 55,\n",
       " 56,\n",
       " 57,\n",
       " 58,\n",
       " 59,\n",
       " 60,\n",
       " 61,\n",
       " 62,\n",
       " 63,\n",
       " 64,\n",
       " 65,\n",
       " 66,\n",
       " 67,\n",
       " 68,\n",
       " 69,\n",
       " 70,\n",
       " 71,\n",
       " 72,\n",
       " 73,\n",
       " 74,\n",
       " 75,\n",
       " 76,\n",
       " 77,\n",
       " 78,\n",
       " 79,\n",
       " 80,\n",
       " 81,\n",
       " 82,\n",
       " 83,\n",
       " 84,\n",
       " 85,\n",
       " 86,\n",
       " 87,\n",
       " 88,\n",
       " 89,\n",
       " 90,\n",
       " 91,\n",
       " 92,\n",
       " 93,\n",
       " 94,\n",
       " 95,\n",
       " 96,\n",
       " 97,\n",
       " 98,\n",
       " 99,\n",
       " 100]"
      ]
     },
     "execution_count": 69,
     "metadata": {},
     "output_type": "execute_result"
    }
   ],
   "source": [
    "a"
   ]
  },
  {
   "cell_type": "code",
   "execution_count": 70,
   "id": "c746cf01-fac5-4974-a1d6-a0923c0e5504",
   "metadata": {},
   "outputs": [
    {
     "data": {
      "text/plain": [
       "[1,\n",
       " 3,\n",
       " 5,\n",
       " 7,\n",
       " 9,\n",
       " 11,\n",
       " 13,\n",
       " 15,\n",
       " 17,\n",
       " 19,\n",
       " 21,\n",
       " 23,\n",
       " 25,\n",
       " 27,\n",
       " 29,\n",
       " 31,\n",
       " 33,\n",
       " 35,\n",
       " 37,\n",
       " 39,\n",
       " 41,\n",
       " 43,\n",
       " 45,\n",
       " 47,\n",
       " 49,\n",
       " 51,\n",
       " 53,\n",
       " 55,\n",
       " 57,\n",
       " 59,\n",
       " 61,\n",
       " 63,\n",
       " 65,\n",
       " 67,\n",
       " 69,\n",
       " 71,\n",
       " 73,\n",
       " 75,\n",
       " 77,\n",
       " 79,\n",
       " 81,\n",
       " 83,\n",
       " 85,\n",
       " 87,\n",
       " 89,\n",
       " 91,\n",
       " 93,\n",
       " 95,\n",
       " 97,\n",
       " 99]"
      ]
     },
     "execution_count": 70,
     "metadata": {},
     "output_type": "execute_result"
    }
   ],
   "source": [
    "list(filter(lambda x:x%2!=0 ,a))"
   ]
  },
  {
   "cell_type": "code",
   "execution_count": null,
   "id": "52aa4bdf-8048-44dc-a7f9-d3caeb164a40",
   "metadata": {},
   "outputs": [],
   "source": []
  }
 ],
 "metadata": {
  "kernelspec": {
   "display_name": "Python 3 (ipykernel)",
   "language": "python",
   "name": "python3"
  },
  "language_info": {
   "codemirror_mode": {
    "name": "ipython",
    "version": 3
   },
   "file_extension": ".py",
   "mimetype": "text/x-python",
   "name": "python",
   "nbconvert_exporter": "python",
   "pygments_lexer": "ipython3",
   "version": "3.10.8"
  }
 },
 "nbformat": 4,
 "nbformat_minor": 5
}

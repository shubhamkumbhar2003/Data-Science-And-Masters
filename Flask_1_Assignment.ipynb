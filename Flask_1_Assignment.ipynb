{
 "cells": [
  {
   "cell_type": "markdown",
   "id": "3e7e31e2-3ed2-4f59-b9ba-06bf060e4b1a",
   "metadata": {},
   "source": [
    "Q1. What is Flask Framework? What are the advantages of Flask Framework?"
   ]
  },
  {
   "cell_type": "markdown",
   "id": "e5aac3fd-3cf8-48a4-97e8-40b61ea65d18",
   "metadata": {},
   "source": [
    "Flask is considered a micro web framework is written in Python programming. The word “micro” means focusing to keep the core extensible but straightforward. It is not dependent upon external libraries to perform the tasks of a framework. Flask framework is more independent, flexible, and simple; so many developers prefer to start with Flask.\n",
    "1)It is a lightweight framework that offers hassle-free development\n",
    "2)Provide flexibility to the developer to experiment with their modules or architecture\n",
    "3)It is suitable for small projects\n",
    "4)Offers a built-in development server and fast debugger\n",
    "5)Easily scalable for the applications\n",
    "6)Support for secure cookies\n",
    "7)Uses Ninja2 Template engine\n",
    "8)It has integrated support for unit testing\n",
    "9)APIs are coherent and neat"
   ]
  },
  {
   "cell_type": "markdown",
   "id": "0cd150d5-1b97-4d69-838c-eea516d40314",
   "metadata": {},
   "source": [
    "Q2. Create a simple Flask application to display ‘Hello World!!’. Attach the screenshot of the output in \n",
    "Jupyter Notebook."
   ]
  },
  {
   "cell_type": "code",
   "execution_count": 2,
   "id": "6935fa20-2e76-461e-aeaf-01a26d134f8b",
   "metadata": {},
   "outputs": [
    {
     "name": "stdout",
     "output_type": "stream",
     "text": [
      "Collecting flask\n",
      "  Downloading Flask-2.3.2-py3-none-any.whl (96 kB)\n",
      "\u001b[2K     \u001b[90m━━━━━━━━━━━━━━━━━━━━━━━━━━━━━━━━━━━━━━━━\u001b[0m \u001b[32m96.9/96.9 kB\u001b[0m \u001b[31m4.2 MB/s\u001b[0m eta \u001b[36m0:00:00\u001b[0m\n",
      "\u001b[?25hCollecting blinker>=1.6.2\n",
      "  Downloading blinker-1.6.2-py3-none-any.whl (13 kB)\n",
      "Collecting itsdangerous>=2.1.2\n",
      "  Downloading itsdangerous-2.1.2-py3-none-any.whl (15 kB)\n",
      "Requirement already satisfied: Jinja2>=3.1.2 in /opt/conda/lib/python3.10/site-packages (from flask) (3.1.2)\n",
      "Collecting Werkzeug>=2.3.3\n",
      "  Downloading Werkzeug-2.3.6-py3-none-any.whl (242 kB)\n",
      "\u001b[2K     \u001b[90m━━━━━━━━━━━━━━━━━━━━━━━━━━━━━━━━━━━━━━\u001b[0m \u001b[32m242.5/242.5 kB\u001b[0m \u001b[31m30.8 MB/s\u001b[0m eta \u001b[36m0:00:00\u001b[0m\n",
      "\u001b[?25hRequirement already satisfied: click>=8.1.3 in /opt/conda/lib/python3.10/site-packages (from flask) (8.1.3)\n",
      "Requirement already satisfied: MarkupSafe>=2.0 in /opt/conda/lib/python3.10/site-packages (from Jinja2>=3.1.2->flask) (2.1.1)\n",
      "Installing collected packages: Werkzeug, itsdangerous, blinker, flask\n",
      "  Attempting uninstall: blinker\n",
      "    Found existing installation: blinker 1.5\n",
      "    Uninstalling blinker-1.5:\n",
      "      Successfully uninstalled blinker-1.5\n",
      "Successfully installed Werkzeug-2.3.6 blinker-1.6.2 flask-2.3.2 itsdangerous-2.1.2\n",
      "Note: you may need to restart the kernel to use updated packages.\n"
     ]
    }
   ],
   "source": [
    "pip install flask"
   ]
  },
  {
   "cell_type": "code",
   "execution_count": null,
   "id": "792d08b1-ee3e-4357-a72b-a56c2f3d0a4e",
   "metadata": {},
   "outputs": [
    {
     "name": "stdout",
     "output_type": "stream",
     "text": [
      " * Serving Flask app '__main__'\n",
      " * Debug mode: off\n"
     ]
    },
    {
     "name": "stderr",
     "output_type": "stream",
     "text": [
      "WARNING: This is a development server. Do not use it in a production deployment. Use a production WSGI server instead.\n",
      " * Running on all addresses (0.0.0.0)\n",
      " * Running on http://127.0.0.1:5000\n",
      " * Running on http://172.18.0.11:5000\n",
      "Press CTRL+C to quit\n",
      "172.18.0.45 - - [11/Aug/2023 07:18:40] \"GET / HTTP/1.1\" 200 -\n",
      "172.18.0.45 - - [11/Aug/2023 07:18:41] \"GET /favicon.ico HTTP/1.1\" 404 -\n"
     ]
    }
   ],
   "source": [
    "from flask import Flask\n",
    "app = Flask(__name__)\n",
    "@app.route(\"/\")\n",
    "def Hello_world():\n",
    "    return \"<h1>Hello World!</h1>\"\n",
    "if __name__==\"__main__\":\n",
    "    app.run(host=\"0.0.0.0\")"
   ]
  },
  {
   "cell_type": "markdown",
   "id": "a4b5581d-1f0f-4750-aef6-a1d5cbd3ed4a",
   "metadata": {},
   "source": [
    "![](output.png)"
   ]
  },
  {
   "cell_type": "markdown",
   "id": "c77977d0-4e7f-4309-9d3c-153d25e03068",
   "metadata": {},
   "source": [
    "Q3. What is App routing in Flask? Why do we use app routes?"
   ]
  },
  {
   "cell_type": "markdown",
   "id": "73443395-8d3a-4c26-a679-1ff7f09af037",
   "metadata": {},
   "source": [
    "App routing is the technique used to map the specific URL with the associated function intended to perform some task. We use the routing technique to help users remember application URLs. It is helpful to access the desired page directly without navigating from the home page."
   ]
  },
  {
   "cell_type": "markdown",
   "id": "de26a0dd-86bb-4b28-9139-fcada9bf44ee",
   "metadata": {},
   "source": [
    "Q4.  Create a “/welcome” route to display the welcome message “Welcome to ABC Corporation” and a “/” \n",
    "route to show the following details:\n",
    "\n",
    "    Company Name: ABC Corporation\n",
    "\n",
    "    Location: India\n",
    "\n",
    "    Contact Detail: 999-999-9999 "
   ]
  },
  {
   "cell_type": "code",
   "execution_count": null,
   "id": "33ba385c-e9d2-4e9e-b690-b1938d610e24",
   "metadata": {},
   "outputs": [
    {
     "name": "stdout",
     "output_type": "stream",
     "text": [
      " * Serving Flask app '__main__'\n",
      " * Debug mode: off\n"
     ]
    },
    {
     "name": "stderr",
     "output_type": "stream",
     "text": [
      "WARNING: This is a development server. Do not use it in a production deployment. Use a production WSGI server instead.\n",
      " * Running on all addresses (0.0.0.0)\n",
      " * Running on http://127.0.0.1:5000\n",
      " * Running on http://172.18.0.11:5000\n",
      "Press CTRL+C to quit\n",
      "172.18.0.45 - - [11/Aug/2023 07:38:40] \"GET / HTTP/1.1\" 200 -\n",
      "172.18.0.45 - - [11/Aug/2023 07:38:53] \"GET /welcome HTTP/1.1\" 200 -\n",
      "172.18.0.45 - - [11/Aug/2023 07:39:07] \"GET / HTTP/1.1\" 200 -\n"
     ]
    }
   ],
   "source": [
    "from flask import Flask\n",
    "app = Flask(__name__)\n",
    "@app.route(\"/welcome\")\n",
    "def message():\n",
    "    return \"<h1>Welcome to ABC Corporation</h1>\"\n",
    "@app.route(\"/\")\n",
    "def details():\n",
    "    return \"<h1>Company Name: ABC Corporation</h1><h1>Location:India</h1><h1>Contact Detail: 999-999-999</h1>\"\n",
    "if __name__ == \"__main__\":\n",
    "    app.run(host=\"0.0.0.0\")"
   ]
  },
  {
   "cell_type": "markdown",
   "id": "3869f53a-c548-4e21-a8a3-8bbe47bb4bdd",
   "metadata": {},
   "source": [
    "Q5. What function is used in Flask for URL Building? Write a Python code to demonstrate the working of the \n",
    "url_for() function"
   ]
  },
  {
   "cell_type": "markdown",
   "id": "c336ec81-3943-4629-9cf6-16876d70226e",
   "metadata": {},
   "source": [
    "In Flask, the function used for URL building is url_for(). This function generates a URL for a given endpoint by taking the endpoint name and any additional arguments required to build the URL. It allows you to create dynamic URLs for different routes in your Flask application."
   ]
  },
  {
   "cell_type": "code",
   "execution_count": null,
   "id": "d45e1fa8-9e3a-42c8-a44c-c0959da1f53c",
   "metadata": {},
   "outputs": [
    {
     "name": "stdout",
     "output_type": "stream",
     "text": [
      "Index URL: /\n",
      "User Profile URL: /user/john\n",
      "Post URL: /post/123\n",
      " * Serving Flask app '__main__'\n",
      " * Debug mode: off\n"
     ]
    },
    {
     "name": "stderr",
     "output_type": "stream",
     "text": [
      "WARNING: This is a development server. Do not use it in a production deployment. Use a production WSGI server instead.\n",
      " * Running on http://127.0.0.1:5000\n",
      "Press CTRL+C to quit\n"
     ]
    }
   ],
   "source": [
    "from flask import Flask, url_for\n",
    "\n",
    "app = Flask(__name__)\n",
    "\n",
    "@app.route('/')\n",
    "def index():\n",
    "    return 'Hello, this is the index page!'\n",
    "\n",
    "@app.route('/user/<username>')\n",
    "def user_profile(username):\n",
    "    return f'Hello, {username}! This is your profile.'\n",
    "\n",
    "@app.route('/post/<int:post_id>')\n",
    "def show_post(post_id):\n",
    "    return f'This is post #{post_id}.'\n",
    "\n",
    "if __name__ == '__main__':\n",
    "        index_url = url_for('index')\n",
    "        user_url = url_for('user_profile', username='john')\n",
    "        post_url = url_for('show_post', post_id=123)\n",
    "    app.run(host=\"0.0.0.0\")\n"
   ]
  },
  {
   "cell_type": "markdown",
   "id": "d2a88e38-35c7-4ab4-b9b0-df54dc7e8537",
   "metadata": {},
   "source": [
    "![](\"output2.png\")"
   ]
  },
  {
   "cell_type": "markdown",
   "id": "1b298aaa-c31d-49a0-bc49-dd85764abc68",
   "metadata": {},
   "source": [
    "2nd Output"
   ]
  },
  {
   "cell_type": "code",
   "execution_count": null,
   "id": "806f0828-b0fb-4bbc-b4c3-949df5d9080b",
   "metadata": {},
   "outputs": [],
   "source": [
    "![](output"
   ]
  }
 ],
 "metadata": {
  "kernelspec": {
   "display_name": "Python 3 (ipykernel)",
   "language": "python",
   "name": "python3"
  },
  "language_info": {
   "codemirror_mode": {
    "name": "ipython",
    "version": 3
   },
   "file_extension": ".py",
   "mimetype": "text/x-python",
   "name": "python",
   "nbconvert_exporter": "python",
   "pygments_lexer": "ipython3",
   "version": "3.10.8"
  }
 },
 "nbformat": 4,
 "nbformat_minor": 5
}

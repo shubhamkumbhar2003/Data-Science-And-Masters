{
 "cells": [
  {
   "cell_type": "markdown",
   "id": "cef15a25-40a7-4b99-a207-0b5c0996f4de",
   "metadata": {},
   "source": [
    "Q1. Explain Class and Object with respect to Object-Oriented Programming. Give a suitable example."
   ]
  },
  {
   "cell_type": "markdown",
   "id": "5da1ad9b-1b4e-4df4-bc06-3beda55555d4",
   "metadata": {},
   "source": [
    "Class can be defined as the set of functions or conditions applied to the programmming language,also it is an blueprint for creating the objects.\n",
    "Object with respect to oop can be defined as an instance of the class. A general way to apply the features of the class."
   ]
  },
  {
   "cell_type": "code",
   "execution_count": 4,
   "id": "fce9e388-0856-44d7-ab44-3f8ef5dcae8e",
   "metadata": {},
   "outputs": [],
   "source": [
    "class term1:\n",
    "    def machine(self):\n",
    "        print(\"This is the machine\")"
   ]
  },
  {
   "cell_type": "code",
   "execution_count": 5,
   "id": "e00d7d95-db66-4926-b6bd-59cadd9a37d9",
   "metadata": {},
   "outputs": [],
   "source": [
    "term_obj = term1()"
   ]
  },
  {
   "cell_type": "code",
   "execution_count": 6,
   "id": "896b82fb-02d5-468f-895f-e5ca17954a90",
   "metadata": {},
   "outputs": [
    {
     "name": "stdout",
     "output_type": "stream",
     "text": [
      "This is the machine\n"
     ]
    }
   ],
   "source": [
    "term_obj.machine()"
   ]
  },
  {
   "cell_type": "markdown",
   "id": "ceb346b3-411c-4be8-841d-749f3d6ce26c",
   "metadata": {},
   "source": [
    "Q2. Name the four pillars of OOPs"
   ]
  },
  {
   "cell_type": "markdown",
   "id": "66fc82f1-d994-499a-ad58-2d7c520c67fd",
   "metadata": {},
   "source": [
    "Following are the four pillars of OOPs:-\n",
    "1)Inheritance\n",
    "2)Encapsulation\n",
    "3)Polymorphism\n",
    "4)Abstraction"
   ]
  },
  {
   "cell_type": "markdown",
   "id": "855b6987-03d5-481a-8c62-97082225e86f",
   "metadata": {},
   "source": [
    "Q3. Explain why the __init__() function is used. Give a suitable example."
   ]
  },
  {
   "cell_type": "markdown",
   "id": "2ad03c32-625e-48a0-b4a8-ac757d68ad12",
   "metadata": {},
   "source": [
    "Basically the init() function is called as a dunder function. The init() function plays a major role for providing the values from the user to the class. In short it acts as a middle man from taking values from the user and giving it to the defined class."
   ]
  },
  {
   "cell_type": "code",
   "execution_count": 8,
   "id": "14b03c21-ea87-48a8-a3e3-9bb92480d210",
   "metadata": {},
   "outputs": [],
   "source": [
    "class test1:\n",
    "    def __init__(self,name , number , mail_id):\n",
    "        self.name = name\n",
    "        self.number = number\n",
    "        self.mail_id = mail_id\n",
    "        \n",
    "        "
   ]
  },
  {
   "cell_type": "code",
   "execution_count": 9,
   "id": "ca29bbdd-41cf-4460-ae94-e6ab183c7b3c",
   "metadata": {},
   "outputs": [],
   "source": [
    "test1_obj = test1(\"shubham\" , 900394 , 'shubham@gmail.com')"
   ]
  },
  {
   "cell_type": "markdown",
   "id": "4b67dada-e1e9-4d05-8482-dedb663b09f1",
   "metadata": {},
   "source": [
    "Q4. Why self is used in OOPs?"
   ]
  },
  {
   "cell_type": "markdown",
   "id": "ffaf2f2a-bc3b-49e7-8b7d-8834cb4c2aca",
   "metadata": {},
   "source": [
    "By Using self we can access the attributes and the methods of the class in python. It represents the instance of the class . It binds the attributes with the given arguments.Mostly self is used as an instance but we can use any other word instead of self."
   ]
  },
  {
   "cell_type": "markdown",
   "id": "b1446fc0-3193-4fa9-b358-2af925012835",
   "metadata": {},
   "source": [
    "Q5. What is inheritance? Give an example for each type of inheritance."
   ]
  },
  {
   "cell_type": "markdown",
   "id": "ec6f43c6-384e-4ffc-8e32-6e619e1cd9bc",
   "metadata": {},
   "source": [
    "Inheritance can be defined as inheriting the properties of our own class into another class for performing the operaations. In another language the inheritance is the process by which the genetic information is passed from parent to the child."
   ]
  },
  {
   "cell_type": "markdown",
   "id": "0b0a307d-56a9-4f77-a099-20f8ec137132",
   "metadata": {},
   "source": [
    "                                                             Single Inheritance"
   ]
  },
  {
   "cell_type": "code",
   "execution_count": 11,
   "id": "996218e7-735a-4e5d-a034-3807893f887f",
   "metadata": {},
   "outputs": [],
   "source": [
    "class class1:\n",
    "    def text1(self):\n",
    "        print(\"This is from test1 function of class 1\")\n"
   ]
  },
  {
   "cell_type": "code",
   "execution_count": 13,
   "id": "b0cdb51f-c498-4565-aa52-3f057e3d12d8",
   "metadata": {},
   "outputs": [],
   "source": [
    "class class2(class1):\n",
    "    pass"
   ]
  },
  {
   "cell_type": "code",
   "execution_count": 14,
   "id": "86c11868-9029-4bf2-a315-29a07d5ff24b",
   "metadata": {},
   "outputs": [],
   "source": [
    "class2_obj = class2()"
   ]
  },
  {
   "cell_type": "code",
   "execution_count": 15,
   "id": "d7ad066a-5153-42b1-9673-f599498956d0",
   "metadata": {},
   "outputs": [
    {
     "name": "stdout",
     "output_type": "stream",
     "text": [
      "This is from test1 function of class 1\n"
     ]
    }
   ],
   "source": [
    "class2_obj.text1()"
   ]
  },
  {
   "cell_type": "markdown",
   "id": "f88370e6-0956-4b1d-bd3b-6e85a5190521",
   "metadata": {},
   "source": [
    "From above example the function present in the class1 is being used by the class2 by pass class1 as  an argument in the class2."
   ]
  },
  {
   "cell_type": "markdown",
   "id": "f0252857-17ca-4053-8125-86d1b254ab43",
   "metadata": {},
   "source": [
    "                                                                Multi-label Inheritance"
   ]
  },
  {
   "cell_type": "code",
   "execution_count": 16,
   "id": "dd0a266d-300e-462b-9834-f90acc504aaf",
   "metadata": {},
   "outputs": [],
   "source": [
    "class class1:\n",
    "    def test1(self):\n",
    "        print(\"This is from test1\")"
   ]
  },
  {
   "cell_type": "code",
   "execution_count": 17,
   "id": "6cabea5d-7509-421e-99fe-9158922046fa",
   "metadata": {},
   "outputs": [],
   "source": [
    "class class2(class1):\n",
    "    def test2(self):\n",
    "        print(\"This is from test2\")"
   ]
  },
  {
   "cell_type": "code",
   "execution_count": 18,
   "id": "847006bf-4309-4d61-8f26-e016f241401e",
   "metadata": {},
   "outputs": [],
   "source": [
    "class class3(class2):\n",
    "    def test3(self):\n",
    "        print(\"This is from test3\")"
   ]
  },
  {
   "cell_type": "code",
   "execution_count": 19,
   "id": "423c8516-c6e2-4c20-a530-6b55526d096c",
   "metadata": {},
   "outputs": [],
   "source": [
    "class3_obj = class3()"
   ]
  },
  {
   "cell_type": "code",
   "execution_count": 20,
   "id": "ad64a4c2-fede-49ab-a224-5f3b4be620f5",
   "metadata": {},
   "outputs": [
    {
     "name": "stdout",
     "output_type": "stream",
     "text": [
      "This is from test1\n"
     ]
    }
   ],
   "source": [
    "class3_obj.test1()"
   ]
  },
  {
   "cell_type": "markdown",
   "id": "8da53aea-9e72-4179-b57b-b0d2a6176210",
   "metadata": {},
   "source": [
    "From the above example we can see that class1 features are inherited into class2 and class2 features are inherited into class3. indirectly class3 has access to the class1 also."
   ]
  },
  {
   "cell_type": "markdown",
   "id": "560bd43e-a66a-4a6c-9fc4-f3dda52c117c",
   "metadata": {},
   "source": [
    "                                                                  Multiple Inheritance"
   ]
  },
  {
   "cell_type": "code",
   "execution_count": 22,
   "id": "600a5a09-2e33-407a-a4d8-bddd3bbabff9",
   "metadata": {},
   "outputs": [],
   "source": [
    "class class1:\n",
    "    def test1(self):\n",
    "        print(\"This text is from class1\")\n"
   ]
  },
  {
   "cell_type": "code",
   "execution_count": 23,
   "id": "3d7852bf-3b29-49cd-b15d-db080946e28c",
   "metadata": {},
   "outputs": [],
   "source": [
    "class class2:\n",
    "    def test2(self):\n",
    "        print(\"This text if from class2\")"
   ]
  },
  {
   "cell_type": "code",
   "execution_count": 24,
   "id": "aa0b7a12-5617-4b87-9bef-253a30d43d2d",
   "metadata": {},
   "outputs": [],
   "source": [
    "class class3(class1 , class2):\n",
    "    pass"
   ]
  },
  {
   "cell_type": "code",
   "execution_count": 25,
   "id": "143dca3a-be95-437d-b963-24459158c973",
   "metadata": {},
   "outputs": [],
   "source": [
    "class3_obj = class3()"
   ]
  },
  {
   "cell_type": "code",
   "execution_count": 26,
   "id": "eb71cda1-41c2-4461-ac23-180c33928aa2",
   "metadata": {},
   "outputs": [
    {
     "name": "stdout",
     "output_type": "stream",
     "text": [
      "This text is from class1\n"
     ]
    }
   ],
   "source": [
    "class3_obj.test1()"
   ]
  },
  {
   "cell_type": "code",
   "execution_count": 27,
   "id": "47bc8074-169b-4f97-bda5-3599e16b369c",
   "metadata": {},
   "outputs": [
    {
     "name": "stdout",
     "output_type": "stream",
     "text": [
      "This text if from class2\n"
     ]
    }
   ],
   "source": [
    "class3_obj.test2()"
   ]
  },
  {
   "cell_type": "code",
   "execution_count": null,
   "id": "77c4120d-d28e-4e1a-a2de-84da43af9b48",
   "metadata": {},
   "outputs": [],
   "source": [
    "From the above e"
   ]
  }
 ],
 "metadata": {
  "kernelspec": {
   "display_name": "Python 3 (ipykernel)",
   "language": "python",
   "name": "python3"
  },
  "language_info": {
   "codemirror_mode": {
    "name": "ipython",
    "version": 3
   },
   "file_extension": ".py",
   "mimetype": "text/x-python",
   "name": "python",
   "nbconvert_exporter": "python",
   "pygments_lexer": "ipython3",
   "version": "3.10.8"
  }
 },
 "nbformat": 4,
 "nbformat_minor": 5
}

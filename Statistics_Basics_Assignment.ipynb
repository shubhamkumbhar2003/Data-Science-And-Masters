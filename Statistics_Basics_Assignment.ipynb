{
 "cells": [
  {
   "cell_type": "markdown",
   "id": "29d65534-127c-4149-8868-7a2e82b4d803",
   "metadata": {},
   "source": [
    "Q1. What is Statistics?"
   ]
  },
  {
   "cell_type": "markdown",
   "id": "cf845fad-680b-4b4c-bb0c-715103651afc",
   "metadata": {},
   "source": [
    "Statistics is the science of collecting, organizing and analizing the data. Here the data refers to the facts and the pieces of the information."
   ]
  },
  {
   "cell_type": "markdown",
   "id": "74858e53-c043-41db-84e3-5df1a62085a1",
   "metadata": {},
   "source": [
    "Q2. Define the different types of statistics and give an example of when each type might be used."
   ]
  },
  {
   "cell_type": "markdown",
   "id": "e777fa10-a032-4a4f-92ef-e2f671bb3ff5",
   "metadata": {},
   "source": [
    "The Statistics can be of two types 1st is Descriptive Statistics and the 2nd one is Inferential Statistics. In Descriptive Statistics It consists of Organinzing and Summarizing Data. Where as in Inferential Statistics it consist of using data you have measured to have a conclusion from it.\n",
    "For Example:- In Descriptive Statistics we get the accurate conclusion to the Question Provided by the User. Like to calculate mean , mode, median where as in Inferential Statistics , You randomly select a sample of 11th graders in your state and collect data on their SAT scores and other characteristics. You can use inferential statistics to make estimates and test hypotheses about the whole population of 11th graders in the state based on your sample data."
   ]
  },
  {
   "cell_type": "markdown",
   "id": "10839c8b-1893-47dd-97db-110b2935a446",
   "metadata": {},
   "source": [
    "Q3.  What are the different types of data and how do they differ from each other? Provide an example of \n",
    "each type of data."
   ]
  },
  {
   "cell_type": "markdown",
   "id": "ebdeda88-467c-48b5-b75f-4fa672922f1d",
   "metadata": {},
   "source": [
    "Basically There are two Different types of Data Present in Statistics.\n",
    "1st) Quantitative\n",
    "2nd) Qualitatitve\n",
    "In Quantitative Data there are two types Dicrete which includes whole numbers example birthdate , age etc. where as another type Continuous which contains the floating data such as a height of a person , experience in work\n",
    "In Qualitative there are two types Nominal Where Priorities are not given to the string data example gender , bloodgroup etc.  where as in another type which is Ordinal priorities are given example customer feedback ,Exercises etc."
   ]
  },
  {
   "cell_type": "markdown",
   "id": "804b40be-4f78-4a13-a14d-1aff8ce79192",
   "metadata": {},
   "source": [
    "Q4. Categorise the following datasets with respect to quantitative and qualitative data types:\n",
    "\n",
    "(i)\tGrading in exam: A+, A, B+, B, C+, C, D, E\n",
    "\n",
    "(ii)\tColour of mangoes: yellow, green, orange, red\n",
    "\n",
    "(iii)\tHeight data of a class: [178.9, 179, 179.5, 176, 177.2, 178.3, 175.8,...]\n",
    "\n",
    "(iv)\tNumber of mangoes exported by a farm: [500, 600, 478, 672, …]"
   ]
  },
  {
   "cell_type": "raw",
   "id": "7f0c14e2-574b-4b2d-959b-e6d8f8e394e3",
   "metadata": {},
   "source": [
    "i] It Comes Under Qualitative data type in that it comes under Ordinal Type data.\n",
    "ii] It Comes Under Qualitative data type in that it comes under Nominal Type data.\n",
    "iii] It Comes Under Quantitative Data Type in that it comes under Continuous Type Data.\n",
    "iv] It Comes Under Quantitative Data Type in that it comes under Discrete Type Data."
   ]
  },
  {
   "cell_type": "markdown",
   "id": "8996a9a2-0a58-45de-9170-3311663ffb00",
   "metadata": {},
   "source": [
    "Q5. Explain the concept of levels of measurement and give an example of a variable for each level."
   ]
  },
  {
   "cell_type": "raw",
   "id": "ff276a74-abcb-4738-a333-550c3c6af43e",
   "metadata": {},
   "source": [
    "Level of measurement is important as it determines the type of statistical analysis you can carry out. As a result, it affects both the nature and the depth of insights you’re able to glean from your data.\n",
    "There are 4 types of level\n",
    "1)Nominal:-The nominal scale simply categorizes variables according to qualitative labels (or names). These labels and groupings don’t have any order or hierarchy to them, nor do they convey any numerical value. For example, the variable “hair color” could be measured on a nominal scale according to the following categories: blonde hair, brown hair, gray hair, and so on.\n",
    "2)Ordinal:-The ordinal scale also categorizes variables into labeled groups, and these categories have an order or hierarchy to them. For example, you could measure the variable “income” on an ordinal scale as follows: low income, medium income, high income. Another example could be level of education, classified as follows: high school, master’s degree, doctorate. These are still qualitative labels (as with the nominal scale), but you can see that they follow a hierarchical order.\n",
    "3)Interval:-The interval scale is a numerical scale which labels and orders variables, with a known, evenly spaced interval between each of the values. An oft-cited example of interval data is temperature in Fahrenheit, where the difference between 10 and 20 degrees Fahrenheit is exactly the same as the difference between, say, 50 and 60 degrees Fahrenheit.\n",
    "4)Ratio:-The ratio scale is exactly the same as the interval scale, with one key difference: The ratio scale has what’s known as a “true zero.” A good example of ratio data is weight in kilograms. If something weighs zero kilograms, it truly weighs nothing—compared to temperature (interval data), where a value of zero degrees doesn’t mean there is “no temperature,”"
   ]
  },
  {
   "cell_type": "markdown",
   "id": "f90c3213-a29a-4c61-b255-f8cfd522beea",
   "metadata": {},
   "source": [
    "Q6. Why is it important to understand the level of measurement when analyzing data? Provide an \n",
    "example to illustrate your answer."
   ]
  },
  {
   "cell_type": "markdown",
   "id": "e65e7e29-9f9e-44a0-8c7e-6e0b1a8b6e1a",
   "metadata": {},
   "source": [
    "Understanding the level of measurement is crucial when analyzing data because it determines the appropriate statistical methods and techniques that can be used to interpret and analyze the data accurately. Different levels of measurement have unique properties and constraints, and using the wrong analysis method can lead to misleading conclusions and erroneous interpretations.\n",
    "Suppose we want to analyze customer satisfaction with a product using survey data. The survey includes questions with Likert scale responses (ordinal data) to measure satisfaction levels ranging from 1 (Very Dissatisfied) to 5 (Very Satisfied). Additionally, there is a question about the number of months the customer has been using the product (ratio data).\n",
    "\n",
    "If we fail to recognize the level of measurement for each variable, we might erroneously perform inappropriate statistical analyses. For instance, calculating the mean satisfaction score (an inappropriate measure for ordinal data) might lead us to believe that the average satisfaction is 3.8, indicating moderate satisfaction. However, this is not valid since the mean doesn't work well with ordinal data.\n",
    "\n",
    "On the other hand, for the variable \"number of months using the product\" (ratio data), we can accurately calculate the mean, standard deviation, and other relevant statistics to gain insights into the average customer's longevity of product usage.\n",
    "\n",
    "By understanding the level of measurement, we can avoid such mistakes and choose the right statistical methods."
   ]
  },
  {
   "cell_type": "markdown",
   "id": "257ea182-19ad-4c4b-a687-cc5ca3857e89",
   "metadata": {},
   "source": [
    "Q7. How nominal data type is different from ordinal data type."
   ]
  },
  {
   "cell_type": "markdown",
   "id": "14c55635-48dd-4fa2-826b-ee87ce0a526b",
   "metadata": {},
   "source": [
    "Definition:-\n",
    "Nominal Data:- Nominal Data is the Lowest level of measurement. It Involves categorical Variables that can be divided into Distinct Categories or groups, but there is no inherent order or ranking among the categories. Each Category is considered equally important and does not imply any level of magnitude or direction. Examples include gender (male/female), eye color (blue/brown/green).\n",
    "Ordinal Data: Ordinal data is the second level of measurement. It involves categorical variables that can be ranked or ordered, but the intervals between the categories are not necessarily uniform. In other words, the order of categories matters, but the differences between them may not have a consistent meaning.\n",
    "1)Mathematical Operations:\n",
    "    Nominal Data:Since there is no inherent order or ranking among the categories, mathematical operations such as addition, subtraction, or multiplication are not meaningful. You can only count the frequency of each category and calculate percentages.\n",
    "\n",
    "    Ordinal Data: While ordinal data allows for ranking, the differences between the ranks are not uniformly meaningful, making mathematical operations beyond counting and ordering inappropriate. For instance, you can determine which rank is higher, but you can't conclude that the difference between the ranks represents a consistent increase in magnitude.\n",
    "    \n",
    "2)Summary Statistics:\n",
    "Nominal Data: For nominal data, we use categorical measures like mode to describe the central tendency, and we can calculate the frequency of each category. However, measures such as mean and median are not meaningful because there is no numeric representation of the categories.\n",
    "\n",
    "Ordinal Data: Similar to nominal data, ordinal data can use mode and frequency to describe the central tendency. In addition, median can be used since it represents the middle value when the data is ranked. However, mean is generally avoided because it does not capture the underlying ordinal nature of the data."
   ]
  },
  {
   "cell_type": "markdown",
   "id": "c5478b9e-e683-453c-aeb2-86287894e31a",
   "metadata": {},
   "source": [
    "Q8. Which type of plot can be used to display data in terms of range?"
   ]
  },
  {
   "cell_type": "markdown",
   "id": "7a624d5f-7d14-4d92-b144-073621479a7a",
   "metadata": {},
   "source": [
    "A type of plot commonly used to display data in terms of range is a \"box plot\" Box plots provide a visual representation of the distribution and spread of data, including the minimum, maximum, median, quartiles, and potential outliers."
   ]
  },
  {
   "cell_type": "markdown",
   "id": "beaad9db-4e3d-450d-bdf2-391422dc54ad",
   "metadata": {},
   "source": [
    "Q9. Describe the difference between descriptive and inferential statistics. Give an example of each \n",
    "type of statistics and explain how they are used."
   ]
  },
  {
   "cell_type": "markdown",
   "id": "8e3fd63d-9bf5-4142-ad4f-d41eba2e2343",
   "metadata": {},
   "source": [
    "Descriptive Statistics are used to Summarize and describe the main features of a dataset. They Provide a simple and concise way to understand the data basic's characteristics. These statistics do not involve making inferences or drawing conclusions beyond the data being analyzed.\n",
    " Let's say we have a dataset consisting of the ages of a group of people: [25, 30, 40, 35, 28, 22, 39, 31]. Descriptive statistics for this dataset would include measures like the mean (average) age, the median (middle value), and the standard deviation (a measure of variability).\n",
    "Inferential statistics, on the other hand, involve making predictions, generalizations, or inferences about a population based on a sample from that population. By using probability theory and sampling methods, inferential statistics allow researchers to draw conclusions beyond the immediate data they have.\n",
    "Suppose we want to know the average height of all students in a school, but it's impractical to measure every student. Instead, we take a random sample of 100 students and calculate their average height. Then, we use inferential statistics to estimate the average height of the entire student population based on this sample. We can also determine the margin of error associated with the estimate to understand the uncertainty of the inference.\n",
    "\n",
    "\n",
    "In summary, descriptive statistics are used to describe and summarize data, while inferential statistics are used to make predictions and inferences about populations based on sample data. Both types of statistics play crucial roles in understanding and interpreting the information present in datasets and drawing meaningful conclusions from them."
   ]
  },
  {
   "cell_type": "code",
   "execution_count": null,
   "id": "13a9024b-4217-4fe6-ad90-51d49c8cbf3d",
   "metadata": {},
   "outputs": [],
   "source": []
  }
 ],
 "metadata": {
  "kernelspec": {
   "display_name": "Python 3 (ipykernel)",
   "language": "python",
   "name": "python3"
  },
  "language_info": {
   "codemirror_mode": {
    "name": "ipython",
    "version": 3
   },
   "file_extension": ".py",
   "mimetype": "text/x-python",
   "name": "python",
   "nbconvert_exporter": "python",
   "pygments_lexer": "ipython3",
   "version": "3.10.8"
  }
 },
 "nbformat": 4,
 "nbformat_minor": 5
}

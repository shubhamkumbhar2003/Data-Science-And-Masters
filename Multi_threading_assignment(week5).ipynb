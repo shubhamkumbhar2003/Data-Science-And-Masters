{
 "cells": [
  {
   "cell_type": "markdown",
   "id": "1205fc30-cabe-4c5a-a30e-4d7e38557f99",
   "metadata": {},
   "source": [
    "Q1). what is multithreading in python? why is it used? Name the module used to handle threads in python"
   ]
  },
  {
   "cell_type": "markdown",
   "id": "df0b1458-5194-4b10-b1f7-3aa5b5fd9217",
   "metadata": {},
   "source": [
    "A process of running multiple threads within a single process is known as multi-threading.\n",
    "Both the multithreading and multiprocessing are used to increase the efficiency of the core. In multithreading suppose a node has 4 core then in multhreading we can give the multiple threads to work on only one core thus making other core's to utilize for other programs. The Module name 'threading' is used to handle threads."
   ]
  },
  {
   "cell_type": "markdown",
   "id": "cf1a93a3-ca15-4f6f-a45b-f067f81f697a",
   "metadata": {},
   "source": [
    "Q2). Why threading module used? Write the use of the following functions:\n",
    "1. activeCount()\n",
    "2. currentThread()\n",
    "3. enumerate()"
   ]
  },
  {
   "cell_type": "markdown",
   "id": "67ce5bda-75ea-414b-829d-0b303fe373a8",
   "metadata": {},
   "source": [
    "The threading module is used to run multiple times the program into the single core which directly increases the efficieny of the computer.In general we can sayPython threading allows you to have different parts of your program run concurrently and can simplify your design."
   ]
  },
  {
   "cell_type": "markdown",
   "id": "735aafec-d552-4067-96f7-684124fba3ca",
   "metadata": {},
   "source": [
    "#1 activeCount() and current_count() Example"
   ]
  },
  {
   "cell_type": "code",
   "execution_count": 9,
   "id": "c16760f7-faed-4457-9ebf-8b36c89b36ba",
   "metadata": {},
   "outputs": [
    {
     "name": "stdout",
     "output_type": "stream",
     "text": [
      "The Number of active threads by the thread_3 function is : 11\n",
      "Value of thread_3 3\n",
      "Number of Active threads by the thread_1 function is : 10\n",
      "Number of Current threads by the thread_1 function is : <Thread(Thread-26 (thread_1), started 140006100284992)>\n",
      "Value by thread_1 : 1\n",
      "The Number of active threads by the thread_2 function is : 9\n",
      "Value of thread_2 278687\n"
     ]
    }
   ],
   "source": [
    "#Basically it returns number of active threads\n",
    "import time\n",
    "import threading\n",
    "#defined the thread_1 function\n",
    "def thread_1(i):\n",
    "    time.sleep(2)\n",
    "    print(\"Number of Active threads by the thread_1 function is :\" , threading.active_count())\n",
    "    print(\"Number of Current threads by the thread_1 function is :\" , threading.current_thread())\n",
    "    print(\"Value by thread_1 :\" , i)\n",
    "#defined the thread_2 Function\n",
    "def thread_2(i):\n",
    "    time.sleep(5)\n",
    "\n",
    "    print(\"The Number of active threads by the thread_2 function is :\" , threading.active_count())\n",
    "    print(\"Value of thread_2\" , i)\n",
    "#defined the thread_3 function\n",
    "def thread_3(i):\n",
    "    print(\"The Number of active threads by the thread_3 function is :\" , threading.active_count())\n",
    "    print(\"Value of thread_3\" , i)\n",
    "    \n",
    "access_thread_1 = threading.Thread(target=thread_1 , args = (1,))\n",
    "access_thread_2 = threading.Thread(target = thread_2 , args = (278687,))\n",
    "access_thread_3 = threading.Thread(target = thread_3 , args = (3,))\n",
    "\n",
    "\n",
    "access_thread_1.start()\n",
    "access_thread_2.start()\n",
    "access_thread_3.start()"
   ]
  },
  {
   "cell_type": "markdown",
   "id": "d8e80b02-4e80-4c49-b5d3-b9227ca8bc25",
   "metadata": {},
   "source": [
    "#enumerate():- The threading.enumerate() is an inbuilt method of the threading module,it is used to return the list of all the threads class objects which are currently alive."
   ]
  },
  {
   "cell_type": "code",
   "execution_count": 12,
   "id": "75a52af3-daa3-4bd6-a9b1-4da66a30c5cf",
   "metadata": {},
   "outputs": [
    {
     "name": "stdout",
     "output_type": "stream",
     "text": [
      "Threads alive in the starting:\n",
      "[<_MainThread(MainThread, started 140006599161664)>, <Thread(IOPub, started daemon 140006528632384)>, <Heartbeat(Heartbeat, started daemon 140006520239680)>, <Thread(Thread-3 (_watch_pipe_fd), started daemon 140006495061568)>, <Thread(Thread-4 (_watch_pipe_fd), started daemon 140006486668864)>, <ControlThread(Control, started daemon 140006135952960)>, <HistorySavingThread(IPythonHistorySavingThread, started 140006127560256)>, <ParentPollerUnix(Thread-2, started daemon 140006119167552)>]\n",
      "\n",
      "Threads alive when thread_2 executes:\n",
      "[<_MainThread(MainThread, started 140006599161664)>, <Thread(IOPub, started daemon 140006528632384)>, <Heartbeat(Heartbeat, started daemon 140006520239680)>, <Thread(Thread-3 (_watch_pipe_fd), started daemon 140006495061568)>, <Thread(Thread-4 (_watch_pipe_fd), started daemon 140006486668864)>, <ControlThread(Control, started daemon 140006135952960)>, <HistorySavingThread(IPythonHistorySavingThread, started 140006127560256)>, <ParentPollerUnix(Thread-2, started daemon 140006119167552)>, <Thread(Thread-37 (thread_1), started 140006091892288)>, <Thread(Thread-38 (thread_2), started 140006100284992)>]\n",
      "\n",
      "Threads alive when thread_4 executes:\n",
      "[<_MainThread(MainThread, started 140006599161664)>, <Thread(IOPub, started daemon 140006528632384)>, <Heartbeat(Heartbeat, started daemon 140006520239680)>, <Thread(Thread-3 (_watch_pipe_fd), started daemon 140006495061568)>, <Thread(Thread-4 (_watch_pipe_fd), started daemon 140006486668864)>, <ControlThread(Control, started daemon 140006135952960)>, <HistorySavingThread(IPythonHistorySavingThread, started 140006127560256)>, <ParentPollerUnix(Thread-2, started daemon 140006119167552)>, <Thread(Thread-37 (thread_1), started 140006091892288)>, <Thread(Thread-39 (thread_3), started 140006100284992)>, <Thread(Thread-40 (thread_4), started 140006083499584)>]\n",
      "\n",
      "Threads alive when thread_1 executes:\n",
      "[<_MainThread(MainThread, started 140006599161664)>, <Thread(IOPub, started daemon 140006528632384)>, <Heartbeat(Heartbeat, started daemon 140006520239680)>, <Thread(Thread-3 (_watch_pipe_fd), started daemon 140006495061568)>, <Thread(Thread-4 (_watch_pipe_fd), started daemon 140006486668864)>, <ControlThread(Control, started daemon 140006135952960)>, <HistorySavingThread(IPythonHistorySavingThread, started 140006127560256)>, <ParentPollerUnix(Thread-2, started daemon 140006119167552)>, <Thread(Thread-37 (thread_1), started 140006091892288)>]\n",
      "\n"
     ]
    }
   ],
   "source": [
    "import time\n",
    "import threading\n",
    "#creating function of thread_1\n",
    "def thread_1(i):\n",
    "    time.sleep(5)\n",
    "    print(\"Threads alive when thread_1 executes:\")\n",
    "    print(threading.enumerate() , sep = \"\\n\")\n",
    "    print()\n",
    "#creating function of thread_2\n",
    "def thread_2(i):\n",
    "    print(\"Threads alive when thread_2 executes:\")\n",
    "    print(threading.enumerate() , sep = \"\\n\")\n",
    "    print()\n",
    "#creating function of thread_3\n",
    "def thread_3(i):\n",
    "    time.sleep(4)\n",
    "    \n",
    "#creating function of thread_4\n",
    "def thread_4(i):\n",
    "    print(\"Threads alive when thread_4 executes:\")\n",
    "    print(threading.enumerate() , sep = \"\\n\")\n",
    "    print()\n",
    "access_thread_1 = threading.Thread(target=thread_1 , args = (10,))\n",
    "access_thread_2 = threading.Thread(target=thread_2 , args = (20,))\n",
    "access_thread_3 = threading.Thread(target=thread_3 , args = (30,))\n",
    "access_thread_4 = threading.Thread(target=thread_4 , args = (40,))\n",
    "\n",
    "print(\"Threads alive in the starting:\", threading.enumerate() , sep = \"\\n\")\n",
    "print()\n",
    "access_thread_1.start()\n",
    "access_thread_2.start()\n",
    "access_thread_3.start()\n",
    "access_thread_4.start()\n"
   ]
  },
  {
   "cell_type": "markdown",
   "id": "810bab34-1741-40ab-b64a-64f0f02525cf",
   "metadata": {},
   "source": [
    "Q3)Explain the following functions:\n",
    "    1.run()\n",
    "    2.Start()\n",
    "    3.join()\n",
    "    4.isalive()\n",
    "    \n"
   ]
  },
  {
   "cell_type": "markdown",
   "id": "8a873241-d5bf-47ae-b418-8b9be7867123",
   "metadata": {},
   "source": [
    "The Thread.run()  method is an inbuilt method of the thread class of the threading module, it is used to represent a thread's activity. It calls the method expressed as the target argumetent in the thread object along with the positional and keywords arguments taken from the args and kwargs arguments, respectively. \n",
    "\n",
    "\n",
    "The start() method is an inbuilt method of the thread class of the threading module, it is used to start a thread's activity. This method calls the run() method internally which then excutes the target method. This method must be called at the most one time for one thread.\n",
    "\n",
    "\n",
    "The Join() method is called terminates,either normally or through an unhandles exception. A run time error occurs when a join() method is invoked on the same thread as calling join() on the same thread results in a deadlock condition.\n",
    "\n",
    "The Thread.is_alive() method is an inbuilt method of the thread class of the threading module,  it is used to check whether that thread is alive or not , that is it checks whether it is running or not. This method returns true or false.\n",
    "\n"
   ]
  },
  {
   "cell_type": "markdown",
   "id": "0e6b1545-5c8a-4b55-b33d-a8a4fcf1c428",
   "metadata": {},
   "source": [
    "Q4.  Write a python program to create two threads. Thread one must print the list of squares and thread  two must print the list of cubes."
   ]
  },
  {
   "cell_type": "code",
   "execution_count": 47,
   "id": "e2192d5a-5436-49d2-9e36-7f31bb8e5374",
   "metadata": {},
   "outputs": [],
   "source": [
    "import threading\n",
    "def print_square():\n",
    "    for i in range(1,11):\n",
    "        print(f\"square of  {i} is {i*i}\")\n",
    "\n",
    "def print_cubes():\n",
    "    for i in range(1,11):\n",
    "        print(f\"cube of {i} is {i*i*i}\")"
   ]
  },
  {
   "cell_type": "code",
   "execution_count": 49,
   "id": "f23312aa-6081-4dcd-bde3-a54509e99c5c",
   "metadata": {},
   "outputs": [
    {
     "name": "stdout",
     "output_type": "stream",
     "text": [
      "square of  1 is 1\n",
      "square of  2 is 4\n",
      "square of  3 is 9\n",
      "square of  4 is 16\n",
      "square of  5 is 25\n",
      "square of  6 is 36\n",
      "square of  7 is 49\n",
      "square of  8 is 64\n",
      "square of  9 is 81\n",
      "square of  10 is 100\n",
      "cube of 1 is 1\n",
      "cube of 2 is 8\n",
      "cube of 3 is 27\n",
      "cube of 4 is 64\n",
      "cube of 5 is 125\n",
      "cube of 6 is 216\n",
      "cube of 7 is 343\n",
      "cube of 8 is 512\n",
      "cube of 9 is 729\n",
      "cube of 10 is 1000\n"
     ]
    }
   ],
   "source": [
    "if __name__ == \"__main__\":\n",
    "    thread1 = threading.Thread(target = print_square)\n",
    "    thread2 = threading.Thread(target = print_cubes)\n",
    "    \n",
    "    \n",
    "    thread1.start()\n",
    "    thread2.start()\n",
    "    \n",
    "    thread1.join()\n",
    "    thread2.join()\n",
    "    "
   ]
  },
  {
   "cell_type": "markdown",
   "id": "5e628610-2490-46be-ab5c-a7c4998ef71a",
   "metadata": {},
   "source": [
    "                                                                       Another Method"
   ]
  },
  {
   "cell_type": "code",
   "execution_count": 50,
   "id": "06e34b97-6429-431a-808b-9b82bf257c31",
   "metadata": {},
   "outputs": [],
   "source": [
    "import threading\n",
    "def list_square(num):\n",
    "    print(\"The Square is\" , num*num)\n",
    "\n"
   ]
  },
  {
   "cell_type": "code",
   "execution_count": 61,
   "id": "0d387228-23fb-4619-9117-4c62e3f79c37",
   "metadata": {},
   "outputs": [],
   "source": [
    "var = [threading.Thread(target=list_square , args=(i,)) for i in range(1,11)]"
   ]
  },
  {
   "cell_type": "code",
   "execution_count": 62,
   "id": "ad15a3a1-f7bb-4d33-9197-a643180ae2ad",
   "metadata": {},
   "outputs": [
    {
     "name": "stdout",
     "output_type": "stream",
     "text": [
      "The Square is 1\n",
      "The Square is 4\n",
      "The Square is 9\n",
      "The Square is 16\n",
      "The Square is 25\n",
      "The Square is 36\n",
      "The Square is 49\n",
      "The Square is 64\n",
      "The Square is 81\n",
      "The Square is 100\n"
     ]
    }
   ],
   "source": [
    "for t in var:\n",
    "    t.start()"
   ]
  },
  {
   "cell_type": "code",
   "execution_count": 65,
   "id": "d3f57ac7-91c2-41f2-bab3-768bb2564fcb",
   "metadata": {},
   "outputs": [],
   "source": [
    "import threading\n",
    "def list_cube(no):\n",
    "    print(\"cube is \", no*no*no) "
   ]
  },
  {
   "cell_type": "code",
   "execution_count": 67,
   "id": "affd3913-bec6-4962-ba72-48a27c6ae5ad",
   "metadata": {},
   "outputs": [],
   "source": [
    "list1 = [1,2,3,4,5]"
   ]
  },
  {
   "cell_type": "code",
   "execution_count": 68,
   "id": "6e4f9d08-ab99-4368-93fc-d8aba14c5083",
   "metadata": {},
   "outputs": [],
   "source": [
    "var1 = [threading.Thread(target=list_cube , args = (list1[i] , ))for i in range(len(list1))]"
   ]
  },
  {
   "cell_type": "code",
   "execution_count": 69,
   "id": "45c6276a-fd88-4888-add3-fa7ada35716d",
   "metadata": {},
   "outputs": [
    {
     "name": "stdout",
     "output_type": "stream",
     "text": [
      "cube is  1\n",
      "cube is  8\n",
      "cube is  27\n",
      "cube is  64\n",
      "cube is  125\n"
     ]
    }
   ],
   "source": [
    "for t in var1:\n",
    "    t.start()"
   ]
  },
  {
   "cell_type": "markdown",
   "id": "99605039-0f22-4b97-9db3-37200001b5a9",
   "metadata": {},
   "source": [
    "Q5) State advantages and disadvantages of multithreading."
   ]
  },
  {
   "cell_type": "raw",
   "id": "39aef8cc-99e6-4940-b7a3-3cc6e9f1f257",
   "metadata": {},
   "source": [
    "Advantages:\n",
    "    1) Increased Responses:- Multhreading allows concurrent execution of multiple tasks with a single program\n",
    "    2) Imporved PerformanceL- By leveraging multiple threads, you can utilize the available CPU cores more Efficiently\n",
    "    3) Resource sharing- Threads within a process can share the same memory space,allowing them to access shared data and communicate with each other easily\n",
    "Disadvantages:\n",
    "    1) Complexity:- Multithreading introduces complexity to the db.\n",
    "    2) Increased  memory:- Each Thread requires its own stack and thread-specific data structures, which adds to the memory overhead of the program. If a large number of threads are created then the              consumption of memory is also large.\n",
    "    3) Difficulty in Debugging:- These multi-threaded programs can exibit non-deteministic behviour due to the interleaved execution of threads. this makes it harder to reproduce and debug issues related        to thread synvchronization,timing or order of execution."
   ]
  },
  {
   "cell_type": "markdown",
   "id": "a1ea36fe-3346-41f3-b7e2-70dc403f3709",
   "metadata": {},
   "source": [
    "Q6) Explain deadlocks and race conditions"
   ]
  },
  {
   "cell_type": "code",
   "execution_count": null,
   "id": "9d9b96db-5a93-4874-aea7-8b88752aa3a3",
   "metadata": {},
   "outputs": [],
   "source": [
    "Deadlock:- deadlock occurs when two or more threads are blocked indefinitely,waiting for each other to release resources that they hold.  In other words a deadlock is a situation where two or more threads are stuck,unable to proceed bcoz each thread is holding a resourcethat another thread needs\n",
    "conditions:\n",
    "    1)mutual exclusion:- At least one resource must be held exclusively by a threas and cannot be simultaneously used by other threads.\n",
    "    2)hold and wait:- a thread must hold at least one resource while waiting to acquire additional resources held by others\n",
    "    3)No Preemption: Resources cannot be forcibly taken away from a thread. They can only be released voluntarily.\n",
    "    4)Circular wait:- A circular chain of two or more threads exists, where each thread is waiting for a resource held by another thread in the chain."
   ]
  },
  {
   "cell_type": "code",
   "execution_count": null,
   "id": "a40a4bcf-3186-4e3e-acb9-626c5f433b87",
   "metadata": {},
   "outputs": [],
   "source": []
  }
 ],
 "metadata": {
  "kernelspec": {
   "display_name": "Python 3 (ipykernel)",
   "language": "python",
   "name": "python3"
  },
  "language_info": {
   "codemirror_mode": {
    "name": "ipython",
    "version": 3
   },
   "file_extension": ".py",
   "mimetype": "text/x-python",
   "name": "python",
   "nbconvert_exporter": "python",
   "pygments_lexer": "ipython3",
   "version": "3.10.8"
  }
 },
 "nbformat": 4,
 "nbformat_minor": 5
}

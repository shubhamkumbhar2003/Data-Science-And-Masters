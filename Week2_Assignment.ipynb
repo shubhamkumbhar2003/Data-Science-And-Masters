{
 "cells": [
  {
   "cell_type": "markdown",
   "id": "f65c7e22-555e-4f3d-a163-48f746b3ae3d",
   "metadata": {},
   "source": [
    "Q1. How do you comment code in Python? What are the different types of comments?"
   ]
  },
  {
   "cell_type": "markdown",
   "id": "105b54bd-8643-4e7a-b0f3-79236b7db57c",
   "metadata": {},
   "source": [
    "There are two types of comments option available in the python\n",
    "1] '#' when this symbol is given before the statement/sentence/code , it only comments a single line not multiple\n",
    "lines get commented\n",
    "2]' \"\"\" \"\"\" ' When this symbol is given inside the sentence/statement/code , multiple lines gets commented , only those which are present inside the quotes."
   ]
  },
  {
   "cell_type": "code",
   "execution_count": 1,
   "id": "57bb9f1a-75fc-4f45-b3a8-624822990ec7",
   "metadata": {},
   "outputs": [],
   "source": [
    "# This is a single line comment "
   ]
  },
  {
   "cell_type": "code",
   "execution_count": 4,
   "id": "ddbe140a-1087-4a37-8cf0-d5de98530514",
   "metadata": {},
   "outputs": [
    {
     "data": {
      "text/plain": [
       "' This is a\\n    multiple line \\n    comment '"
      ]
     },
     "execution_count": 4,
     "metadata": {},
     "output_type": "execute_result"
    }
   ],
   "source": [
    "\"\"\" This is a\n",
    "    multiple line \n",
    "    comment \"\"\"\n",
    "    "
   ]
  },
  {
   "cell_type": "markdown",
   "id": "a20e828e-847c-414a-8af0-d8dbadb3188f",
   "metadata": {},
   "source": [
    "Q2. What are variables in Python? How do you declare and assign values to variables?"
   ]
  },
  {
   "cell_type": "markdown",
   "id": "ba01602c-f9bb-492a-a420-b67abdcbaa09",
   "metadata": {},
   "source": [
    "Varibles are used to store the data given by the user. The Varibles can store various types of data such as int , float , etc.\n",
    "The only python language provides the flexibility that without declaring the variable type the python understands the type of \n",
    "data stored in the variable."
   ]
  },
  {
   "cell_type": "code",
   "execution_count": 7,
   "id": "fbf4ed69-8720-498e-9578-7af0e8d70a95",
   "metadata": {},
   "outputs": [
    {
     "name": "stdin",
     "output_type": "stream",
     "text": [
      "Enter the data:- 54\n"
     ]
    }
   ],
   "source": [
    "#declaring a variable\n",
    "a = 10\n",
    "b = 78.45\n",
    "c = \"shubham\"\n",
    "#assigning the value from user to the variable\n",
    "data = input(\"Enter the data:-\")"
   ]
  },
  {
   "cell_type": "markdown",
   "id": "f7667e36-59f5-402d-9997-2a11f959b674",
   "metadata": {},
   "source": [
    "Q3. How do you convert one data type to another in Python?"
   ]
  },
  {
   "cell_type": "markdown",
   "id": "3be929e3-ad9e-44e2-b99b-de030fba8678",
   "metadata": {},
   "source": [
    "We can convert easily one data type to another by using there names and the variable storing the data that is to be converted"
   ]
  },
  {
   "cell_type": "code",
   "execution_count": 15,
   "id": "8d38ba57-66c8-44b3-b544-cb753b12d1fd",
   "metadata": {},
   "outputs": [
    {
     "name": "stdout",
     "output_type": "stream",
     "text": [
      "The initial data type is <class 'int'>\n",
      "The int data type now gets converted into float <class 'float'>\n",
      "The initial data type is <class 'str'>\n",
      "The string data type now gets converted into list <class 'list'>\n"
     ]
    }
   ],
   "source": [
    "a = 45\n",
    "print(\"The initial data type is\" , type(a))\n",
    "print(\"The int data type now gets converted into float\" , type(float(a)))\n",
    "\n",
    "b = \"shubham\"\n",
    "print(\"The initial data type is\" , type(b))\n",
    "print(\"The string data type now gets converted into list\" , type(list(b)))\n",
    "\n",
    "# Thus python provides the funtions of data type that we can use to convert them from one type to another"
   ]
  },
  {
   "cell_type": "markdown",
   "id": "9a27b575-b187-4a0e-b2a4-7874c30a250d",
   "metadata": {},
   "source": [
    "Q4. How do you write and execute a Python script from the command line?"
   ]
  },
  {
   "cell_type": "markdown",
   "id": "fb804583-5fdb-4a68-9429-b47bc7c8d78b",
   "metadata": {},
   "source": [
    "To execute a python file from a commmand line, firstly we have to check whether the execution is happening the correct directory\n",
    "or not. If one want to change the directory use the command 'cd ' which changes the directory followed by the name which you want to go to the directory\n",
    "And for executing the file write the file name 'xyz.py' note that only the file having the type '.py' will be executed as python file\n",
    "'./a.out' is used to get the output "
   ]
  },
  {
   "cell_type": "markdown",
   "id": "b629ef68-ca4f-4571-9d42-0e8f1cc38928",
   "metadata": {},
   "source": [
    "Q5. Given a list my_list = [1, 2, 3, 4, 5], write the code to slice the list and obtain the sub-list [2, 3]."
   ]
  },
  {
   "cell_type": "code",
   "execution_count": 18,
   "id": "e1df51e1-edae-4b61-a0d6-1f92051a7203",
   "metadata": {},
   "outputs": [
    {
     "name": "stdout",
     "output_type": "stream",
     "text": [
      "[2, 3]\n",
      "[2, 3]\n"
     ]
    }
   ],
   "source": [
    "my_list = [1,2,3,4,5]\n",
    "print(my_list[1:3])\n",
    "sub_list = my_list[1:3]\n",
    "print(sub_list)"
   ]
  },
  {
   "cell_type": "markdown",
   "id": "2fb90311-7758-4159-849e-9cb3ef6be464",
   "metadata": {},
   "source": [
    "Q6. What is a complex number in mathematics, and how is it represented in Python?"
   ]
  },
  {
   "cell_type": "markdown",
   "id": "bab356a6-b1db-4dd7-ac8a-599832d8ab47",
   "metadata": {},
   "source": [
    "Complex numbers are those numbers which is combination of real number and a imaginary number in maths they are represented as \n",
    "5+8i. Here the real part is 5 and the imaginary part is 8i. But in python the representation of a complex number is different \n",
    "5+8j .Here the real part is 5 and the imaginary part is 8j hence the difference is instead of 'i' in python we write 'j'."
   ]
  },
  {
   "cell_type": "code",
   "execution_count": 19,
   "id": "8620f962-5e54-4335-bb51-8cce8464dcb8",
   "metadata": {},
   "outputs": [
    {
     "data": {
      "text/plain": [
       "complex"
      ]
     },
     "execution_count": 19,
     "metadata": {},
     "output_type": "execute_result"
    }
   ],
   "source": [
    "number = (9 - 8j)\n",
    "type(number)"
   ]
  },
  {
   "cell_type": "code",
   "execution_count": 20,
   "id": "0945b641-6ea9-4903-acad-714ee7bfdf2a",
   "metadata": {},
   "outputs": [
    {
     "data": {
      "text/plain": [
       "9.0"
      ]
     },
     "execution_count": 20,
     "metadata": {},
     "output_type": "execute_result"
    }
   ],
   "source": [
    "number.real"
   ]
  },
  {
   "cell_type": "code",
   "execution_count": 21,
   "id": "b1b1d9e9-9afd-442c-9806-121290fb68e7",
   "metadata": {},
   "outputs": [
    {
     "data": {
      "text/plain": [
       "-8.0"
      ]
     },
     "execution_count": 21,
     "metadata": {},
     "output_type": "execute_result"
    }
   ],
   "source": [
    "number.imag"
   ]
  },
  {
   "cell_type": "markdown",
   "id": "bcdca60a-f5df-42c7-bd61-811fac79013f",
   "metadata": {},
   "source": [
    "Q7. What is the correct way to declare a variable named age and assign the value 25 to it?"
   ]
  },
  {
   "cell_type": "code",
   "execution_count": 23,
   "id": "34bb08b2-ad9d-4246-b6a8-41e602d6f6b3",
   "metadata": {},
   "outputs": [
    {
     "name": "stdout",
     "output_type": "stream",
     "text": [
      "25\n"
     ]
    }
   ],
   "source": [
    "#declaring a variable is easy in python\n",
    "age = 25\n",
    "#here we have declared a variable age and through assignment operator we have assign the value 25\n",
    "print(age)"
   ]
  },
  {
   "cell_type": "markdown",
   "id": "bd7aa806-37e9-41f9-8276-d2b2e47b4216",
   "metadata": {},
   "source": [
    "Q8. Declare a variable named price and assign the value 9.99 to it. What data type does this variable \n",
    "belong to?"
   ]
  },
  {
   "cell_type": "code",
   "execution_count": 24,
   "id": "86c081ce-e538-45ac-9ae1-189f350190b4",
   "metadata": {},
   "outputs": [
    {
     "data": {
      "text/plain": [
       "float"
      ]
     },
     "execution_count": 24,
     "metadata": {},
     "output_type": "execute_result"
    }
   ],
   "source": [
    "price = 9.99\n",
    "type(price)\n",
    "#It is a float data type "
   ]
  },
  {
   "cell_type": "markdown",
   "id": "70c19d96-0884-4789-89e7-4e2f0fb06382",
   "metadata": {},
   "source": [
    "Q9. Create a variable named name and assign your full name to it as a string. How would you print the \n",
    "value of this variable?"
   ]
  },
  {
   "cell_type": "code",
   "execution_count": 25,
   "id": "75bc0f3c-c98f-4b5b-96ad-ddcc3f77f94a",
   "metadata": {},
   "outputs": [
    {
     "name": "stdout",
     "output_type": "stream",
     "text": [
      "Shubham Subhash Kumbhar\n"
     ]
    }
   ],
   "source": [
    "name = \"Shubham Subhash Kumbhar\"\n",
    "print(name)"
   ]
  },
  {
   "cell_type": "markdown",
   "id": "a6d56851-292d-4ef4-b4e2-7ec130f97eff",
   "metadata": {},
   "source": [
    "Q10. Given the string \"Hello, World!\", extract the substring \"World\"."
   ]
  },
  {
   "cell_type": "code",
   "execution_count": 26,
   "id": "81cfe258-27ad-45a5-b8ee-65da2f0aaf13",
   "metadata": {},
   "outputs": [
    {
     "name": "stdout",
     "output_type": "stream",
     "text": [
      "World\n"
     ]
    }
   ],
   "source": [
    "st = \"Hello, World!\"\n",
    "print(st[7:12])"
   ]
  },
  {
   "cell_type": "code",
   "execution_count": 37,
   "id": "2965081f-c26d-4464-9a16-5debe8ad04fa",
   "metadata": {},
   "outputs": [
    {
     "name": "stdout",
     "output_type": "stream",
     "text": [
      "World\n"
     ]
    }
   ],
   "source": [
    "st = \"Hello, World!\"\n",
    "print(st[-6:-1:])"
   ]
  },
  {
   "cell_type": "markdown",
   "id": "cb99e70f-4cc8-44e8-aff3-6d6502ce39c9",
   "metadata": {},
   "source": [
    "Q11. Create a variable named \"is_student\" and assign it a boolean value indicating whether you are \n",
    "currently a student or not."
   ]
  },
  {
   "cell_type": "code",
   "execution_count": 38,
   "id": "a6f7a4b7-2b09-40d6-b6c7-5983b4465657",
   "metadata": {},
   "outputs": [],
   "source": [
    "is_student = True"
   ]
  },
  {
   "cell_type": "code",
   "execution_count": 39,
   "id": "640fb705-b16c-4ecc-bd57-25f05ac35bea",
   "metadata": {},
   "outputs": [],
   "source": []
  },
  {
   "cell_type": "code",
   "execution_count": 40,
   "id": "798f2a19-66f6-405f-b4b1-4d645e836280",
   "metadata": {},
   "outputs": [
    {
     "data": {
      "text/plain": [
       "int"
      ]
     },
     "execution_count": 40,
     "metadata": {},
     "output_type": "execute_result"
    }
   ],
   "source": []
  },
  {
   "cell_type": "code",
   "execution_count": null,
   "id": "3416846f-50ea-4026-9b9f-d458f8e5b46f",
   "metadata": {},
   "outputs": [],
   "source": []
  }
 ],
 "metadata": {
  "kernelspec": {
   "display_name": "Python 3 (ipykernel)",
   "language": "python",
   "name": "python3"
  },
  "language_info": {
   "codemirror_mode": {
    "name": "ipython",
    "version": 3
   },
   "file_extension": ".py",
   "mimetype": "text/x-python",
   "name": "python",
   "nbconvert_exporter": "python",
   "pygments_lexer": "ipython3",
   "version": "3.10.8"
  }
 },
 "nbformat": 4,
 "nbformat_minor": 5
}

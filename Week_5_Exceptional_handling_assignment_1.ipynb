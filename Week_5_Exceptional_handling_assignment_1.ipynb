{
 "cells": [
  {
   "cell_type": "markdown",
   "id": "b5e4536e-43e7-4455-9e22-26ca36d92168",
   "metadata": {},
   "source": [
    "Q1. What is an Exception in Python ? write the difference between Execeptions and syntax errors"
   ]
  },
  {
   "cell_type": "raw",
   "id": "cef5ae5d-acbb-42ea-811d-0fd9673068d8",
   "metadata": {},
   "source": [
    "Exception can be described as ,when an exception occurs then whole program gets disturbed as the exception has occured example , if a user writes a code for opening a desired file and then performing operations on that file but if the computer doesn't find the file then it will throw an error without performing further operations/task. Thus to overcome this problem exceptional handling is done where a programmer knows when an error can occur and how to overcome that error without breaking the program flow.The Difference between the syntax error and exception is , in syntax proper structure has to be followed to get the program excuted properly eg. \n",
    "syntax of if:-\n",
    "if (condition):\n",
    "   text to be printed\n",
    "elif (condition):\n",
    "   text to be printed\n",
    "else:\n",
    "   text to be printed\n",
    "In above example if there will be no condition given to the if/elif then the compiler will prompt syntax error\n",
    "where as in exception we can create an exception if user enters the wrong input without distubing the code and the breakflow of the code can be avoided."
   ]
  },
  {
   "cell_type": "markdown",
   "id": "fb5ff6f8-4b36-485f-8faa-ebff1898022c",
   "metadata": {},
   "source": [
    "Q2) What Happens when a exception is not handled? Exaplain with an example."
   ]
  },
  {
   "cell_type": "markdown",
   "id": "ea073610-43c6-4271-b051-877ba4be5597",
   "metadata": {},
   "source": [
    "When An exception is not handled the further execution of the program is not done irrespective of the error which has been occured."
   ]
  },
  {
   "cell_type": "code",
   "execution_count": 1,
   "id": "e4e93593-fdfe-47f6-81d0-e54fa23de4d2",
   "metadata": {},
   "outputs": [
    {
     "ename": "ZeroDivisionError",
     "evalue": "division by zero",
     "output_type": "error",
     "traceback": [
      "\u001b[0;31m---------------------------------------------------------------------------\u001b[0m",
      "\u001b[0;31mZeroDivisionError\u001b[0m                         Traceback (most recent call last)",
      "Cell \u001b[0;32mIn[1], line 4\u001b[0m\n\u001b[1;32m      2\u001b[0m b\u001b[38;5;241m=\u001b[39m\u001b[38;5;241m10\u001b[39m\n\u001b[1;32m      3\u001b[0m c\u001b[38;5;241m=\u001b[39m\u001b[38;5;241m78\u001b[39m\n\u001b[0;32m----> 4\u001b[0m \u001b[38;5;28mprint\u001b[39m(\u001b[43mb\u001b[49m\u001b[38;5;241;43m/\u001b[39;49m\u001b[43ma\u001b[49m)\n\u001b[1;32m      5\u001b[0m \u001b[38;5;28mprint\u001b[39m(c\u001b[38;5;241m/\u001b[39mb)\n",
      "\u001b[0;31mZeroDivisionError\u001b[0m: division by zero"
     ]
    }
   ],
   "source": [
    "a = 0\n",
    "b=10\n",
    "c=78\n",
    "print(b/a)\n",
    "print(c/b)"
   ]
  },
  {
   "cell_type": "markdown",
   "id": "9318ea3c-905c-4c95-812a-af32d6486a4b",
   "metadata": {},
   "source": [
    "Here in above code the exception error which has occured is ZerodivisionError,but c/b can be an output without an error as python compiles  line by line due to exception it has not further executed and throws output."
   ]
  },
  {
   "cell_type": "markdown",
   "id": "b41bdab6-3486-4f71-a86a-d2aea20aaacd",
   "metadata": {},
   "source": [
    "To over come this we use try except method"
   ]
  },
  {
   "cell_type": "code",
   "execution_count": 3,
   "id": "26dbb75b-861c-4309-8a1c-58a3d60c5c2e",
   "metadata": {},
   "outputs": [
    {
     "name": "stdout",
     "output_type": "stream",
     "text": [
      "division by zero\n",
      "7.8\n"
     ]
    }
   ],
   "source": [
    "a = 0\n",
    "b=10\n",
    "c=78\n",
    "try:\n",
    "    print(b/a)\n",
    "except Exception as e:\n",
    "    print(e)\n",
    "    print(c/b)\n",
    "    "
   ]
  },
  {
   "cell_type": "markdown",
   "id": "b8f9c26f-014a-4e42-ab8a-c855f37bebee",
   "metadata": {},
   "source": [
    "Q3) Which Python Statements are used to catch and handle exceptions ? explain with an example.\n"
   ]
  },
  {
   "cell_type": "markdown",
   "id": "39b0bf3e-eebf-4adc-9e17-a8bcc8594cac",
   "metadata": {},
   "source": [
    "Try and except statements are used to catch and handle exceptions in python.\n",
    "Example:- trying to read a file which does not exist"
   ]
  },
  {
   "cell_type": "code",
   "execution_count": 4,
   "id": "5d0faffc-da8a-457a-aca7-4c47012c448f",
   "metadata": {},
   "outputs": [
    {
     "name": "stdout",
     "output_type": "stream",
     "text": [
      "[Errno 2] No such file or directory: 'test1.txt'\n"
     ]
    }
   ],
   "source": [
    "try:\n",
    "    with open (\"test1.txt\" , 'r')as f:\n",
    "        f.write(\"This is the first text to write\")\n",
    "except Exception as e:\n",
    "    print(e)"
   ]
  },
  {
   "cell_type": "markdown",
   "id": "0db14aeb-01ea-46fb-bafe-429b79483bbc",
   "metadata": {},
   "source": [
    "Q4) Explain with example:\n",
    "    a.Try and else\n",
    "    b.finally\n",
    "    c.raise"
   ]
  },
  {
   "cell_type": "code",
   "execution_count": 5,
   "id": "6359b3b9-9d08-47ba-9499-9cbe6005a7b5",
   "metadata": {},
   "outputs": [],
   "source": [
    "try:\n",
    "    with open(\"text1.txt\" , 'w') as f:\n",
    "        f.write(\"The First Text to be written\")\n",
    "except Exception as e:\n",
    "    print(e)\n",
    "else:\n",
    "    f.close()\n",
    "    "
   ]
  },
  {
   "cell_type": "code",
   "execution_count": 7,
   "id": "f8508b07-4b3d-421c-bf48-0d42177a0cac",
   "metadata": {},
   "outputs": [
    {
     "name": "stdout",
     "output_type": "stream",
     "text": [
      "Compulsory this gets executed\n"
     ]
    }
   ],
   "source": [
    "try:\n",
    "    with open(\"text2.txt\" , 'w') as f:\n",
    "        f.write(\"The First Text to be written\")\n",
    "except Exception as e:\n",
    "    print(e)\n",
    "finally:\n",
    "    f.close()\n",
    "    print(\"Compulsory this gets executed\")"
   ]
  },
  {
   "cell_type": "code",
   "execution_count": 8,
   "id": "615b0b5b-06b2-478d-a09a-e3896baf03c6",
   "metadata": {},
   "outputs": [],
   "source": [
    "class eligiblity(Exception):\n",
    "    def __init__(self,var):\n",
    "        self.var=var\n",
    "def check_age(age):\n",
    "    if age<0:\n",
    "        raise eligiblity(\"Please Enter a valid age\")\n",
    "    elif age>0 and age<=17:\n",
    "        raise eligiblity(\"Your age is not valid\")\n",
    "    else:\n",
    "        raise eligiblity(\"You are valid\")"
   ]
  },
  {
   "cell_type": "code",
   "execution_count": 11,
   "id": "5114895b-d92c-47c2-ab8d-b41c36e6d66c",
   "metadata": {},
   "outputs": [
    {
     "name": "stdin",
     "output_type": "stream",
     "text": [
      "Enter the age 14\n"
     ]
    },
    {
     "name": "stdout",
     "output_type": "stream",
     "text": [
      "Your age is not valid\n"
     ]
    }
   ],
   "source": [
    "try:\n",
    "    age = int(input(\"Enter the age\"))\n",
    "    check_age(age)\n",
    "except eligiblity as e:\n",
    "    print(e)"
   ]
  },
  {
   "cell_type": "markdown",
   "id": "4e0c4dc5-4c98-4ae0-8b7b-ac9b93d7d763",
   "metadata": {},
   "source": [
    "Q5) What are custom exceptions  in python? Why do we need Custom Exceptions? Explain with example"
   ]
  },
  {
   "cell_type": "markdown",
   "id": "6a0bc120-b9b9-4ef7-90c3-e7f2a2605844",
   "metadata": {},
   "source": [
    "custom exceptions are those exceptions in which we can write our own exception text that will be displayed if an exception occurs.The Properties of this are inherited by using Exception super class into the our own class."
   ]
  },
  {
   "cell_type": "code",
   "execution_count": 12,
   "id": "de8f2002-5395-4a8b-859a-8cbf3d503bfb",
   "metadata": {},
   "outputs": [],
   "source": [
    "class exp(Exception):\n",
    "    def __init__(self,msg):\n",
    "        self.msg = msg"
   ]
  },
  {
   "cell_type": "code",
   "execution_count": 13,
   "id": "00408429-7baa-4dff-8680-f0234f66bbe0",
   "metadata": {},
   "outputs": [],
   "source": [
    "def subjects(marks):\n",
    "    if marks<0:\n",
    "        raise exp(\"Enter a valid marks\")\n",
    "    elif marks>100:\n",
    "        raise exp(\"marks entered are above 100\")\n",
    "    else:\n",
    "        print(\"Congrats\")\n",
    "    "
   ]
  },
  {
   "cell_type": "code",
   "execution_count": 15,
   "id": "9361cfcd-4127-4f42-b070-d460498ef729",
   "metadata": {},
   "outputs": [
    {
     "name": "stdin",
     "output_type": "stream",
     "text": [
      "Enter the marks 890\n"
     ]
    },
    {
     "name": "stdout",
     "output_type": "stream",
     "text": [
      "marks entered are above 100\n"
     ]
    }
   ],
   "source": [
    "try:\n",
    "    marks = int(input(\"Enter the marks\"))\n",
    "    subjects(marks)\n",
    "except exp as e:\n",
    "    print(e)\n",
    "    "
   ]
  },
  {
   "cell_type": "markdown",
   "id": "29664b46-e6b8-4267-aded-3f578bf19931",
   "metadata": {},
   "source": [
    "Q6) Create a custom exception class. use this to handle an exception"
   ]
  },
  {
   "cell_type": "code",
   "execution_count": 16,
   "id": "5e29dd74-9fa1-48d1-8371-bd0adc2fea28",
   "metadata": {},
   "outputs": [],
   "source": [
    "class eligiblity(Exception):\n",
    "    def __init__(self,var):\n",
    "        self.var=var\n",
    "def check_age(age):\n",
    "    if age<0:\n",
    "        raise eligiblity(\"Please Enter a valid age\")\n",
    "    elif age>0 and age<=17:\n",
    "        raise eligiblity(\"Your age is not valid\")\n",
    "    else:\n",
    "        raise eligiblity(\"You are valid\")"
   ]
  },
  {
   "cell_type": "code",
   "execution_count": 17,
   "id": "d806f8d5-44c0-41bd-abe8-47894184648e",
   "metadata": {},
   "outputs": [
    {
     "name": "stdin",
     "output_type": "stream",
     "text": [
      "Enter the age 67\n"
     ]
    },
    {
     "name": "stdout",
     "output_type": "stream",
     "text": [
      "You are valid\n"
     ]
    }
   ],
   "source": [
    "try:\n",
    "    age = int(input(\"Enter the age\"))\n",
    "    check_age(age)\n",
    "except eligiblity as e:\n",
    "    print(e)"
   ]
  },
  {
   "cell_type": "code",
   "execution_count": null,
   "id": "236e1b25-2d25-4d68-b703-a4134e67a12b",
   "metadata": {},
   "outputs": [],
   "source": []
  }
 ],
 "metadata": {
  "kernelspec": {
   "display_name": "Python 3 (ipykernel)",
   "language": "python",
   "name": "python3"
  },
  "language_info": {
   "codemirror_mode": {
    "name": "ipython",
    "version": 3
   },
   "file_extension": ".py",
   "mimetype": "text/x-python",
   "name": "python",
   "nbconvert_exporter": "python",
   "pygments_lexer": "ipython3",
   "version": "3.10.8"
  }
 },
 "nbformat": 4,
 "nbformat_minor": 5
}

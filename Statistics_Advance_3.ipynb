{
  "cells": [
    {
      "cell_type": "code",
      "execution_count": null,
      "metadata": {
        "id": "4RaVhzseHv_e"
      },
      "outputs": [],
      "source": []
    },
    {
      "cell_type": "markdown",
      "metadata": {
        "id": "azMYobyGH0Jv"
      },
      "source": [
        "### Question 1: What is Estimation Statistics? Explain point estimate and interval estimate\n"
      ]
    },
    {
      "cell_type": "markdown",
      "metadata": {
        "id": "qe-zQf75H6D0"
      },
      "source": [
        "Estimation statistics is a branch of statistics that deals with estimating or inferring population parameters based on sample data. In other words, it involves using the statistical methods to estimate the values of parameters that describe a population from a sample of that population.\n",
        "#### There are two main types of estimation: point and interval estimation\n",
        "1. Point Estimation: Point estimation involves estimating a population parameter by a single value, which is called a point estimate. A point estimate is usually the sample statistic, such as the sample mean, sample proportion, or sample standard deviation. For example, if you want to estimate the average height of all people in a city, you can take a sample of people and calculate the mean height of that sample. This mean height is a point estimate of the population mean height.\n",
        "2. Interval Estimation: Interval estimation involves estimating a population parameter by a range of values, which is called an interval estimate. The range of values is called a confidence interval, and it provides a measure of the precision or uncertainty of the estimate. The confidence interval is usually computed by using a sample statistic and a margin of error. For example, if you want to estimate the average height of all people in a city, you can take a sample of people and calculate the mean height of that sample, along with a margin of error. The confidence interval for the population mean height is the range of values that includes the point estimate (sample mean) and the margin of error."
      ]
    },
    {
      "cell_type": "markdown",
      "metadata": {
        "id": "XhrJDUSWJgQX"
      },
      "source": [
        "### Question 2 : Write a Python function to estimate the population mean using a sample mean and standard deviation."
      ]
    },
    {
      "cell_type": "code",
      "execution_count": null,
      "metadata": {
        "id": "qJP8UEM0HilR"
      },
      "outputs": [],
      "source": [
        "import math\n",
        "import scipy.stats as stats\n",
        "\n",
        "def estimate_pop_mean(samples, confidence_level=0.95):\n",
        "    # calculate the sample mean and standard deviation\n",
        "    sample_mean = sum(samples) / len(samples)\n",
        "    sample_std = math.sqrt(sum([(x - sample_mean)**2 for x in samples]) / (len(samples) - 1))\n",
        "\n",
        "    # calculate the t-value for the desired level of confidence and degrees of freedom\n",
        "    alpha = 1 - confidence_level\n",
        "    dof = len(samples) - 1\n",
        "    t_value = stats.t.ppf(1 - alpha/2, dof)\n",
        "\n",
        "    # calculate the standard error and margin of error\n",
        "    std_error = sample_std / math.sqrt(len(samples))\n",
        "    margin_of_error = t_value * std_error\n",
        "\n",
        "    # calculate the confidence interval bounds\n",
        "    lower_bound = sample_mean - margin_of_error\n",
        "    upper_bound = sample_mean + margin_of_error\n",
        "\n",
        "    # return the confidence interval as a tuple\n",
        "    return (lower_bound, upper_bound)"
      ]
    },
    {
      "cell_type": "code",
      "execution_count": null,
      "metadata": {
        "colab": {
          "base_uri": "https://localhost:8080/"
        },
        "id": "NwECuXcsN9tE",
        "outputId": "761549bf-d154-4f25-d983-b965f80fc1fa"
      },
      "outputs": [
        {
          "name": "stdout",
          "output_type": "stream",
          "text": [
            "ESTIMATED population mean point estimate is : 54.912574556255514\n",
            "ESTIMATED population mean with 95% confidence interval : (49.21364799414703,60.611501118364025)\n",
            "\n",
            "==========================================================================================================\n",
            "\n",
            "ACTUAL Population mean is : 49.02565533201336\n"
          ]
        }
      ],
      "source": [
        "import numpy as np\n",
        "import random\n",
        "\n",
        "# Set random seed for reproducibility\n",
        "np.random.seed(42)\n",
        "\n",
        "# Create a population of 1000 random values between 0 and 100\n",
        "population_size = 1000\n",
        "population = np.random.uniform(low=0, high=100, size=population_size)\n",
        "\n",
        "# Take a random sample of 100 values from the population\n",
        "sample_size = 100\n",
        "sample = random.sample(list(population), sample_size)\n",
        "\n",
        "# Estimate the population mean and interval using the sample data\n",
        "lower_bound, upper_bound = estimate_pop_mean(sample)\n",
        "\n",
        "# Print the estimated mean\n",
        "print(f\"ESTIMATED population mean point estimate is : {np.mean(sample)}\")\n",
        "print(f\"ESTIMATED population mean with 95% confidence interval : ({lower_bound},{upper_bound})\")\n",
        "print('\\n==========================================================================================================\\n')\n",
        "# Printing Actual population mean\n",
        "print(f\"ACTUAL Population mean is : {np.mean(population)}\")"
      ]
    },
    {
      "cell_type": "markdown",
      "metadata": {
        "id": "JiknI2ZP0Giw"
      },
      "source": [
        "\n",
        "\n",
        "```\n",
        "# This is formatted as code\n",
        "```\n",
        "\n",
        "### Question 3 : What is Hypothesis testing? Why is it used? State the importance of Hypothesis testing"
      ]
    },
    {
      "cell_type": "markdown",
      "metadata": {
        "id": "3CauP_ll2-Xg"
      },
      "source": [
        "Hypothesis testing is a statistical method used to determine whether a hypothesis about a population is supported by the evidence provided by a sample data. The process involves making a statistical inference about a population parameter, such as a mean or a proportion, based on sample data.\n",
        "\n",
        "In Hypothesis testing, a null hypothesis is intially assumed to be true, and then evidence is gathered and analyzed to determine whether the null hypothesis can be rejected in favor of an alternative hypothesis. The Null Hypothesis represents the status quo or the default assumption, while the alternative hypothesis represents the proposed change or difference.\n",
        "\n",
        "Hypothesis testing is used in many fields, including science, engineering, business, and social sciences, to draw conclusions about the population based on sample data. For Example, a pharmaceutical company may use hypothesis testing to determine whether a new drug is more effective than an existing drug. A marketing team may use hypothesis testing to determine whether a new advertising campaign is more effective than the current one.\n",
        "\n",
        "The importance of hypothesis testing lies in its ability to make statistical inferences about a population based on sample data, while accounting for the uncertainty and variability of the data. It provides a systematic and objective way to test a hypothesis and draw conclusions based on the evidence. Hypothesis testing allows us to make informed decisions based on data, rather than relying on intuition or guesswork. It is a critical tool in scientific research, where the validity and reliability of the results depend on the appropriate use of hypothesis testing.\n",
        "\n",
        "\n"
      ]
    },
    {
      "cell_type": "markdown",
      "metadata": {
        "id": "7sI0fcjxU6Ld"
      },
      "source": [
        "### Question 4 : Create a hypothesis that states whether the average weight of male college students is greater than the average weight of female college students.\n"
      ]
    },
    {
      "cell_type": "markdown",
      "metadata": {
        "id": "5WiOmeeYVXX-"
      },
      "source": [
        "#### Null Hypopothesis: This Avergae Weight of male college students is equal to or less than the average weight of female college students.\n",
        "\n",
        "#### Alternative Hypothesis: The Average weight of male college students is greater than the average weight of female college students.\n",
        "\n",
        "in statistical notation, this can be represented as:\n",
        "H0: μm ≤ μf\n",
        "Ha: μm > μf\n",
        "\n",
        "where:\n",
        "H0 = null hypothesis\n",
        "\n",
        "Ha = alternative hypothesis\n",
        "\n",
        "μm = population mean weight of male college students\n",
        "\n",
        "μf = population mean weight of female college students\n",
        "\n",
        "The Null Hypothesis assumes that there is no significance difference in weight between male and female college students.\n",
        "The alternative hypothesis assumes that there is a significant difference in weight, and specifically that male college students have a higher average weight than female college students.\n",
        "\n"
      ]
    },
    {
      "cell_type": "markdown",
      "metadata": {
        "id": "2StFUAahYu9k"
      },
      "source": [
        "### Question 5 : Write a Python script to conduct a hypothesis test on the difference between two population means, given a sample from each population."
      ]
    },
    {
      "cell_type": "markdown",
      "metadata": {
        "id": "xQmoSTiiY8yG"
      },
      "source": [
        "#### Answer:\n",
        "Done this with help of t distribution from scipy.stats"
      ]
    },
    {
      "cell_type": "code",
      "execution_count": null,
      "metadata": {
        "colab": {
          "base_uri": "https://localhost:8080/"
        },
        "id": "AD15nAQzQXwq",
        "outputId": "8ae73f02-4472-4da6-96c5-66f83a03af2d"
      },
      "outputs": [
        {
          "name": "stdout",
          "output_type": "stream",
          "text": [
            "p-value : 0.22461584380277022\n",
            "t-statistic : 0.7955870797707367\n",
            "t-crit : 2.306004135204166\n",
            "Fail to reject the null hypothesis: The population means of the two samples are EQUAL\n",
            "Fail to reject the null hypothesis: The population means of the two samples are EQUAL\n"
          ]
        }
      ],
      "source": [
        "import numpy as np\n",
        "from scipy.stats import t\n",
        "\n",
        "# Sample data\n",
        "sample1 = np.array([2.5, 3.2, 2.9, 3.8, 3.5])\n",
        "sample2 = np.array([2.1, 3.0, 3.5, 2.8, 3.2])\n",
        "\n",
        "# Sample statistics\n",
        "n1 = len(sample1)\n",
        "n2 = len(sample2)\n",
        "mean1 = np.mean(sample1)\n",
        "mean2 = np.mean(sample2)\n",
        "std1 = np.std(sample1, ddof=1)\n",
        "std2 = np.std(sample2, ddof=1)\n",
        "\n",
        "# Null and alternative hypotheses\n",
        "null_hypothesis = \"The population means of the two samples are EQUAL\"\n",
        "alt_hypothesis = \"The population mean of sample 1 and sample 2 are NOT Equal\"\n",
        "\n",
        "# Calculate the t-statistic and degrees of freedom\n",
        "sp = np.sqrt(((n1-1)*(std1**2) + (n2-1)*(std2**2)) / (n1+n2-2))\n",
        "t_stat = (mean1 - mean2) / (sp * np.sqrt(1/n1 + 1/n2))\n",
        "df = n1 + n2 - 2\n",
        "\n",
        "# Calculate the p-value and critical value\n",
        "p_value = 1 - t.cdf(t_stat, df=df)\n",
        "alpha = 0.05\n",
        "t_crit = t.ppf(1-alpha/2, df=df)\n",
        "\n",
        "# Print p_value\n",
        "print(f'p-value : {p_value}')\n",
        "\n",
        "# Print t_stat\n",
        "print(f't-statistic : {t_stat}')\n",
        "\n",
        "#print t_crit\n",
        "print(f't-crit : {t_crit}')\n",
        "\n",
        "# Compare the p-value and critical value to the significance level\n",
        "if p_value < alpha:\n",
        "    print(\"Reject the null hypothesis: \" + null_hypothesis)\n",
        "    print(\"Accept the alternative hypothesis: \" + alt_hypothesis)\n",
        "else:\n",
        "    print(\"Fail to reject the null hypothesis: \" + null_hypothesis)\n",
        "\n",
        "# Compare the t-statistic to the critical value\n",
        "if abs(t_stat) > t_crit:\n",
        "    print(\"Reject the null hypothesis: \" + null_hypothesis)\n",
        "    print(\"Accept the alternative hypothesis: \" + alt_hypothesis)\n",
        "else:\n",
        "    print(\"Fail to reject the null hypothesis: \" + null_hypothesis)"
      ]
    },
    {
      "cell_type": "markdown",
      "metadata": {
        "id": "gSEk0aQwCLjV"
      },
      "source": [
        "### Question 6 : What is a null and alternative hypothesis? Give some examples\n",
        "\n",
        "Answer:\n",
        "In Statistical Hypothesis testing, the Null Hypothesis (Denoted as Ho) is a statement that assumes there is no significant difference between two or more variables, or more variables or that a proposed relationship does not exist between variables.\n",
        "\n",
        "The alternative hyposthesis is a statement that contradicts the null hypothesis and claims that there is a significant difference between variables or a proposed relationship does exist.\n",
        "\n",
        "Examples os Null Hypothesis adn alternative hypothesis:\n",
        "1. Null Hypothesis: The average age of customer who buy product a and product b is the same. Alternative hypothesis: the average age of customers who bu product a is different from the average age of customers who buy product b.\n",
        "2. Null Hypothesis: The New Drug Has no effect on blood pressure. Alternative Hypothesis:The New Drug Reduces blood Pressure.\n",
        "3. Null Hypothesis: There is no relationship between education level and job satisfaction. Alternative Hypothesis: Higher education levels are associated with higher job satisfaction.\n",
        "4. Null Hypothesis: The mean weight of male and female students is the same. Alternative Hypothesis: The mean weight of male students is greater than the mean weight of female students.\n",
        "5. Null Hypothesis: The proportion of voters who support Candidate A is the same as the proportion who support Candidate B. Alternative Hypothesis: The proportion of voters who support Candidate A is different from the proportion who support Candidate B.\n",
        "\n"
      ]
    },
    {
      "cell_type": "markdown",
      "metadata": {
        "id": "isTf3628HHzI"
      },
      "source": [
        "### Question 7: Write Down the Steps involved in hypothesis testing.\n",
        "Answer:\n",
        "The General Steps Invloved in hypothesis testing are:\n",
        "1. State The Null and alternative hypotheses: This Involves defining the null hypothesis(Ho) and alternative hypothesis(Ha) based on the research question or problem being investigated.\n",
        "\n",
        "2. Determine the level of significance: This involves selecting a level of significance(alpha) hat represents the maximum probability of making a Type I error (Rejecting the Null Hypothesis when it is actually true).\n",
        "\n",
        "3. Choose the appropriate test Statistic: This Depends on the type of data being analyzed, the sample size, and the assumptions of the statistical test.\n",
        "\n",
        "4. Calculate the test statistic: This involves computing the test statistic based on the sample data.\n",
        "\n",
        "5. Determine the p-value: This is the probability of obtaining a test statistic as extreme or more extreme than the observed value, assuming the null hypothesis is true.\n",
        "\n",
        "6. Compare the p-value to the evel of significance:If the p-value is less than or equal to the level of significance, reject the null hypothesis. If the p-value is greater than the level of significance, fail to reject the null hypothesis.\n",
        "\n",
        "7. Interpret the result: This involves drawing conculsions based on the statistical analysis and determining the practical significance of the findings.\n",
        "\n",
        "8. Make a decision and draw conclusions: Based on the results of the hypothesis test, make a decision regarding the research question and draw conclusions based on the findings."
      ]
    },
    {
      "cell_type": "markdown",
      "metadata": {
        "id": "0WfO5VE6K4Eg"
      },
      "source": [
        "### Question 8 : Define p-value and explain its significance in hypothesis testing.\n",
        " Answer:\n",
        " In hypothesis testing, the p-value is the probability of obtaining a test statistic as extreme or more extreme than the observed value, assuming the null hypothesis is true. The p-value is a measure of the strength of the evidence against the null hypothesis.\n",
        "\n",
        " If the p-value is less than or equal to the level of significance(alpha), it is considered statistically significant, and the null hypothesis is rejected. This indicated that the observed result is unlikely to have occurred by chance and supports the alternative hypothesis. If the p-value is greater than the level of significance, the null hypothesis cannot be rejected, and the result is not considered statistically significant.\n",
        "\n",
        " The p-value is significant because it provides a quantitative measure of the strength of the evidence against the null hypothesis. A small p-value indicates strong evidence against the null hypothesis, where as a large p-value indicates weak evidence against the null hypothesis. The p-value also helps researchers make informed decisions about whether to reject or fail to reject the null hypothesis and draw conclusions based on the statistical analysis."
      ]
    },
    {
      "cell_type": "markdown",
      "metadata": {
        "id": "AmxA46lFK4Ol"
      },
      "source": [
        "### Question 9 : Generate a Student's t-distribution plot using Python's matplotlib library, with the degrees of freedom parameter set to 10."
      ]
    },
    {
      "cell_type": "code",
      "execution_count": null,
      "metadata": {
        "colab": {
          "background_save": true
        },
        "id": "c0DjhuJsc4SK",
        "outputId": "65618951-f31a-40fa-a686-51b43aebcdeb"
      },
      "outputs": [
        {
          "data": {
            "image/png": "[encoded data removed]",
            "text/plain": [
              "<Figure size 640x480 with 1 Axes>"
            ]
          },
          "metadata": {},
          "output_type": "display_data"
        }
      ],
      "source": [
        "import matplotlib.pyplot as plt\n",
        "import numpy as np\n",
        "from scipy.stats import t\n",
        "\n",
        "df = 10\n",
        "data = t.rvs(df , size =1000)\n",
        "\n",
        "fig, ax = plt.subplots()\n",
        "ax.hist(data, bins = 'fd' , density = True , alpha = 0.5,edgecolor = 'black', label = 'histogram')\n",
        "\n",
        "kde_xs = np.linspace(data.min() , data.max() , 1000)\n",
        "kde = t.pdf(kde_xs , df)\n",
        "ax.plot(kde_xs , kde , label=\"KDE\" , linewidth = 2)\n",
        "\n",
        "\n",
        "ax.set_xlabel('x')\n",
        "ax.set_ylabel('Probability density')\n",
        "ax.set_title('Student\\'s t-distribution with 10 degrees of freedom')\n",
        "ax.legend(loc='best')\n",
        "plt.show()"
      ]
    },
    {
      "cell_type": "markdown",
      "source": [
        "### Question 10 : Write a Python program to calculate the two-sample t-test for independent samples, given two random samples of equal size and a null hypothesis that the population means are equal"
      ],
      "metadata": {
        "id": "BEcrBN11cS8m"
      }
    },
    {
      "cell_type": "code",
      "execution_count": 2,
      "metadata": {
        "id": "ZqExalmLTlc0",
        "colab": {
          "base_uri": "https://localhost:8080/"
        },
        "outputId": "aa6462ab-94a1-4e5e-e543-4fd11ee2ea88"
      },
      "outputs": [
        {
          "output_type": "stream",
          "name": "stdout",
          "text": [
            "t-statistic : -4.234238284912947\n",
            "p-value : 5.17685632444983e-05\n",
            "Confidence Interval =  0.99\n",
            "\n",
            "\n",
            "REJECT the null hypothesis that the population means are equal.\n",
            "Conclusion : Population means for both samples are DIFFERENT\n"
          ]
        }
      ],
      "source": [
        "import numpy as np\n",
        "from scipy.stats import ttest_ind\n",
        "\n",
        "sample1 = np.random.normal(loc = 10 , scale =2 , size = 50)\n",
        "sample2 = np.random.normal(loc = 12 , scale=2 , size = 50)\n",
        "\n",
        "t_stat , p_value = ttest_ind(sample1 , sample2)\n",
        "\n",
        "print(f't-statistic : {t_stat}')\n",
        "print(f'p-value : {p_value}')\n",
        "\n",
        "alpha = 0.01\n",
        "print(\"Confidence Interval = \", 1-alpha)\n",
        "print('\\n')\n",
        "\n",
        "if p_value < alpha:\n",
        "    print(\"REJECT the null hypothesis that the population means are equal.\")\n",
        "    print(\"Conclusion : Population means for both samples are DIFFERENT\")\n",
        "else:\n",
        "    print(\"FAIL to reject the null hypothesis that the population means are equal.\")\n",
        "    print(\"Conclusion : Population means for both samples are EQUAL\")\n",
        "\n"
      ]
    },
    {
      "cell_type": "markdown",
      "source": [
        "### Question 11 : What is Student’s t distribution? When to use the t-Distribution"
      ],
      "metadata": {
        "id": "FqugA8BAd0yh"
      }
    },
    {
      "cell_type": "markdown",
      "source": [
        "Answer:\n",
        "Student's t-distribution, also know as the t-distribution, is a probability distribution that is used to estimate the mean of a normally distributed population when the sample size is small and/or the population standard deviation is unknown.  It was first introduced by William Sealy Gosset in 1908, who published under the pseudonym \"Student\".\n",
        "\n",
        "The t-distribution looks similar to a normal distribution, but it has heavier tails and is more spread out. The shape of the t-distribution depends on a parameter known as degrees of freedom (df), which is related to the sample size.\n",
        "\n",
        "In general, the t-distribution is used in hypothesis testing and confidence interval estimation when the sample size is small (less than 30) or the population standard deviation is unknown. It allows us to make inferences about the population mean based on a small sample of data. The t-distribution is commonly used in a variety of fields, including statistics, engineering, and social sciences.\n",
        "\n",
        "Specifically, we use the t-distribution when:\n",
        "1. The Sample Size is samll (less than 30).\n",
        "2. The Population standard deviation is unknown.\n",
        "3. The Population is normally distributed or approximately normally distributed\n",
        "4. We want to make inferences about the population mean, such as testing whether a sample mean is significantly different from a hypothesized.\n",
        "5. Population mean or Constructing a confidence interval for the population mean.\n",
        "\n",
        "#### Overall, the t-distribution is a useful tool for statistical analysis when working with small sample sizes or when the population standard deviation is unknown.\n",
        "\n",
        "\n"
      ],
      "metadata": {
        "id": "D66geFebd74_"
      }
    },
    {
      "cell_type": "markdown",
      "source": [
        "### Question 12 : What is t-statistic? State the formula for t-statistic.\n",
        "Answer:\n",
        "The t-statistic is a test statistic that is used in hypothesis testing and confidence interval estimation when the population standard deviation is unknown and the sample size is small. It is a standardized measure of the difference between the sample mean and the hypothesized population mean, in units of the sample standard deviation.\n",
        "The formula for the t-statistic is:\n",
        " t = sample mean - hypothesized population mean / sample standard deviation / root of sample size\n",
        "where:\n",
        "\n",
        " is the sample mean\n",
        " is the hypothesized population mean\n",
        " is the sample standard deviation\n",
        " is the sample size\n",
        "\n",
        " The formula shows that the t-statistic is the difference between the sample mean and hypothesized population mean, standardized by the standard error of the mean, which is the sample standard deviation divided by the square root of the sample size."
      ],
      "metadata": {
        "id": "sWuwbIWzd7_K"
      }
    },
    {
      "cell_type": "markdown",
      "source": [
        "### Question 13: A Coffee shop owner wants to estimate the average daily revenue for their shop. They Take a random sample of 50 days and find the sample mean revenue to be dollar 500 with a standard deviation of dollar 50. Estimate the population mean revenue with a 95% confidence interval."
      ],
      "metadata": {
        "id": "gFrPwjv1d8Ci"
      }
    },
    {
      "cell_type": "code",
      "source": [
        "import math\n",
        "import scipy.stats as stats\n",
        "\n",
        "sample_mean = 500\n",
        "sample_std = 50\n",
        "sample_size = 50\n",
        "\n",
        "alpha = 0.05\n",
        "dof = sample_size - 1\n",
        "t_value = stats.t.ppf(1-alpha/2 , dof)\n",
        "\n",
        "std_error = sample_std / math.sqrt(sample_size)\n",
        "margin_of_error = t_value * std_error\n",
        "\n",
        "lower_bound = sample_mean - margin_of_error\n",
        "upper_bound = sample_mean + margin_of_error\n",
        "\n",
        "print(f\"The 95% confidence interval for the population mean revenue is: (${lower_bound:.2f}, ${upper_bound:.2f})\")"
      ],
      "metadata": {
        "colab": {
          "base_uri": "https://localhost:8080/"
        },
        "id": "FVZgcCf9jBdL",
        "outputId": "4aa29622-adf5-449a-eb3e-9928474ac4d6"
      },
      "execution_count": 3,
      "outputs": [
        {
          "output_type": "stream",
          "name": "stdout",
          "text": [
            "The 95% confidence interval for the population mean revenue is: ($485.79, $514.21)\n"
          ]
        }
      ]
    },
    {
      "cell_type": "markdown",
      "source": [],
      "metadata": {
        "id": "nHiUxbqkj-R-"
      }
    },
    {
      "cell_type": "markdown",
      "source": [
        "### Question 14 : A researcher hypothesizes that a new drug will decrease blood pressure by 10 mmHg. They conduct a clinical trial with 100 patients and find that the sample mean decrease in blood pressure is 8 mmHg with a standard deviation of 3 mmHg. Test the hypothesis with a significance level of 0.05."
      ],
      "metadata": {
        "id": "9cWG7NMcj-qZ"
      }
    },
    {
      "cell_type": "code",
      "source": [
        "import math\n",
        "import scipy.stats as stats\n",
        "\n",
        "# sample size\n",
        "n = 100\n",
        "\n",
        "# sample mean and standard deviation\n",
        "sample_mean = 8\n",
        "sample_std = 3\n",
        "\n",
        "# hypothesized population mean\n",
        "pop_mean = 10\n",
        "\n",
        "# null hypothesis: the true mean decrease in blood pressure is equal to 10 mmHg\n",
        "# alternative hypothesis: the true mean decrease in blood pressure is less than 10 mmHg\n",
        "null_hypothesis = \"The true mean decrease in blood pressure is equal to 10 mmHg\"\n",
        "alternative_hypothesis = \"The true mean decrease in blood pressure is less than 10 mmHg\"\n",
        "\n",
        "#calculate the t-value and p-value\n",
        "t_value = (sample_mean - pop_mean) / (sample_std / math.sqrt(n))\n",
        "df = n - 1\n",
        "p_value = stats.t.cdf(t_value, df)\n",
        "\n",
        "significance_level = 0.05\n",
        "\n",
        "if p_value < significance_level:\n",
        "    print(f\"The p-value is {p_value}, which is less than the significance level of {significance_level}.\")\n",
        "    print(f\"Reject the null hypothesis: {null_hypothesis}.\")\n",
        "    print(f\"Conclusion: {alternative_hypothesis}.\")\n",
        "else:\n",
        "    print(f\"The p-value is {p_value}, which is greater than the significance level of {significance_level}.\")\n",
        "    print(f\"Fail to reject the null hypothesis: {null_hypothesis}.\")\n",
        "    print(\"Conclusion: There is not enough evidence to conclude that the new drug decreases blood pressure by a statistically significant amount.\")"
      ],
      "metadata": {
        "colab": {
          "base_uri": "https://localhost:8080/"
        },
        "id": "z-R0FxBTjxLl",
        "outputId": "c945d6a4-f3bc-4147-ed93-60e978d32c2b"
      },
      "execution_count": 4,
      "outputs": [
        {
          "output_type": "stream",
          "name": "stdout",
          "text": [
            "The p-value is 7.506144504985108e-10, which is less than the significance level of 0.05.\n",
            "Reject the null hypothesis: The true mean decrease in blood pressure is equal to 10 mmHg.\n",
            "Conclusion: The true mean decrease in blood pressure is less than 10 mmHg.\n"
          ]
        }
      ]
    },
    {
      "cell_type": "markdown",
      "source": [
        "### Question 15 : An electronics company produces a certain type of product with a mean weight of 5 pounds and a standard deviation of 0.5 pounds. A random sample of 25 products is taken, and the sample mean weight is found to be 4.8 pounds. Test the hypothesis that the true mean weight of the products is less than 5 pounds with a significance level of 0.01.\n",
        "\n"
      ],
      "metadata": {
        "id": "UpS4MOgAlNo7"
      }
    },
    {
      "cell_type": "code",
      "source": [
        "import math\n",
        "import scipy.stats as stats\n",
        "\n",
        "# population mean and standard deviation\n",
        "pop_mean = 5\n",
        "pop_std = 0.5\n",
        "\n",
        "# sample size and sample mean\n",
        "n = 25\n",
        "sample_mean = 4.8\n",
        "\n",
        "# null hypothesis: the true mean weight of the products is equal to 5 pounds\n",
        "# alternative hypothesis: the true mean weight of the products is less than 5 pounds\n",
        "null_hypothesis = \"The true mean weight of the products is equal to 5 pounds\"\n",
        "alternative_hypothesis = \"The true mean weight of the products is less than 5 pounds\"\n",
        "\n",
        "# calculate the t-value and p-value\n",
        "t_value = (sample_mean - pop_mean) / (pop_std / math.sqrt(n))\n",
        "p_value = stats.t.cdf(t_value, df=n-1)\n",
        "\n",
        "# compare the p-value with the significance level\n",
        "significance_level = 0.01\n",
        "\n",
        "if p_value < significance_level:\n",
        "    print(f\"The p-value is {p_value:.4f}, which is less than the significance level of {significance_level}.\")\n",
        "    print(f\"Reject the null hypothesis: {null_hypothesis}.\")\n",
        "    print(f\"Conclusion: {alternative_hypothesis}.\")\n",
        "else:\n",
        "    print(f\"The p-value is {p_value:.4f}, which is greater than the significance level of {significance_level}.\")\n",
        "    print(f\"Fail to reject the null hypothesis: {null_hypothesis}.\")\n",
        "    print(\"Conclusion: There is not enough evidence to conclude that the true mean weight of the products is less than 5 pounds.\")"
      ],
      "metadata": {
        "colab": {
          "base_uri": "https://localhost:8080/"
        },
        "id": "UGUE6gzyk75C",
        "outputId": "4bf0e311-7237-478b-d867-e2d63c933d89"
      },
      "execution_count": 5,
      "outputs": [
        {
          "output_type": "stream",
          "name": "stdout",
          "text": [
            "The p-value is 0.0285, which is greater than the significance level of 0.01.\n",
            "Fail to reject the null hypothesis: The true mean weight of the products is equal to 5 pounds.\n",
            "Conclusion: There is not enough evidence to conclude that the true mean weight of the products is less than 5 pounds.\n"
          ]
        }
      ]
    },
    {
      "cell_type": "markdown",
      "source": [
        "### Question 17 : A marketing company wants to estimate the average number of ads watched by viewers during a TV program. They take a random sample of 50 viewers and find that the sample mean is 4 with a standard deviation of 1.5. Estimate the population mean with a 99% confidence interval."
      ],
      "metadata": {
        "id": "RBixwZp-mF2w"
      }
    },
    {
      "cell_type": "code",
      "source": [
        "import math\n",
        "\n",
        "sample_mean = 4\n",
        "sample_size = 50\n",
        "sample_std_dev = 1.5\n",
        "conf_level = 0.99\n",
        "\n",
        "# calculate the t-value for the desired level of confidence and degrees of freedom\n",
        "t_value = stats.t.ppf((1+conf_level)/2,sample_size-1)\n",
        "\n",
        "# Calculate margin of error\n",
        "margin_error = t_value * (sample_std_dev / math.sqrt(sample_size))\n",
        "\n",
        "# Calculate confidence interval\n",
        "lower_interval = sample_mean - margin_error\n",
        "upper_interval = sample_mean + margin_error\n",
        "\n",
        "# Print results\n",
        "print(\"The population mean is between\", round(lower_interval, 2), \"and\", round(upper_interval, 2), \"with\", conf_level * 100, \"% confidence.\")"
      ],
      "metadata": {
        "colab": {
          "base_uri": "https://localhost:8080/"
        },
        "id": "dQYW4MOOl2iM",
        "outputId": "bf8353ed-c25a-4d47-823f-0a1c240909ca"
      },
      "execution_count": 6,
      "outputs": [
        {
          "output_type": "stream",
          "name": "stdout",
          "text": [
            "The population mean is between 3.43 and 4.57 with 99.0 % confidence.\n"
          ]
        }
      ]
    },
    {
      "cell_type": "code",
      "source": [],
      "metadata": {
        "id": "Mv6YHdDDmQhv"
      },
      "execution_count": null,
      "outputs": []
    }
  ],
  "metadata": {
    "colab": {
      "provenance": []
    },
    "kernelspec": {
      "display_name": "Python 3",
      "name": "python3"
    },
    "language_info": {
      "name": "python"
    }
  },
  "nbformat": 4,
  "nbformat_minor": 0
}
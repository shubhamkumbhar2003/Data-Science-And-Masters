{
 "cells": [
  {
   "cell_type": "markdown",
   "id": "b8818f18-c000-4eed-b904-4bc4b0a69c63",
   "metadata": {},
   "source": [
    "Q1) Create a vehicle class with an init method having instances variables as name_of_vehicle,max_speed and average_of vehicle."
   ]
  },
  {
   "cell_type": "code",
   "execution_count": 32,
   "id": "c8baece5-7ebc-430c-8566-d9c691f43b57",
   "metadata": {},
   "outputs": [],
   "source": [
    "class vehicle:\n",
    "    def __init__(self,name_of_vehicle,max_speed,average_of_vehicle):\n",
    "        self.name_of_vehicle = name_of_vehicle\n",
    "        self.max_speed = max_speed\n",
    "        self.average_of_vehicle = average_of_vehicle"
   ]
  },
  {
   "cell_type": "code",
   "execution_count": 33,
   "id": "0fe343dd-0652-4d84-911d-71c8340df726",
   "metadata": {},
   "outputs": [],
   "source": [
    "class_obj_vehicle = vehicle(\"Raider\" , 110 , 58)"
   ]
  },
  {
   "cell_type": "code",
   "execution_count": 27,
   "id": "a60434be-6761-4fa1-a7bf-65a814fa66fe",
   "metadata": {},
   "outputs": [
    {
     "data": {
      "text/plain": [
       "110"
      ]
     },
     "execution_count": 27,
     "metadata": {},
     "output_type": "execute_result"
    }
   ],
   "source": [
    "class_obj_vehicle.max_speed"
   ]
  },
  {
   "cell_type": "code",
   "execution_count": 28,
   "id": "cb669f83-2d0e-44ab-ad80-9b112176a5f1",
   "metadata": {},
   "outputs": [
    {
     "data": {
      "text/plain": [
       "'Raider'"
      ]
     },
     "execution_count": 28,
     "metadata": {},
     "output_type": "execute_result"
    }
   ],
   "source": [
    "class_obj_vehicle.name_of_vehicle"
   ]
  },
  {
   "cell_type": "code",
   "execution_count": 29,
   "id": "f2c0fe71-7aeb-4ba2-9b2f-e0c8b47daaa4",
   "metadata": {},
   "outputs": [
    {
     "data": {
      "text/plain": [
       "58"
      ]
     },
     "execution_count": 29,
     "metadata": {},
     "output_type": "execute_result"
    }
   ],
   "source": [
    "class_obj_vehicle.average_of_vehicle"
   ]
  },
  {
   "cell_type": "markdown",
   "id": "e49fb47d-2fbf-4484-8f80-3b38fbe36635",
   "metadata": {},
   "source": [
    "Q2)Create a child class car from the vehicle class created in Que1,Which will inherit the vehicle class.\n",
    "Create a method named seating_capacity which takes capacity as an argument and returns the name of the vehicle and its seating capacity."
   ]
  },
  {
   "cell_type": "code",
   "execution_count": 36,
   "id": "e05f08ea-763e-4484-8f51-311a2aeae897",
   "metadata": {},
   "outputs": [],
   "source": [
    "class child_car(vehicle):\n",
    "    def seating_capacity(self,capacity):\n",
    "        self.capacity =capacity\n",
    "        return self.name_of_vehicle , self.capacity"
   ]
  },
  {
   "cell_type": "code",
   "execution_count": 38,
   "id": "bdd502b0-949e-4604-9584-c7e4c1dd7a75",
   "metadata": {},
   "outputs": [],
   "source": [
    "obj_child_car = child_car(\"raider\" , 110 , 58)"
   ]
  },
  {
   "cell_type": "code",
   "execution_count": 39,
   "id": "82b4fd1f-1b09-4658-8938-c755776fd314",
   "metadata": {},
   "outputs": [
    {
     "data": {
      "text/plain": [
       "('raider', 50)"
      ]
     },
     "execution_count": 39,
     "metadata": {},
     "output_type": "execute_result"
    }
   ],
   "source": [
    "obj_child_car.seating_capacity(50)"
   ]
  },
  {
   "cell_type": "markdown",
   "id": "b41e39a9-8f6f-4acb-8113-c73e2c84a8a6",
   "metadata": {},
   "source": [
    "Q3. What is multiple inheritance? Write a python code to demonstrate multiple inheritance."
   ]
  },
  {
   "cell_type": "markdown",
   "id": "b97b0d76-041c-41b1-9646-9aa3e4cf1d3a",
   "metadata": {},
   "source": [
    "When there are more than 2 classes and there is a one class which can access the methods of other classes is known as Multiple Inheritance."
   ]
  },
  {
   "cell_type": "code",
   "execution_count": 41,
   "id": "f3023db3-7fa1-4cc6-a431-cf8a4c12d27a",
   "metadata": {},
   "outputs": [],
   "source": [
    "class parent_class1:\n",
    "    def parent1(self):\n",
    "         return \"This is 1st parent class1\""
   ]
  },
  {
   "cell_type": "code",
   "execution_count": 42,
   "id": "ea93f21c-cc87-48bd-8739-7ca4a6365c99",
   "metadata": {},
   "outputs": [],
   "source": [
    "class parent_class2:\n",
    "    def parent2(self):\n",
    "         return \"This is 2nd parent class2\""
   ]
  },
  {
   "cell_type": "code",
   "execution_count": 44,
   "id": "efceff86-e541-43a4-86af-79cde74bc167",
   "metadata": {},
   "outputs": [],
   "source": [
    "class parent_class3:\n",
    "    def parent3(self):\n",
    "         return \"This is 3rd parent class3\""
   ]
  },
  {
   "cell_type": "code",
   "execution_count": 45,
   "id": "5081b18b-3699-4cc5-b0b3-bced1821b3e7",
   "metadata": {},
   "outputs": [],
   "source": [
    "class child_class(parent_class1,parent_class2,parent_class3):\n",
    "    pass"
   ]
  },
  {
   "cell_type": "code",
   "execution_count": 46,
   "id": "783b23eb-6fe3-4e94-9aee-ccf81f99c33d",
   "metadata": {},
   "outputs": [],
   "source": [
    "child_class_obj = child_class() "
   ]
  },
  {
   "cell_type": "code",
   "execution_count": 47,
   "id": "07304512-3a95-4c57-82e5-8c7a1ebde471",
   "metadata": {},
   "outputs": [
    {
     "data": {
      "text/plain": [
       "'This is 2nd parent class2'"
      ]
     },
     "execution_count": 47,
     "metadata": {},
     "output_type": "execute_result"
    }
   ],
   "source": [
    "child_class_obj.parent2()"
   ]
  },
  {
   "cell_type": "code",
   "execution_count": 48,
   "id": "d5823b9d-f3b2-4a4a-975e-139857ff82e0",
   "metadata": {},
   "outputs": [
    {
     "data": {
      "text/plain": [
       "'This is 1st parent class1'"
      ]
     },
     "execution_count": 48,
     "metadata": {},
     "output_type": "execute_result"
    }
   ],
   "source": [
    "child_class_obj.parent1()"
   ]
  },
  {
   "cell_type": "code",
   "execution_count": 49,
   "id": "40da6483-b70c-44e5-b4ed-e39d2d55ce4b",
   "metadata": {},
   "outputs": [
    {
     "data": {
      "text/plain": [
       "'This is 3rd parent class3'"
      ]
     },
     "execution_count": 49,
     "metadata": {},
     "output_type": "execute_result"
    }
   ],
   "source": [
    "child_class_obj.parent3()"
   ]
  },
  {
   "cell_type": "markdown",
   "id": "85268572-7bf7-46b0-b716-60387cd187e6",
   "metadata": {},
   "source": [
    "Q4. What are getter and setter in python? Create a class and create a getter and a setter method in this\n",
    "class."
   ]
  },
  {
   "cell_type": "markdown",
   "id": "43509e95-1c66-4f0d-a791-c244b635d444",
   "metadata": {},
   "source": [
    "The getter setter are the methods through which we get the value from the setter as per the user giving and through the getter method we display the given value form the setter function."
   ]
  },
  {
   "cell_type": "code",
   "execution_count": 42,
   "id": "2f758c5a-5a7e-46c3-98b1-28d4a01e059b",
   "metadata": {},
   "outputs": [],
   "source": [
    "class value:\n",
    "    def __init__(self,bike_price):\n",
    "        self.__bike_price = bike_price\n",
    "    def setter(self , cc):\n",
    "        self.__cc =  \"mileage is less\" if cc>150 else \"mileage is more\"\n",
    "    def getter(self):\n",
    "        return self.__cc\n",
    "        "
   ]
  },
  {
   "cell_type": "code",
   "execution_count": 43,
   "id": "2dea29cc-e6ff-423d-9540-f5bf7eaa7921",
   "metadata": {},
   "outputs": [],
   "source": [
    "bike = value(120000)"
   ]
  },
  {
   "cell_type": "code",
   "execution_count": 44,
   "id": "a517aa8d-4ce8-40be-a7ce-efb9090027c4",
   "metadata": {},
   "outputs": [],
   "source": [
    "bike.setter(100)"
   ]
  },
  {
   "cell_type": "code",
   "execution_count": 45,
   "id": "cc2055aa-63cd-4441-a10b-4cd92227fb01",
   "metadata": {},
   "outputs": [
    {
     "data": {
      "text/plain": [
       "'mileage is more'"
      ]
     },
     "execution_count": 45,
     "metadata": {},
     "output_type": "execute_result"
    }
   ],
   "source": [
    "bike.getter()\n"
   ]
  },
  {
   "cell_type": "markdown",
   "id": "bbdb9e86-e2d0-433d-a26d-99b0f6d1acb5",
   "metadata": {},
   "source": [
    "Q5.What is method overriding in python? Write a python code to demonstrate method overriding."
   ]
  },
  {
   "cell_type": "markdown",
   "id": "1a1d9ed5-9da0-401b-9a05-c25b6e19388b",
   "metadata": {},
   "source": [
    "Method Overiding means we can change the content present in a method by using another method. We can overide the data type and also the operation that will be performed."
   ]
  },
  {
   "cell_type": "code",
   "execution_count": 72,
   "id": "c7c2ab84-7644-475c-9734-d7e3aae3b9c6",
   "metadata": {},
   "outputs": [
    {
     "name": "stdout",
     "output_type": "stream",
     "text": [
      "Overide class:-method1\n",
      "Overide 2 class :-Method1\n"
     ]
    }
   ],
   "source": [
    "class overide:\n",
    "    def method1():\n",
    "        print(\"Overide class:-method1\")\n",
    "    def method2():\n",
    "        print(\"Overide class:-method2\")\n",
    "    def method3():\n",
    "        print(\"Overide class:-method3\")\n",
    "class overide2(overide):\n",
    "    def method1():\n",
    "        print(\"Overide 2 class :-Method1\")\n",
    "    def method2():\n",
    "        print(\"Overide 2 class :-Method2\")\n",
    "    def method3():\n",
    "        print(\"Overide 2 class :-Method3\")\n",
    "cod = overide\n",
    "sod = overide2\n",
    "cod.method1()\n",
    "sod.method1()\n",
    "\n",
    "    "
   ]
  },
  {
   "cell_type": "code",
   "execution_count": null,
   "id": "7bb04d4a-6bd3-46bd-b146-6c72c5fcd079",
   "metadata": {},
   "outputs": [],
   "source": []
  }
 ],
 "metadata": {
  "kernelspec": {
   "display_name": "Python 3 (ipykernel)",
   "language": "python",
   "name": "python3"
  },
  "language_info": {
   "codemirror_mode": {
    "name": "ipython",
    "version": 3
   },
   "file_extension": ".py",
   "mimetype": "text/x-python",
   "name": "python",
   "nbconvert_exporter": "python",
   "pygments_lexer": "ipython3",
   "version": "3.10.8"
  }
 },
 "nbformat": 4,
 "nbformat_minor": 5
}

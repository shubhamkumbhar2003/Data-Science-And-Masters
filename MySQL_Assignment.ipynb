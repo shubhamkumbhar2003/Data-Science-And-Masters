{
 "cells": [
  {
   "cell_type": "markdown",
   "id": "8de306f6-23ca-4bd5-9565-2c56bc26e3ce",
   "metadata": {},
   "source": [
    "Q1. What is a database? Differentiate between SQL and NoSQL databases."
   ]
  },
  {
   "cell_type": "markdown",
   "id": "03520629-3fd6-421e-934e-74a159a896f1",
   "metadata": {},
   "source": [
    "A database is an organized collection of structured information, or data, typically stored electronically in a computer system. A database is usually controlled by a database management system which we often call it as DBMS.\n",
    "Data within the most common types of databases in operation today is typically modeled in rows and columns in a series of tables to make processing and data querying efficient. The data can then be easily accessed, managed, modified, updated, controlled, and organized. Most databases use structured query language (SQL) for writing and querying data.\n",
    "1)SQL databases are relational, and NoSQL databases are non-relational.\n",
    "2)SQL databases use structured query language (SQL) and have a predefined schema. NoSQL databases have dynamic schemas for unstructured data.\n",
    "3)SQL databases are vertically scalable, while NoSQL databases are horizontally scalable.\n",
    "4)SQL databases are table-based, while NoSQL databases are document, key-value, graph, or wide-column stores.\n",
    "5)SQL databases are better for multi-row transactions, while NoSQL is better for unstructured data like documents or JSON."
   ]
  },
  {
   "cell_type": "markdown",
   "id": "6bcade4a-e730-489a-8a59-4b5825cc7fa5",
   "metadata": {},
   "source": [
    "Q2. What is DDL? Explain why CREATE, DROP, ALTER, and TRUNCATE are used with an example"
   ]
  },
  {
   "cell_type": "markdown",
   "id": "da8e07d7-a905-4cf7-9f81-a5e95b4574cf",
   "metadata": {},
   "source": [
    "Data Definition Language (DDL) is used to create and modify the structure of objects in a database using predefined commands and a specific syntax.\n",
    "1)The CREATE TABLE command creates a new table in the database.\n",
    "Example:-\n",
    "CREATE TABLE Persons (\n",
    "    PersonID int,\n",
    "    LastName varchar(255),\n",
    "    FirstName varchar(255),\n",
    "    Address varchar(255),\n",
    "    City varchar(255)\n",
    ");\n",
    "2)The ALTER TABLE command adds, deletes, or modifies columns in a table.\n",
    "Example:-\n",
    "ALTER TABLE Customers\n",
    "ADD Email varchar(255);\n",
    "3)The DROP TABLE command deletes a table in the database.\n",
    "Example:-\n",
    "DROP TABLE Shippers;\n",
    "4)The TRUNCATE TABLE command deletes the data inside a table, but not the table itself.\n",
    "Example:-\n",
    "TRUNCATE TABLE Categories;"
   ]
  },
  {
   "cell_type": "markdown",
   "id": "354c8985-acb6-4b40-8392-b7e3f89b680d",
   "metadata": {},
   "source": [
    "Q3. What is DML? Explain INSERT, UPDATE, and DELETE with an example"
   ]
  },
  {
   "cell_type": "markdown",
   "id": "465bc929-dca9-4e37-92f3-2736a8834311",
   "metadata": {},
   "source": [
    "The Full Form of DML is Data Manipulation Language. Data Manipulation Language (DML) is a programming language, also a category of SQL, applying useful table format and formulas for exchanging information, with the data limited to a point in the database, using SQL.\n",
    "1)The INSERT INTO command is used to insert new rows in a table.\n",
    "Example:-INSERT INTO Customers (CustomerName, ContactName, Address, City, PostalCode, Country)\n",
    "VALUES ('Cardinal', 'Tom B. Erichsen', 'Skagen 21', 'Stavanger', '4006', 'Norway');\n",
    "2)The UPDATE statement is used to modify the existing records in a table.\n",
    "UPDATE table_name\n",
    "SET column1 = value1, column2 = value2, ...\n",
    "WHERE condition;\n",
    "3)The DELETE statement is used to delete existing records in a table.\n",
    "DELETE FROM table_name WHERE condition;\n"
   ]
  },
  {
   "cell_type": "markdown",
   "id": "ff13e66b-7693-48ec-a860-9a7d89cd1386",
   "metadata": {},
   "source": [
    "Q4. What is DQL? Explain SELECT with an example."
   ]
  },
  {
   "cell_type": "markdown",
   "id": "991f9e98-2583-4563-aa26-f7eae0d00850",
   "metadata": {},
   "source": [
    "DQL called as Data Query Language , a component of SQL statement that allows getting data from the database and imposing order upon it.\n",
    "A select command is used to select the data which is present in the database\n",
    "example:-SELECT * FROM DATABASE\n"
   ]
  },
  {
   "cell_type": "markdown",
   "id": "113237c5-9ace-4505-8303-dd6354c5e47e",
   "metadata": {},
   "source": [
    "Q5. Explain Primary Key and Foreign Key."
   ]
  },
  {
   "cell_type": "markdown",
   "id": "bdde7a29-6fe6-4f8f-a793-d8fb10220a06",
   "metadata": {},
   "source": [
    "Primary Key:-A primary key is used to ensure data in the specific column is unique.\n",
    "It uniquely identifies a record in the relational database table , Only one primary key is allowed in a table.\n",
    "It is a combination of UNIQUE and Not Null constraints.\n",
    "It does not allow NULL values.\t\n",
    "Foreign Key:-A foreign key is a column or group of columns in a relational database table that provides a link between data in two tables .\n",
    "It refers to the field in a table which is the primary key of another table .\n",
    "Whereas more than one foreign key is allowed in a table .\n",
    "It can contain duplicate values and a table in a relational database,It can also contain NULL values. "
   ]
  },
  {
   "cell_type": "markdown",
   "id": "b7f2a2d4-41ab-48f2-94cd-df326c34ee23",
   "metadata": {},
   "source": [
    "Q6. Write a python code to connect MySQL to python. Explain the cursor() and execute() method"
   ]
  },
  {
   "cell_type": "markdown",
   "id": "e1c8ea46-821b-4c66-ac16-f11fa9231360",
   "metadata": {},
   "source": [
    "import mysql.connector #connecting system with the database\n",
    "# import mysql.connector\n",
    "#create user 'user'@'%' identified by 'password'\n",
    "connect_database = mysql.connector.connect(   #here we are connecting the database \n",
    "  host=\"localhost\",\n",
    "  user=\"abc\",\n",
    "  password=\"password\"\n",
    ")\n",
    "mycursor = connect_database.cursor() # accessing the cursor to make the edits which acts as a \n",
    "mycursor.execute()"
   ]
  },
  {
   "cell_type": "markdown",
   "id": "fb2a74bd-b4ed-465c-827b-637ef974a12b",
   "metadata": {},
   "source": [
    "Q7. Give the order of execution of SQL clauses in an SQL query."
   ]
  },
  {
   "cell_type": "markdown",
   "id": "1d91ec08-af22-47ce-be2f-96f78f6a01f1",
   "metadata": {},
   "source": [
    "SELECT DISTINCT column, AGG_FUNC(column_or_expression), …\n",
    "FROM mytable\n",
    "    JOIN another_table\n",
    "      ON mytable.column = another_table.column\n",
    "    WHERE constraint_expression\n",
    "    GROUP BY column\n",
    "    HAVING constraint_expression\n",
    "    ORDER BY column ASC/DESC\n",
    "    LIMIT count OFFSET COUNT;"
   ]
  }
 ],
 "metadata": {
  "kernelspec": {
   "display_name": "Python 3 (ipykernel)",
   "language": "python",
   "name": "python3"
  },
  "language_info": {
   "codemirror_mode": {
    "name": "ipython",
    "version": 3
   },
   "file_extension": ".py",
   "mimetype": "text/x-python",
   "name": "python",
   "nbconvert_exporter": "python",
   "pygments_lexer": "ipython3",
   "version": "3.10.8"
  }
 },
 "nbformat": 4,
 "nbformat_minor": 5
}

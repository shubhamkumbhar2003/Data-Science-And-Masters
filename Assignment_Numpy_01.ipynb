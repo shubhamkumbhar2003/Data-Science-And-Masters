{
 "cells": [
  {
   "cell_type": "code",
   "execution_count": 1,
   "id": "4f9305bb-d00c-42de-900f-f3cf2000656d",
   "metadata": {},
   "outputs": [],
   "source": [
    "import numpy as np"
   ]
  },
  {
   "cell_type": "code",
   "execution_count": 3,
   "id": "10800669-f11a-4045-b16a-3403ed78b5e7",
   "metadata": {},
   "outputs": [],
   "source": [
    "list_ = ['1','2','3','4','5']\n",
    "array_list = np.array(object = list_)"
   ]
  },
  {
   "cell_type": "markdown",
   "id": "f624c775-f903-4a9e-8ad3-2e0ddf9790a6",
   "metadata": {},
   "source": [
    "Q1. Is there any difference in the data type of variables list_ and array_list? If there is then write a code\n",
    "to print the data types of both the variables."
   ]
  },
  {
   "cell_type": "raw",
   "id": "f347390f-9a51-4b9d-9da9-a35dd1852ba7",
   "metadata": {},
   "source": [
    "Let's check if there is any difference in the list_ variable and the array_list using the function type.Yes there is a difference in both the variables the 1st variable that is list_ indicates there are list values present in the variable.and the second variable indicates that the list_variable has got converted into the array by using array function."
   ]
  },
  {
   "cell_type": "code",
   "execution_count": 5,
   "id": "d0d47d64-15a8-4de0-9a60-81af3601b09b",
   "metadata": {},
   "outputs": [
    {
     "data": {
      "text/plain": [
       "list"
      ]
     },
     "execution_count": 5,
     "metadata": {},
     "output_type": "execute_result"
    }
   ],
   "source": [
    "type(list_)"
   ]
  },
  {
   "cell_type": "code",
   "execution_count": 6,
   "id": "f80a49fb-0a85-4224-97d0-c783d93a0995",
   "metadata": {},
   "outputs": [
    {
     "data": {
      "text/plain": [
       "numpy.ndarray"
      ]
     },
     "execution_count": 6,
     "metadata": {},
     "output_type": "execute_result"
    }
   ],
   "source": [
    "type(array_list)"
   ]
  },
  {
   "cell_type": "markdown",
   "id": "988de5cd-e8b6-46c7-a349-732653888c84",
   "metadata": {},
   "source": [
    "Q2. Write a code to print the data type of each and every element of both the variables list_ and\n",
    "arra_list.\n"
   ]
  },
  {
   "cell_type": "code",
   "execution_count": 10,
   "id": "1b230e51-f35a-411b-8249-9352b3cb4486",
   "metadata": {},
   "outputs": [
    {
     "name": "stdout",
     "output_type": "stream",
     "text": [
      "Data types of the elements in the variable_list:\n",
      "1:<class 'int'>\n",
      "2:<class 'int'>\n",
      "3:<class 'int'>\n",
      "4:<class 'int'>\n",
      "5:<class 'int'>\n",
      "3.4:<class 'float'>\n",
      "Hello:<class 'str'>\n",
      "True:<class 'bool'>\n",
      "Data types of the elements in the array_list:\n",
      "3:<class 'int'>\n",
      "6.7:<class 'float'>\n",
      "Shubham:<class 'str'>\n",
      "False:<class 'bool'>\n"
     ]
    }
   ],
   "source": [
    "variable_list = [1,2,3,4,5,3.4,'Hello',True]\n",
    "array_list = [3,6.7,'Shubham',False]\n",
    "\n",
    "def print_data_type(list1 , name):\n",
    "    print(f\"Data types of the elements in the {name}:\")\n",
    "    for i in list1:\n",
    "        print(f\"{i}:{type(i)}\")\n",
    "print_data_type(variable_list , 'variable_list')\n",
    "print_data_type(array_list , 'array_list')"
   ]
  },
  {
   "cell_type": "raw",
   "id": "c651fd07-febb-428f-b519-29bdff9133a2",
   "metadata": {},
   "source": [
    "Q3. Considering the following changes in the variable, array_list:\n",
    "array_list = np.array(object = list_, dtype = int)\n",
    "Will there be any difference in the data type of the elements present in both the variables, list_ and\n",
    "array_list? If so then print the data types of each and every element present in both the variables, list_\n",
    "and array_list."
   ]
  },
  {
   "cell_type": "code",
   "execution_count": 15,
   "id": "95c8a3a2-3aeb-4510-b116-435855ac7de2",
   "metadata": {},
   "outputs": [],
   "source": [
    "list_ = ['1','2','3','4','5']\n",
    "array_list = np.array(object = list_, dtype = int)"
   ]
  },
  {
   "cell_type": "code",
   "execution_count": 18,
   "id": "ee6ceb0f-ef32-4705-835f-801f868dc1a7",
   "metadata": {},
   "outputs": [
    {
     "name": "stdout",
     "output_type": "stream",
     "text": [
      "The name of the Variable is list_\n",
      "1:<class 'str'>\n",
      "2:<class 'str'>\n",
      "3:<class 'str'>\n",
      "4:<class 'str'>\n",
      "5:<class 'str'>\n",
      "The name of the Variable is array_list\n",
      "1:<class 'numpy.int64'>\n",
      "2:<class 'numpy.int64'>\n",
      "3:<class 'numpy.int64'>\n",
      "4:<class 'numpy.int64'>\n",
      "5:<class 'numpy.int64'>\n"
     ]
    }
   ],
   "source": [
    "def print_types(name_of_variable , number):\n",
    "    print(f\"The name of the Variable is {name_of_variable}\")\n",
    "    for i in number:\n",
    "        print(f\"{i}:{type(i)}\")\n",
    "print_types('list_' , list_)\n",
    "print_types('array_list' , array_list)"
   ]
  },
  {
   "cell_type": "raw",
   "id": "5dbee168-b142-43a7-bff2-52ae34c2a4c4",
   "metadata": {},
   "source": [
    "Q4. Write a code to find the following characteristics of variable, num_array:\n",
    "(i) shape\n",
    "(ii) size"
   ]
  },
  {
   "cell_type": "code",
   "execution_count": 19,
   "id": "0c7622ee-8f39-4f85-ba87-c05c9682ed5f",
   "metadata": {},
   "outputs": [],
   "source": [
    "import numpy as np\n",
    "num_list = [ [ 1 , 2 , 3 ] , [ 4 , 5 , 6 ] ]\n",
    "num_array = np.array(object = num_list)"
   ]
  },
  {
   "cell_type": "code",
   "execution_count": 22,
   "id": "109cd9da-ecdc-4514-9009-453347c75c1b",
   "metadata": {},
   "outputs": [
    {
     "data": {
      "text/plain": [
       "6"
      ]
     },
     "execution_count": 22,
     "metadata": {},
     "output_type": "execute_result"
    }
   ],
   "source": [
    "np.size(num_array)"
   ]
  },
  {
   "cell_type": "code",
   "execution_count": 23,
   "id": "18b6f164-8c93-4e18-9f8c-570a2f3c13e7",
   "metadata": {},
   "outputs": [
    {
     "data": {
      "text/plain": [
       "6"
      ]
     },
     "execution_count": 23,
     "metadata": {},
     "output_type": "execute_result"
    }
   ],
   "source": [
    "np.size(num_list)"
   ]
  },
  {
   "cell_type": "code",
   "execution_count": 24,
   "id": "d9221a9f-54f9-45b0-8761-360dc649b799",
   "metadata": {},
   "outputs": [
    {
     "data": {
      "text/plain": [
       "(2, 3)"
      ]
     },
     "execution_count": 24,
     "metadata": {},
     "output_type": "execute_result"
    }
   ],
   "source": [
    "np.shape(num_list)"
   ]
  },
  {
   "cell_type": "code",
   "execution_count": 25,
   "id": "80ebdfb7-b177-4ed2-affa-7b4ea11839f8",
   "metadata": {},
   "outputs": [
    {
     "data": {
      "text/plain": [
       "(2, 3)"
      ]
     },
     "execution_count": 25,
     "metadata": {},
     "output_type": "execute_result"
    }
   ],
   "source": [
    "np.shape(num_array)"
   ]
  },
  {
   "cell_type": "markdown",
   "id": "e1404cb1-1596-470c-b8a6-ec6ec47b1a92",
   "metadata": {},
   "source": [
    "Q5. Write a code to create numpy array of 3*3 matrix containing zeros only, using a numpy array\n",
    "creation function.\n",
    "[Hint: The size of the array will be 9 and the shape will be (3,3).]"
   ]
  },
  {
   "cell_type": "code",
   "execution_count": 26,
   "id": "970bc6c8-9b3e-47fd-a768-2bc90ff5c06d",
   "metadata": {},
   "outputs": [
    {
     "name": "stdout",
     "output_type": "stream",
     "text": [
      "[[0. 0. 0.]\n",
      " [0. 0. 0.]\n",
      " [0. 0. 0.]]\n"
     ]
    }
   ],
   "source": [
    "import numpy as np\n",
    "matrix = np.zeros((3,3))\n",
    "print(matrix)"
   ]
  },
  {
   "cell_type": "raw",
   "id": "2764ceaa-b72e-481a-a6b0-0018326a8325",
   "metadata": {},
   "source": [
    "Q6. Create an identity matrix of shape (5,5) using numpy functions?\n",
    "[Hint: An identity matrix is a matrix containing 1 diagonally and other elements will be 0.]"
   ]
  },
  {
   "cell_type": "code",
   "execution_count": 31,
   "id": "92e41d35-e652-4b23-88cb-14e892351849",
   "metadata": {},
   "outputs": [
    {
     "name": "stdout",
     "output_type": "stream",
     "text": [
      "[[1. 0. 0. 0. 0.]\n",
      " [0. 1. 0. 0. 0.]\n",
      " [0. 0. 1. 0. 0.]\n",
      " [0. 0. 0. 1. 0.]\n",
      " [0. 0. 0. 0. 1.]]\n"
     ]
    }
   ],
   "source": [
    "matrix = np.eye(5)\n",
    "print(matrix)"
   ]
  },
  {
   "cell_type": "code",
   "execution_count": null,
   "id": "5c85c41a-c6ec-4d3c-a6d8-a46890bd56e6",
   "metadata": {},
   "outputs": [],
   "source": []
  }
 ],
 "metadata": {
  "kernelspec": {
   "display_name": "Python 3 (ipykernel)",
   "language": "python",
   "name": "python3"
  },
  "language_info": {
   "codemirror_mode": {
    "name": "ipython",
    "version": 3
   },
   "file_extension": ".py",
   "mimetype": "text/x-python",
   "name": "python",
   "nbconvert_exporter": "python",
   "pygments_lexer": "ipython3",
   "version": "3.10.8"
  }
 },
 "nbformat": 4,
 "nbformat_minor": 5
}

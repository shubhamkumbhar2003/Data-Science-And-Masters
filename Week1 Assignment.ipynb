{
 "cells": [
  {
   "cell_type": "markdown",
   "id": "46da9e6f-a698-4155-8912-81b23b4020f2",
   "metadata": {},
   "source": [
    "Q1. Create one variable containing following type of data:\n",
    "\n",
    "(i)\tstring\n",
    "\n",
    "(ii)\tlist\n",
    "\n",
    "(iii)\tfloat\n",
    "\n",
    "(iv)\ttuple\n"
   ]
  },
  {
   "cell_type": "code",
   "execution_count": 1,
   "id": "5c2227db-218f-4eb4-a409-99ad0de80629",
   "metadata": {},
   "outputs": [],
   "source": [
    "a = \"Shubham\""
   ]
  },
  {
   "cell_type": "code",
   "execution_count": 3,
   "id": "bffbf105-7206-493f-9ebc-c4bcb3fab66f",
   "metadata": {},
   "outputs": [
    {
     "name": "stdout",
     "output_type": "stream",
     "text": [
      "<class 'str'>\n"
     ]
    }
   ],
   "source": [
    "print(type(a))"
   ]
  },
  {
   "cell_type": "code",
   "execution_count": 4,
   "id": "b92fe028-a590-4e03-83ac-a5f1f195b039",
   "metadata": {},
   "outputs": [],
   "source": [
    "a = [1,3,42,5]"
   ]
  },
  {
   "cell_type": "code",
   "execution_count": 5,
   "id": "ff253c57-306c-42f0-8d40-3ace3a6da46b",
   "metadata": {},
   "outputs": [
    {
     "name": "stdout",
     "output_type": "stream",
     "text": [
      "<class 'list'>\n"
     ]
    }
   ],
   "source": [
    "print(type(a))"
   ]
  },
  {
   "cell_type": "code",
   "execution_count": 6,
   "id": "d8901196-a591-42ce-8824-da3f489be1fd",
   "metadata": {},
   "outputs": [],
   "source": [
    "a = 45.343"
   ]
  },
  {
   "cell_type": "code",
   "execution_count": 7,
   "id": "4f034e08-ec8c-44f8-a457-5deb7e576442",
   "metadata": {},
   "outputs": [
    {
     "name": "stdout",
     "output_type": "stream",
     "text": [
      "<class 'float'>\n"
     ]
    }
   ],
   "source": [
    "print(type(a))"
   ]
  },
  {
   "cell_type": "code",
   "execution_count": 8,
   "id": "415c2341-1cee-4526-a49f-a587081a2847",
   "metadata": {},
   "outputs": [],
   "source": [
    "a = (2,3,4,5)\n"
   ]
  },
  {
   "cell_type": "code",
   "execution_count": 11,
   "id": "0048ce8a-bc14-4ca1-aaa3-db0120f3ed3a",
   "metadata": {},
   "outputs": [
    {
     "name": "stdout",
     "output_type": "stream",
     "text": [
      "<class 'tuple'>\n"
     ]
    }
   ],
   "source": [
    "print(type(a))"
   ]
  },
  {
   "cell_type": "markdown",
   "id": "4d09814c-b9e2-4316-95d0-8fe2127b6d8c",
   "metadata": {},
   "source": [
    "Q2. Given are some following variables containing data:\n",
    "\n",
    "(i)\tvar1 = ‘ ‘\n",
    "\n",
    "(ii)\tvar2 = ‘[ DS , ML , Python]’\n",
    "\n",
    "(iii)\tvar3 = [ ‘DS’ , ’ML’ , ‘Python’ ]\n",
    "\n",
    "(iv)\tvar4 = 1.\n",
    "\n",
    "\n",
    "What will be the data type of the above given variable."
   ]
  },
  {
   "cell_type": "code",
   "execution_count": 12,
   "id": "9ef354c9-a76b-4995-a416-2a2931100763",
   "metadata": {},
   "outputs": [
    {
     "name": "stdout",
     "output_type": "stream",
     "text": [
      "<class 'str'>\n"
     ]
    }
   ],
   "source": [
    "var1 = ''\n",
    "print(type(var1))"
   ]
  },
  {
   "cell_type": "code",
   "execution_count": 13,
   "id": "92b9f31b-1a9a-4855-a624-a71b50b608ee",
   "metadata": {},
   "outputs": [
    {
     "name": "stdout",
     "output_type": "stream",
     "text": [
      "<class 'str'>\n"
     ]
    }
   ],
   "source": [
    "var2 = '[DS,ML,Python]'\n",
    "print(type(var2))"
   ]
  },
  {
   "cell_type": "code",
   "execution_count": 14,
   "id": "b09c1b5f-4692-4b6a-81b9-f35a28d8a108",
   "metadata": {},
   "outputs": [
    {
     "name": "stdout",
     "output_type": "stream",
     "text": [
      "<class 'list'>\n"
     ]
    }
   ],
   "source": [
    "var3 = ['DS' , 'ML','Python']\n",
    "print(type(var3))"
   ]
  },
  {
   "cell_type": "code",
   "execution_count": 15,
   "id": "5db1bd1c-c47d-4289-8000-22bbf97a53f5",
   "metadata": {},
   "outputs": [
    {
     "name": "stdout",
     "output_type": "stream",
     "text": [
      "<class 'int'>\n"
     ]
    }
   ],
   "source": [
    "var4 = 1\n",
    "print(type(var4))"
   ]
  },
  {
   "cell_type": "markdown",
   "id": "f95beaca-fc63-4c79-b229-9c113e04ec00",
   "metadata": {},
   "source": [
    "Q3. Explain the use of the following operators using an example:\n",
    "\n",
    "(i)\t/\n",
    "\n",
    "(ii)\t% \n",
    "\n",
    "(iii)\t//\n",
    "\n",
    "(iv)\t**"
   ]
  },
  {
   "cell_type": "code",
   "execution_count": 16,
   "id": "dc58fb8f-0d01-4126-8e9a-f153ce8da8d3",
   "metadata": {},
   "outputs": [
    {
     "name": "stdout",
     "output_type": "stream",
     "text": [
      "3.0\n"
     ]
    }
   ],
   "source": [
    "#  i)  \"/\" Its an division operator used to perform arithmetic operations\n",
    "a = 9/3\n",
    "print(a)"
   ]
  },
  {
   "cell_type": "code",
   "execution_count": 17,
   "id": "53fd6e5c-09c7-40e9-ba54-f9ff236a610a",
   "metadata": {},
   "outputs": [
    {
     "name": "stdout",
     "output_type": "stream",
     "text": [
      "0\n"
     ]
    }
   ],
   "source": [
    "# ii) \"%\" It is a modulus operator used to show the remainder\n",
    "a = 12%4\n",
    "print(a)"
   ]
  },
  {
   "cell_type": "code",
   "execution_count": 18,
   "id": "ab199096-609a-4b98-ad42-3fbae55bb984",
   "metadata": {},
   "outputs": [
    {
     "name": "stdout",
     "output_type": "stream",
     "text": [
      "5\n"
     ]
    }
   ],
   "source": [
    "# iii) \"//\" It is a Floor Division Operator. The answer shows how many times a number is divided\n",
    "a = 25//5\n",
    "print(a)"
   ]
  },
  {
   "cell_type": "code",
   "execution_count": 19,
   "id": "76bfbeba-1359-4f7a-b360-f5ab43cf123a",
   "metadata": {},
   "outputs": [
    {
     "name": "stdout",
     "output_type": "stream",
     "text": [
      "32\n"
     ]
    }
   ],
   "source": [
    "# iv) \"**\" It is an Exponent Operator.\n",
    "a = 2**5\n",
    "print(a)"
   ]
  },
  {
   "cell_type": "markdown",
   "id": "9d94305e-e2a7-4f58-b15a-666c2fc1e712",
   "metadata": {},
   "source": [
    "Q4. Create a list of length 10 of your choice containing multiple types of data. Using for loop print the \n",
    "element and its data type\n"
   ]
  },
  {
   "cell_type": "code",
   "execution_count": 21,
   "id": "cde9c96a-da48-4b08-998f-8657870a212f",
   "metadata": {},
   "outputs": [
    {
     "name": "stdout",
     "output_type": "stream",
     "text": [
      "<class 'int'>\n",
      "1\n",
      "<class 'int'>\n",
      "89\n",
      "<class 'int'>\n",
      "54\n",
      "<class 'float'>\n",
      "45.64\n",
      "<class 'str'>\n",
      "shub\n",
      "<class 'str'>\n",
      "plant\n",
      "<class 'bool'>\n",
      "True\n",
      "<class 'bool'>\n",
      "False\n",
      "<class 'int'>\n",
      "56\n",
      "<class 'str'>\n",
      "home\n"
     ]
    }
   ],
   "source": [
    "list1 = [1,89,54,45.64,\"shub\", \"plant\" , True , False , 56,'home']\n",
    "for i in list1:\n",
    "    print(type(i))\n",
    "    print(i)"
   ]
  },
  {
   "cell_type": "markdown",
   "id": "9e099cc6-825f-4b5b-9c2c-b555bdd9c182",
   "metadata": {},
   "source": [
    "Q5. Using a while loop, verify if the number A is purely divisible by number B and if so then how many \n",
    "times it can be divisible.\n"
   ]
  },
  {
   "cell_type": "code",
   "execution_count": 3,
   "id": "bee93977-399a-4ba9-b682-40ae1489ec6b",
   "metadata": {},
   "outputs": [
    {
     "name": "stdin",
     "output_type": "stream",
     "text": [
      "Enter Number A 35\n",
      "Enter Number B 5\n"
     ]
    },
    {
     "name": "stdout",
     "output_type": "stream",
     "text": [
      "7.0 divisions and The total Number of reps are 1\n"
     ]
    }
   ],
   "source": [
    "numA = int(input(\"Enter Number A\"))\n",
    "numB = int(input(\"Enter Number B\"))\n",
    "Reps = 0\n",
    "while numA%numB == 0:\n",
    "    numA = numA/numB\n",
    "    Reps = Reps +1\n",
    "if Reps>0:\n",
    "    print(f\"{numA} divisions and The total Number of reps are {Reps}\")\n",
    "else:\n",
    "    print(\"Invalid\")\n",
    "\n",
    "\n"
   ]
  },
  {
   "cell_type": "code",
   "execution_count": 29,
   "id": "cc3c4cea-469c-483f-929a-fcacc82698fb",
   "metadata": {},
   "outputs": [
    {
     "data": {
      "text/plain": [
       "7"
      ]
     },
     "execution_count": 29,
     "metadata": {},
     "output_type": "execute_result"
    }
   ],
   "source": [
    "35//5\n"
   ]
  },
  {
   "cell_type": "markdown",
   "id": "1b5ecd4b-cc8d-40c7-bcf3-5c2a6391d88c",
   "metadata": {},
   "source": [
    "Q6. Create a list containing 25 int type data. Using for loop and if-else condition print if the element is \n",
    "divisible by 3 or not.\n"
   ]
  },
  {
   "cell_type": "code",
   "execution_count": 17,
   "id": "6cfa0708-e129-495b-bd63-1167e3fbbfe1",
   "metadata": {},
   "outputs": [
    {
     "name": "stdout",
     "output_type": "stream",
     "text": [
      "Its Divisible by 30\n",
      "Its Not Divisible by 43\n",
      "Its Divisible by 54\n",
      "Its Not Divisible by 32\n",
      "Its Not Divisible by 56\n",
      "Its Not Divisible by 43\n",
      "Its Not Divisible by 56\n",
      "Its Not Divisible by 98\n",
      "Its Divisible by 45\n",
      "Its Divisible by 36\n",
      "Its Divisible by 78\n",
      "Its Divisible by 66\n",
      "Its Not Divisible by 77\n",
      "Its Not Divisible by 55\n",
      "Its Divisible by 33\n",
      "Its Not Divisible by 55\n",
      "Its Divisible by 66\n",
      "Its Not Divisible by 77\n",
      "Its Not Divisible by 88\n",
      "Its Not Divisible by 34\n",
      "Its Divisible by 54\n",
      "Its Not Divisible by 22\n",
      "Its Divisible by 33\n",
      "Its Not Divisible by 698\n",
      "Its Divisible by 444\n"
     ]
    }
   ],
   "source": [
    "list1 = [30,43,54,32,56,43,56,98,45,36,78,66,77,55,33,55,66,77,88,34,54,22,33,698,444]\n",
    "for i in list1:\n",
    "    if (i%3==0):\n",
    "        print(f\"Its Divisible by {i}\")\n",
    "    else:\n",
    "        print(f\"Its Not Divisible by {i}\")\n",
    "        "
   ]
  },
  {
   "cell_type": "markdown",
   "id": "8a758791-635c-4c06-bae5-d764ebafa51b",
   "metadata": {},
   "source": [
    "Q7. What do you understand about mutable and immutable data types? Give examples for both showing \n",
    "this property."
   ]
  },
  {
   "cell_type": "code",
   "execution_count": 30,
   "id": "ff3feb6e-cbde-4c9b-993c-103fc82c5d5c",
   "metadata": {},
   "outputs": [
    {
     "name": "stdout",
     "output_type": "stream",
     "text": [
      "4\n"
     ]
    },
    {
     "ename": "TypeError",
     "evalue": "'tuple' object does not support item assignment",
     "output_type": "error",
     "traceback": [
      "\u001b[0;31m---------------------------------------------------------------------------\u001b[0m",
      "\u001b[0;31mTypeError\u001b[0m                                 Traceback (most recent call last)",
      "Cell \u001b[0;32mIn[30], line 4\u001b[0m\n\u001b[1;32m      2\u001b[0m tuple1 \u001b[38;5;241m=\u001b[39m (\u001b[38;5;241m4\u001b[39m,\u001b[38;5;241m5\u001b[39m,\u001b[38;5;241m6\u001b[39m,\u001b[38;5;241m7\u001b[39m,\u001b[38;5;241m4\u001b[39m)\n\u001b[1;32m      3\u001b[0m \u001b[38;5;28mprint\u001b[39m(tuple1[\u001b[38;5;241m0\u001b[39m])\n\u001b[0;32m----> 4\u001b[0m \u001b[43mtuple1\u001b[49m\u001b[43m[\u001b[49m\u001b[38;5;241;43m0\u001b[39;49m\u001b[43m]\u001b[49m \u001b[38;5;241m=\u001b[39m \u001b[38;5;241m5\u001b[39m\n\u001b[1;32m      5\u001b[0m \u001b[38;5;28mprint\u001b[39m(tuple1[\u001b[38;5;241m0\u001b[39m])\n",
      "\u001b[0;31mTypeError\u001b[0m: 'tuple' object does not support item assignment"
     ]
    }
   ],
   "source": [
    "# Mutable are those data types in which the data at a particular index can be changed. Whereas, immutable are those data types where whole data can be changes having same variable but changing particular index cannot happen there\n",
    "tuple1 = (4,5,6,7,4)\n",
    "print(tuple1[0])\n",
    "tuple1[0] = 5\n",
    "print(tuple1[0])\n",
    "# Whole Tuple can be changed but not the value of the tuple\n",
    "\n",
    "    \n",
    "    "
   ]
  },
  {
   "cell_type": "code",
   "execution_count": 25,
   "id": "45fc99b9-02fa-40d7-86cc-1db4eb64d470",
   "metadata": {},
   "outputs": [
    {
     "name": "stdout",
     "output_type": "stream",
     "text": [
      "4\n",
      "5\n"
     ]
    }
   ],
   "source": [
    "list1 = [4,5,6,7,4]\n",
    "print(list1[0])\n",
    "list1[0] = 5\n",
    "print(list1[0])"
   ]
  },
  {
   "cell_type": "code",
   "execution_count": null,
   "id": "752e01da-ae6c-48f1-9ec2-8e6dfb98e8a1",
   "metadata": {},
   "outputs": [],
   "source": []
  }
 ],
 "metadata": {
  "kernelspec": {
   "display_name": "Python 3 (ipykernel)",
   "language": "python",
   "name": "python3"
  },
  "language_info": {
   "codemirror_mode": {
    "name": "ipython",
    "version": 3
   },
   "file_extension": ".py",
   "mimetype": "text/x-python",
   "name": "python",
   "nbconvert_exporter": "python",
   "pygments_lexer": "ipython3",
   "version": "3.10.8"
  }
 },
 "nbformat": 4,
 "nbformat_minor": 5
}

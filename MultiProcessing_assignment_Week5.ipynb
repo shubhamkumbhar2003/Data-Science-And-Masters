{
 "cells": [
  {
   "cell_type": "markdown",
   "id": "4618ae79-0808-4caf-980f-0ee844885473",
   "metadata": {},
   "source": [
    "Q1. What is multiprocessing in python? Why is it useful?"
   ]
  },
  {
   "cell_type": "markdown",
   "id": "fca0f93c-54a8-4e90-ae95-27974777e339",
   "metadata": {},
   "source": [
    "Multiprocessing in Python is a built-in package that allows the system to run multiple processes simultaneously. It will enable the breaking of applications into smaller threads that can run independently.\n",
    "Multiprocessing is useful for CPU-bound processes, such as computationally heavy tasks since it will benefit from having multiple processors; similar to how multicore computers work faster than computers with a single core"
   ]
  },
  {
   "cell_type": "markdown",
   "id": "ee282bc2-9738-4977-b6c6-a0e5aac8a874",
   "metadata": {},
   "source": [
    "Q2. What are the differences between multiprocessing and multithreading?"
   ]
  },
  {
   "cell_type": "markdown",
   "id": "b7820311-0141-40d8-b658-eeb373676d64",
   "metadata": {},
   "source": [
    "Concept:- \n",
    "Multiprocessing: It involves running multiple processes, where each process has its own memory space and resources. Each process excutes independently and can perform different task simultaneouly\n",
    "multithreading: It involves running multiple threads within a single process. Threads share the same memory space and resources of the process. threads work together and can execute multiple tasks concurently.\n",
    "\n",
    "Resources Allocation:-\n",
    "Multiprocessing: Each process has its own memory space and resources, which means that the processes do not directly share data. Communication between processes usually involves more overhead, such as inter-process communication (IPC) mechanisms.\n",
    "Multithreading: Threads share the same memory space and resources within a process, making it easier to share data between threads. Communication between threads can be done through shared variables or objects.\n",
    "\n",
    "Concurrency and Parallelism:-\n",
    "Multiprocessing: Multiple processes can run in parallel on multiple CPUs or CPU cores, making it suitable for systems with multiple processors. It enables true parallel execution since each process runs independently.\n",
    "Multithreading: Threads run concurrently within a single process, but on a single CPU or CPU core. While threads can provide concurrent execution, they may not achieve true parallelism unless running on a multi-core system.\n",
    "\n",
    "Overhead:-\n",
    "Multiprocessing: Starting and managing multiple processes involve higher overhead, such as memory and resource allocation, context switching, and inter-process communication.\n",
    "Multithreading: Creating and managing threads have lower overhead compared to processes since they share the same memory space. Context switching between threads is faster than between processes.\n",
    "\n",
    "Stability and Isolation:-\n",
    "Multiprocessing: Since processes have separate memory spaces, if one process crashes, it does not affect other processes. Processes provide better stability and isolation.\n",
    "Multithreading: Threads share the same memory space, so if one thread crashes, it can potentially affect other threads within the same process. It requires careful synchronization to avoid issues like race conditions and deadlocks.\n",
    "\n",
    "\n",
    "\n",
    "\n",
    "\n",
    "\n",
    "    "
   ]
  },
  {
   "cell_type": "markdown",
   "id": "abf6c06a-de10-4a75-b6cd-5f747456b756",
   "metadata": {},
   "source": [
    "Q3. Write a python code to create a process using the multiprocessing module."
   ]
  },
  {
   "cell_type": "code",
   "execution_count": 2,
   "id": "3ee32f16-8b00-4505-843d-c8988be7da6e",
   "metadata": {},
   "outputs": [
    {
     "name": "stdout",
     "output_type": "stream",
     "text": [
      "This is my main program\n",
      "This is my 1st program\n"
     ]
    }
   ],
   "source": [
    "import multiprocessing\n",
    "def test():\n",
    "    print(\"This is my 1st program\")\n",
    "\n",
    "if __name__ == '__main__':\n",
    "    var = multiprocessing.Process(target=test)\n",
    "    print(\"This is my main program\")\n",
    "    var.start()\n",
    "    var.join()"
   ]
  },
  {
   "cell_type": "markdown",
   "id": "9d2edb5e-ec47-443e-8efb-9cd9364384b3",
   "metadata": {},
   "source": [
    "Q4. What is a multiprocessing pool in python? Why is it used?"
   ]
  },
  {
   "cell_type": "markdown",
   "id": "41559138-3bac-4067-9e5c-3fb0491bb3ca",
   "metadata": {},
   "source": [
    "In multiprocessing the pool is used to return the output in bulk. that is pool class in multiprocessing can handle an enormous number of processes. It allows you to run multiple jobs per process. The memory is allocated to the executing processes,unlike process class, which allocates memory to all the processes."
   ]
  },
  {
   "cell_type": "code",
   "execution_count": 6,
   "id": "ea1f6339-4c75-40c2-8d9b-15e1e875fa45",
   "metadata": {},
   "outputs": [
    {
     "name": "stdout",
     "output_type": "stream",
     "text": [
      "[1, 4, 9, 16, 25, 36, 36, 49]\n"
     ]
    }
   ],
   "source": [
    "def sqr(n):\n",
    "    return n*n\n",
    "\n",
    "if __name__ == \"__main__\":\n",
    "    var = multiprocessing.Pool(processes=4)\n",
    "    out = var.map(sqr , [1,2,3,4,5,6,6,7])\n",
    "    print(out)"
   ]
  },
  {
   "cell_type": "markdown",
   "id": "02473445-4d17-4eda-a0a8-45871d60ccf3",
   "metadata": {},
   "source": [
    "Q5. How can we create a pool of worker processes in python using the multiprocessing module?"
   ]
  },
  {
   "cell_type": "code",
   "execution_count": null,
   "id": "4d4f06e7-0c3b-48a9-b2e3-01950e9f710b",
   "metadata": {},
   "outputs": [],
   "source": [
    "import multiprocessing\n",
    "\n",
    "def process_task(task):\n",
    "    # Define the task to be performed by each worker process\n",
    "    # This function will be executed by each worker process\n",
    "    # Process the task\n",
    "    # Return the result\n",
    "    return result\n",
    "\n",
    "if __name__ == '__main__':\n",
    "    # Create a pool of worker processes\n",
    "    pool = multiprocessing.Pool()\n",
    "    # Define the tasks to be processed\n",
    "    tasks = [...]  # List of tasks\n",
    "    # Apply the tasks to the pool of worker processes\n",
    "    results = pool.map(process_task, tasks)\n",
    "    # Wait for the worker processes to complete\n",
    "    pool.close()\n",
    "    pool.join()\n",
    "    # Process the results\n",
    "    for result in results:\n",
    "        # Process each result\n",
    "    "
   ]
  },
  {
   "cell_type": "markdown",
   "id": "27213635-a11d-472f-a51a-d639356eb3cd",
   "metadata": {},
   "source": [
    "Q6. Write a python program to create 4 processes, each process should print a different number using the \n",
    "multiprocessing module in python."
   ]
  },
  {
   "cell_type": "code",
   "execution_count": 12,
   "id": "d8543909-b509-4713-a91a-f5c781156aeb",
   "metadata": {},
   "outputs": [
    {
     "name": "stdout",
     "output_type": "stream",
     "text": [
      "[1, 8, 27, 64, 125, 216, 216, 343]\n"
     ]
    }
   ],
   "source": [
    "def cube(n):\n",
    "    return n*n*n\n",
    "\n",
    "if __name__ == \"__main__\":\n",
    "    var = multiprocessing.Pool(processes=4)\n",
    "    out = var.map(cube , [1,2,3,4,5,6,6,7])\n",
    "    print(out)"
   ]
  },
  {
   "cell_type": "code",
   "execution_count": null,
   "id": "52812ba1-e1a7-4035-8905-9a20197e5deb",
   "metadata": {},
   "outputs": [],
   "source": []
  }
 ],
 "metadata": {
  "kernelspec": {
   "display_name": "Python 3 (ipykernel)",
   "language": "python",
   "name": "python3"
  },
  "language_info": {
   "codemirror_mode": {
    "name": "ipython",
    "version": 3
   },
   "file_extension": ".py",
   "mimetype": "text/x-python",
   "name": "python",
   "nbconvert_exporter": "python",
   "pygments_lexer": "ipython3",
   "version": "3.10.8"
  }
 },
 "nbformat": 4,
 "nbformat_minor": 5
}

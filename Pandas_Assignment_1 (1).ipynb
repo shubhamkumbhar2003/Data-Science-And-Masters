{
 "cells": [
  {
   "cell_type": "markdown",
   "id": "4370da54-c462-4ef0-91ae-41c20a8d34d0",
   "metadata": {},
   "source": [
    "Q1. Create a Pandas Series that contains the following data: 4, 8, 15, 16, 23, and 42. Then, print the series."
   ]
  },
  {
   "cell_type": "code",
   "execution_count": 16,
   "id": "ab0e41fb-88a8-45a9-9bdf-29beefc2a82d",
   "metadata": {},
   "outputs": [
    {
     "data": {
      "text/plain": [
       "0     4\n",
       "1     8\n",
       "2    15\n",
       "3    16\n",
       "4    23\n",
       "5    42\n",
       "dtype: int64"
      ]
     },
     "execution_count": 16,
     "metadata": {},
     "output_type": "execute_result"
    }
   ],
   "source": [
    "import pandas as pd\n",
    "data = [4,8,15,16,23,42]\n",
    "df = pd.Series(data)\n",
    "df"
   ]
  },
  {
   "cell_type": "markdown",
   "id": "673d92d7-60e7-4c2c-ab7f-0937e2afaf50",
   "metadata": {},
   "source": [
    "Q2. Create a variable of list type containing 10 elements in it, and apply pandas.Series function on the \n",
    "variable print it."
   ]
  },
  {
   "cell_type": "markdown",
   "id": "97534786-2ec1-4b4e-b436-75c17e196d3b",
   "metadata": {},
   "source": [
    "var = [1,2,3,4,5,6,7,8,9,10]\n",
    "df1 = pd.Series(var)"
   ]
  },
  {
   "cell_type": "code",
   "execution_count": 12,
   "id": "bc5ca851-e84b-47c6-9124-e4714b971a48",
   "metadata": {},
   "outputs": [
    {
     "data": {
      "text/plain": [
       "0     1\n",
       "1     2\n",
       "2     3\n",
       "3     4\n",
       "4     5\n",
       "5     6\n",
       "6     7\n",
       "7     8\n",
       "8     9\n",
       "9    10\n",
       "dtype: int64"
      ]
     },
     "execution_count": 12,
     "metadata": {},
     "output_type": "execute_result"
    }
   ],
   "source": [
    "df1"
   ]
  },
  {
   "cell_type": "markdown",
   "id": "9ef335ed-6a8a-4e6d-b77f-e118e031c773",
   "metadata": {},
   "source": [
    "Q3. Create a Pandas DataFrame that contains the following data:"
   ]
  },
  {
   "cell_type": "code",
   "execution_count": 17,
   "id": "9af9c8e0-24b9-4b16-ae88-4a6305dbe48e",
   "metadata": {},
   "outputs": [],
   "source": [
    "data = {'Name':[\"Alice\" , \"Bob\" , \"Claire\"] ,\"Age\":[25,30,27] , \"Gender\":['Female' , 'Male' , 'Female'] }"
   ]
  },
  {
   "cell_type": "code",
   "execution_count": 35,
   "id": "95d9ad49-35e1-421d-a6d7-52a0fbd3bc36",
   "metadata": {},
   "outputs": [],
   "source": [
    "df1 = pd.DataFrame(data)"
   ]
  },
  {
   "cell_type": "code",
   "execution_count": 36,
   "id": "fee783aa-6503-4500-a890-68862c29b0ab",
   "metadata": {},
   "outputs": [
    {
     "data": {
      "text/html": [
       "<div>\n",
       "<style scoped>\n",
       "    .dataframe tbody tr th:only-of-type {\n",
       "        vertical-align: middle;\n",
       "    }\n",
       "\n",
       "    .dataframe tbody tr th {\n",
       "        vertical-align: top;\n",
       "    }\n",
       "\n",
       "    .dataframe thead th {\n",
       "        text-align: right;\n",
       "    }\n",
       "</style>\n",
       "<table border=\"1\" class=\"dataframe\">\n",
       "  <thead>\n",
       "    <tr style=\"text-align: right;\">\n",
       "      <th></th>\n",
       "      <th>Name</th>\n",
       "      <th>Age</th>\n",
       "      <th>Gender</th>\n",
       "    </tr>\n",
       "  </thead>\n",
       "  <tbody>\n",
       "    <tr>\n",
       "      <th>0</th>\n",
       "      <td>Alice</td>\n",
       "      <td>25</td>\n",
       "      <td>Female</td>\n",
       "    </tr>\n",
       "    <tr>\n",
       "      <th>1</th>\n",
       "      <td>Bob</td>\n",
       "      <td>30</td>\n",
       "      <td>Male</td>\n",
       "    </tr>\n",
       "    <tr>\n",
       "      <th>2</th>\n",
       "      <td>Claire</td>\n",
       "      <td>27</td>\n",
       "      <td>Female</td>\n",
       "    </tr>\n",
       "  </tbody>\n",
       "</table>\n",
       "</div>"
      ],
      "text/plain": [
       "     Name  Age  Gender\n",
       "0   Alice   25  Female\n",
       "1     Bob   30    Male\n",
       "2  Claire   27  Female"
      ]
     },
     "execution_count": 36,
     "metadata": {},
     "output_type": "execute_result"
    }
   ],
   "source": [
    "df1"
   ]
  },
  {
   "cell_type": "markdown",
   "id": "de3a0294-27d7-4f6a-a0f4-f9b037fcb49e",
   "metadata": {},
   "source": [
    "Q4. What is ‘DataFrame’ in pandas and how is it different from pandas.series? Explain with an example."
   ]
  },
  {
   "cell_type": "markdown",
   "id": "afe574a7-db18-4c89-8ffd-c1dcb7edb7dd",
   "metadata": {},
   "source": [
    "The Difference Between a DataFrame and Series is in DataFrame the structure of the holding a data is in columns, multiple columns are created in the dataframe where as in Series only a Single column is created to present the data. Inshort we can say that each column present in the DataFrame is represented by the Series."
   ]
  },
  {
   "cell_type": "code",
   "execution_count": 41,
   "id": "a2f2f35a-e047-45dc-9ce1-d1c25b537253",
   "metadata": {},
   "outputs": [],
   "source": [
    "#Here is the Example of the DataFrame\n",
    "import pandas as pd\n",
    "data = {\"Name\":['shubham','Prachyet','Mihir','Kshitij'] , \"Age\":[20,8,19,19], \"Gender\":['Male' , 'Female' , 'Male', 'Male']}\n",
    "df = pd.DataFrame(data)"
   ]
  },
  {
   "cell_type": "code",
   "execution_count": 42,
   "id": "b0992655-f9f5-4478-bcef-e748be5b8769",
   "metadata": {},
   "outputs": [
    {
     "data": {
      "text/html": [
       "<div>\n",
       "<style scoped>\n",
       "    .dataframe tbody tr th:only-of-type {\n",
       "        vertical-align: middle;\n",
       "    }\n",
       "\n",
       "    .dataframe tbody tr th {\n",
       "        vertical-align: top;\n",
       "    }\n",
       "\n",
       "    .dataframe thead th {\n",
       "        text-align: right;\n",
       "    }\n",
       "</style>\n",
       "<table border=\"1\" class=\"dataframe\">\n",
       "  <thead>\n",
       "    <tr style=\"text-align: right;\">\n",
       "      <th></th>\n",
       "      <th>Name</th>\n",
       "      <th>Age</th>\n",
       "      <th>Gender</th>\n",
       "    </tr>\n",
       "  </thead>\n",
       "  <tbody>\n",
       "    <tr>\n",
       "      <th>0</th>\n",
       "      <td>shubham</td>\n",
       "      <td>20</td>\n",
       "      <td>Male</td>\n",
       "    </tr>\n",
       "    <tr>\n",
       "      <th>1</th>\n",
       "      <td>Prachyet</td>\n",
       "      <td>8</td>\n",
       "      <td>Female</td>\n",
       "    </tr>\n",
       "    <tr>\n",
       "      <th>2</th>\n",
       "      <td>Mihir</td>\n",
       "      <td>19</td>\n",
       "      <td>Male</td>\n",
       "    </tr>\n",
       "    <tr>\n",
       "      <th>3</th>\n",
       "      <td>Kshitij</td>\n",
       "      <td>19</td>\n",
       "      <td>Male</td>\n",
       "    </tr>\n",
       "  </tbody>\n",
       "</table>\n",
       "</div>"
      ],
      "text/plain": [
       "       Name  Age  Gender\n",
       "0   shubham   20    Male\n",
       "1  Prachyet    8  Female\n",
       "2     Mihir   19    Male\n",
       "3   Kshitij   19    Male"
      ]
     },
     "execution_count": 42,
     "metadata": {},
     "output_type": "execute_result"
    }
   ],
   "source": [
    "df"
   ]
  },
  {
   "cell_type": "code",
   "execution_count": 45,
   "id": "6a201ab2-5713-4629-99f3-8a902031a8d2",
   "metadata": {},
   "outputs": [
    {
     "data": {
      "text/plain": [
       "0     1\n",
       "1     2\n",
       "2     3\n",
       "3     4\n",
       "4    50\n",
       "Name: numbers, dtype: int64"
      ]
     },
     "execution_count": 45,
     "metadata": {},
     "output_type": "execute_result"
    }
   ],
   "source": [
    "#Here is example for series\n",
    "df1 = pd.Series([1,2,3,4,50] , name='numbers')\n",
    "df1"
   ]
  },
  {
   "cell_type": "markdown",
   "id": "d77db5e4-6113-4fdf-b8e7-d1a3a6a9b77d",
   "metadata": {},
   "source": [
    "Q5. What are some common functions you can use to manipulate data in a Pandas DataFrame? Can \n",
    "you give an example of when you might use one of these functions?"
   ]
  },
  {
   "cell_type": "markdown",
   "id": "012db027-5593-45eb-a877-a4dc6608221a",
   "metadata": {},
   "source": [
    "1)df.head()#To display 1st five rows.\n",
    " 2)df.tail(4)#to display last 4 rows.\n",
    "  3)df.describe()#it will give the statistical analized of the data , i.e mean , var ,max, min.\n",
    "   4)df.columns#will gives the names of the columns.\n",
    "    5)df.dtypes #will give the datatypes of the data.\n"
   ]
  },
  {
   "cell_type": "code",
   "execution_count": 47,
   "id": "45804b1e-f6f5-44de-860a-3403ac49849d",
   "metadata": {},
   "outputs": [
    {
     "data": {
      "text/plain": [
       "Name      object\n",
       "Age        int64\n",
       "Gender    object\n",
       "dtype: object"
      ]
     },
     "execution_count": 47,
     "metadata": {},
     "output_type": "execute_result"
    }
   ],
   "source": [
    "df.dtypes"
   ]
  },
  {
   "cell_type": "markdown",
   "id": "097c4367-24f1-422b-b3be-732adba355db",
   "metadata": {},
   "source": [
    "Q6. Which of the following is mutable in nature Series, DataFrame, Panel?"
   ]
  },
  {
   "cell_type": "markdown",
   "id": "e44fb3d0-6568-478e-893f-7ededaf3ce31",
   "metadata": {},
   "source": [
    "Series and DataFrames are mutable as A Series is a one-dimensional array-like object in Pandas, and its elements can be modified after creation. where as A DataFrame is a two-dimensional tabular data structure. Like a Series, individual elements (cells) within a DataFrame can be modified. You can change values in specific rows and columns using indexing and assignment."
   ]
  },
  {
   "cell_type": "markdown",
   "id": "c81af322-ac8b-4b1b-985d-6a77ec6e7a91",
   "metadata": {},
   "source": [
    "Q7. Create a DataFrame using multiple Series. Explain with an example."
   ]
  },
  {
   "cell_type": "code",
   "execution_count": 48,
   "id": "bc045bd0-77ea-402b-b6d5-d66396ba2a28",
   "metadata": {},
   "outputs": [],
   "source": [
    "import pandas as pd\n",
    "s1 = pd.Series( ['shubham','Prachyet' ,'mihir'])\n",
    "s2 = pd.Series([1,2,3])\n",
    "\n",
    "data = {'name':s1 , 'age':s2}"
   ]
  },
  {
   "cell_type": "code",
   "execution_count": 49,
   "id": "da5c2951-2f2f-4e5b-9376-fdd4741fdc9e",
   "metadata": {},
   "outputs": [],
   "source": [
    "df1 = pd.DataFrame(data)"
   ]
  },
  {
   "cell_type": "code",
   "execution_count": 50,
   "id": "67b6172e-3d7d-489f-aaf5-8af11c97b211",
   "metadata": {},
   "outputs": [
    {
     "data": {
      "text/html": [
       "<div>\n",
       "<style scoped>\n",
       "    .dataframe tbody tr th:only-of-type {\n",
       "        vertical-align: middle;\n",
       "    }\n",
       "\n",
       "    .dataframe tbody tr th {\n",
       "        vertical-align: top;\n",
       "    }\n",
       "\n",
       "    .dataframe thead th {\n",
       "        text-align: right;\n",
       "    }\n",
       "</style>\n",
       "<table border=\"1\" class=\"dataframe\">\n",
       "  <thead>\n",
       "    <tr style=\"text-align: right;\">\n",
       "      <th></th>\n",
       "      <th>name</th>\n",
       "      <th>age</th>\n",
       "    </tr>\n",
       "  </thead>\n",
       "  <tbody>\n",
       "    <tr>\n",
       "      <th>0</th>\n",
       "      <td>shubham</td>\n",
       "      <td>1</td>\n",
       "    </tr>\n",
       "    <tr>\n",
       "      <th>1</th>\n",
       "      <td>Prachyet</td>\n",
       "      <td>2</td>\n",
       "    </tr>\n",
       "    <tr>\n",
       "      <th>2</th>\n",
       "      <td>mihir</td>\n",
       "      <td>3</td>\n",
       "    </tr>\n",
       "  </tbody>\n",
       "</table>\n",
       "</div>"
      ],
      "text/plain": [
       "       name  age\n",
       "0   shubham    1\n",
       "1  Prachyet    2\n",
       "2     mihir    3"
      ]
     },
     "execution_count": 50,
     "metadata": {},
     "output_type": "execute_result"
    }
   ],
   "source": [
    "df1"
   ]
  },
  {
   "cell_type": "code",
   "execution_count": null,
   "id": "60882e6a-da67-49e9-94e0-f2e5826617d0",
   "metadata": {},
   "outputs": [],
   "source": []
  }
 ],
 "metadata": {
  "kernelspec": {
   "display_name": "Python 3 (ipykernel)",
   "language": "python",
   "name": "python3"
  },
  "language_info": {
   "codemirror_mode": {
    "name": "ipython",
    "version": 3
   },
   "file_extension": ".py",
   "mimetype": "text/x-python",
   "name": "python",
   "nbconvert_exporter": "python",
   "pygments_lexer": "ipython3",
   "version": "3.10.8"
  }
 },
 "nbformat": 4,
 "nbformat_minor": 5
}
